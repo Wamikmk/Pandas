{
  "nbformat": 4,
  "nbformat_minor": 0,
  "metadata": {
    "colab": {
      "provenance": [],
      "authorship_tag": "ABX9TyOJbFeYPtPqAzTJgxAQOxn6",
      "include_colab_link": true
    },
    "kernelspec": {
      "name": "python3",
      "display_name": "Python 3"
    },
    "language_info": {
      "name": "python"
    }
  },
  "cells": [
    {
      "cell_type": "markdown",
      "metadata": {
        "id": "view-in-github",
        "colab_type": "text"
      },
      "source": [
        "<a href=\"https://colab.research.google.com/github/Wamikmk/Pandas/blob/main/pandas_Series.ipynb\" target=\"_parent\"><img src=\"https://colab.research.google.com/assets/colab-badge.svg\" alt=\"Open In Colab\"/></a>"
      ]
    },
    {
      "cell_type": "code",
      "execution_count": null,
      "metadata": {
        "id": "zgCZawCWCVsC"
      },
      "outputs": [],
      "source": [
        "import pandas as pd\n",
        "import numpy as np"
      ]
    },
    {
      "cell_type": "markdown",
      "source": [
        "### Building Series"
      ],
      "metadata": {
        "id": "TIMCufdBCgus"
      }
    },
    {
      "cell_type": "markdown",
      "source": [
        "####Series from Lists"
      ],
      "metadata": {
        "id": "WW4xIC5YC5tG"
      }
    },
    {
      "cell_type": "code",
      "source": [
        "country = ['India', 'Canada', 'Saudi', 'Qatar', 'Bahrain', 'Nepal']\n",
        "\n",
        "pd.Series(country) #pandas has a class Series, and we are creatin an object of that class.\n",
        "\n",
        "#datatype of strings is object."
      ],
      "metadata": {
        "colab": {
          "base_uri": "https://localhost:8080/"
        },
        "id": "2oAvAXYWCjrp",
        "outputId": "394ed2fc-2efd-4d6f-a5fa-25681af5c9c9"
      },
      "execution_count": null,
      "outputs": [
        {
          "output_type": "execute_result",
          "data": {
            "text/plain": [
              "0      India\n",
              "1     Canada\n",
              "2      Saudi\n",
              "3      Qatar\n",
              "4    Bahrain\n",
              "5      Nepal\n",
              "dtype: object"
            ]
          },
          "metadata": {},
          "execution_count": 23
        }
      ]
    },
    {
      "cell_type": "markdown",
      "source": [
        "####Integer"
      ],
      "metadata": {
        "id": "YE_fyx6LEeSw"
      }
    },
    {
      "cell_type": "code",
      "source": [
        "runs = [13,56,87,26,50,76]\n",
        "pd.Series(runs)"
      ],
      "metadata": {
        "colab": {
          "base_uri": "https://localhost:8080/"
        },
        "id": "k_irLRkxEgp5",
        "outputId": "74ad1933-560d-481b-f5a0-207cfea0c579"
      },
      "execution_count": null,
      "outputs": [
        {
          "output_type": "execute_result",
          "data": {
            "text/plain": [
              "0    13\n",
              "1    56\n",
              "2    87\n",
              "3    26\n",
              "4    50\n",
              "5    76\n",
              "dtype: int64"
            ]
          },
          "metadata": {},
          "execution_count": 3
        }
      ]
    },
    {
      "cell_type": "markdown",
      "source": [
        "####Custom Index"
      ],
      "metadata": {
        "id": "CsRtCTJIEqP3"
      }
    },
    {
      "cell_type": "code",
      "source": [
        "subjects = ['maths', 'english', 'science', 'history']\n",
        "marks = [67,78,82,98]\n",
        "\n",
        "pd.Series(marks, index = subjects)"
      ],
      "metadata": {
        "colab": {
          "base_uri": "https://localhost:8080/"
        },
        "id": "6BfesUD3EpYO",
        "outputId": "b9ef8b93-13f2-45e2-f961-e358e61d24c6"
      },
      "execution_count": null,
      "outputs": [
        {
          "output_type": "execute_result",
          "data": {
            "text/plain": [
              "maths      67\n",
              "english    78\n",
              "science    82\n",
              "history    98\n",
              "dtype: int64"
            ]
          },
          "metadata": {},
          "execution_count": 21
        }
      ]
    },
    {
      "cell_type": "markdown",
      "source": [
        "####Setting a Name of Series"
      ],
      "metadata": {
        "id": "AZ13Cb7cFoQh"
      }
    },
    {
      "cell_type": "code",
      "source": [
        "pd.Series(marks, name = \"myMarks\")"
      ],
      "metadata": {
        "colab": {
          "base_uri": "https://localhost:8080/"
        },
        "id": "mocwyliSFegu",
        "outputId": "c8bc00cd-7334-4888-d642-4361eb4b4440"
      },
      "execution_count": null,
      "outputs": [
        {
          "output_type": "execute_result",
          "data": {
            "text/plain": [
              "0    67\n",
              "1    78\n",
              "2    82\n",
              "3    98\n",
              "Name: myMarks, dtype: int64"
            ]
          },
          "metadata": {},
          "execution_count": 5
        }
      ]
    },
    {
      "cell_type": "markdown",
      "source": [
        "####Using a dictionary"
      ],
      "metadata": {
        "id": "p3B5sb-DFwr5"
      }
    },
    {
      "cell_type": "code",
      "source": [
        "marks = {\n",
        "    'maths' : 89,\n",
        "    'english': 45,\n",
        "    'history' : 87,\n",
        "    'science' : 83\n",
        "}\n",
        "\n",
        "marks_series = pd.Series(marks, name = \"myMarks\")\n",
        "marks_series"
      ],
      "metadata": {
        "colab": {
          "base_uri": "https://localhost:8080/"
        },
        "id": "tUb4x229FzKM",
        "outputId": "b836764a-98a7-40f9-b105-feca47b7afc9"
      },
      "execution_count": null,
      "outputs": [
        {
          "output_type": "execute_result",
          "data": {
            "text/plain": [
              "maths      89\n",
              "english    45\n",
              "history    87\n",
              "science    83\n",
              "Name: myMarks, dtype: int64"
            ]
          },
          "metadata": {},
          "execution_count": 22
        }
      ]
    },
    {
      "cell_type": "markdown",
      "source": [
        "####**Note:**\n",
        "\n",
        "*   **Series is a class in pandas library.**\n",
        "*   **marks_series above is an object of Series class**\n",
        "\n"
      ],
      "metadata": {
        "id": "2Q2rDkJ6HqVl"
      }
    },
    {
      "cell_type": "markdown",
      "source": [
        "###Series Attrubutes"
      ],
      "metadata": {
        "id": "BxPPsexBHg1z"
      }
    },
    {
      "cell_type": "markdown",
      "source": [
        "#####Size"
      ],
      "metadata": {
        "id": "eYMh41YZIGb5"
      }
    },
    {
      "cell_type": "code",
      "source": [
        "marks_series"
      ],
      "metadata": {
        "colab": {
          "base_uri": "https://localhost:8080/"
        },
        "id": "PG__Dr3wINh5",
        "outputId": "640082c8-2c5d-44a2-e35a-aa07da0355c9"
      },
      "execution_count": null,
      "outputs": [
        {
          "output_type": "execute_result",
          "data": {
            "text/plain": [
              "maths      89\n",
              "english    45\n",
              "history    87\n",
              "science    83\n",
              "Name: myMarks, dtype: int64"
            ]
          },
          "metadata": {},
          "execution_count": 10
        }
      ]
    },
    {
      "cell_type": "code",
      "source": [
        "marks_series.size"
      ],
      "metadata": {
        "colab": {
          "base_uri": "https://localhost:8080/"
        },
        "id": "EavhnE_mHgTx",
        "outputId": "df9dcc46-33ba-4725-9bcd-480d12ac6ca3"
      },
      "execution_count": null,
      "outputs": [
        {
          "output_type": "execute_result",
          "data": {
            "text/plain": [
              "4"
            ]
          },
          "metadata": {},
          "execution_count": 9
        }
      ]
    },
    {
      "cell_type": "markdown",
      "source": [
        "#####data type"
      ],
      "metadata": {
        "id": "os502IpaIV57"
      }
    },
    {
      "cell_type": "code",
      "source": [
        "marks_series.dtype"
      ],
      "metadata": {
        "colab": {
          "base_uri": "https://localhost:8080/"
        },
        "id": "yI6ZYPh_GNI7",
        "outputId": "7757be55-2b31-42a5-e60e-d8243e975441"
      },
      "execution_count": null,
      "outputs": [
        {
          "output_type": "execute_result",
          "data": {
            "text/plain": [
              "dtype('int64')"
            ]
          },
          "metadata": {},
          "execution_count": 12
        }
      ]
    },
    {
      "cell_type": "markdown",
      "source": [
        "#####Name"
      ],
      "metadata": {
        "id": "vhLN1mfAI7gV"
      }
    },
    {
      "cell_type": "code",
      "source": [
        "marks_series.name"
      ],
      "metadata": {
        "colab": {
          "base_uri": "https://localhost:8080/",
          "height": 36
        },
        "id": "fdS0N7hfI84a",
        "outputId": "af4cb5bd-4e2d-4ed4-832d-01b5dbea038b"
      },
      "execution_count": null,
      "outputs": [
        {
          "output_type": "execute_result",
          "data": {
            "text/plain": [
              "'myMarks'"
            ],
            "application/vnd.google.colaboratory.intrinsic+json": {
              "type": "string"
            }
          },
          "metadata": {},
          "execution_count": 13
        }
      ]
    },
    {
      "cell_type": "markdown",
      "source": [
        "#####is_unique"
      ],
      "metadata": {
        "id": "5-7fhavvJCP8"
      }
    },
    {
      "cell_type": "code",
      "source": [
        "marks_series.is_unique"
      ],
      "metadata": {
        "colab": {
          "base_uri": "https://localhost:8080/"
        },
        "id": "ElsuPwmqJD-A",
        "outputId": "14af1c25-0dc1-4613-8b58-fa09fe8568fc"
      },
      "execution_count": null,
      "outputs": [
        {
          "output_type": "execute_result",
          "data": {
            "text/plain": [
              "True"
            ]
          },
          "metadata": {},
          "execution_count": 14
        }
      ]
    },
    {
      "cell_type": "markdown",
      "source": [
        "#####Index"
      ],
      "metadata": {
        "id": "1u81oVS4JKx9"
      }
    },
    {
      "cell_type": "code",
      "source": [
        "marks_series.index"
      ],
      "metadata": {
        "colab": {
          "base_uri": "https://localhost:8080/"
        },
        "id": "rqCz3iZgJMAz",
        "outputId": "05750a8a-6d04-4f1d-e56a-4f39bd696858"
      },
      "execution_count": null,
      "outputs": [
        {
          "output_type": "execute_result",
          "data": {
            "text/plain": [
              "Index(['maths', 'english', 'history', 'science'], dtype='object')"
            ]
          },
          "metadata": {},
          "execution_count": 15
        }
      ]
    },
    {
      "cell_type": "markdown",
      "source": [
        "#####Values\n",
        "\n",
        "Output is a numpy array"
      ],
      "metadata": {
        "id": "EwzSW0F0Jo4b"
      }
    },
    {
      "cell_type": "code",
      "source": [
        "marks_series.values"
      ],
      "metadata": {
        "colab": {
          "base_uri": "https://localhost:8080/"
        },
        "id": "DiTkKO9XJqJ7",
        "outputId": "6728ff9b-cd2f-412c-c12b-e897793a84a5"
      },
      "execution_count": null,
      "outputs": [
        {
          "output_type": "execute_result",
          "data": {
            "text/plain": [
              "array([89, 45, 87, 83])"
            ]
          },
          "metadata": {},
          "execution_count": 16
        }
      ]
    },
    {
      "cell_type": "markdown",
      "source": [
        "####Series Using CSV"
      ],
      "metadata": {
        "id": "WHy5caSzKDrR"
      }
    },
    {
      "cell_type": "code",
      "source": [
        "subs = pd.read_csv(\"/content/subs.csv\", squeeze = True)\n",
        "# CSv with One col\n",
        "# pd.read_csv gives back a dataframe by default\n",
        "# squeeze = True is an additional parameter which is passed to obtain series."
      ],
      "metadata": {
        "colab": {
          "base_uri": "https://localhost:8080/"
        },
        "id": "JmO3v7wnKGGQ",
        "outputId": "e2a9ca43-67a3-4652-c4e4-4219d7b83452"
      },
      "execution_count": null,
      "outputs": [
        {
          "output_type": "stream",
          "name": "stderr",
          "text": [
            "<ipython-input-4-01f0956eb248>:1: FutureWarning: The squeeze argument has been deprecated and will be removed in a future version. Append .squeeze(\"columns\") to the call to squeeze.\n",
            "\n",
            "\n",
            "  subs = pd.read_csv(\"/content/subs.csv\", squeeze = True)\n"
          ]
        }
      ]
    },
    {
      "cell_type": "code",
      "source": [
        "vk = pd.read_csv(\"/content/kohli_ipl.csv\", index_col = \"match_no\", squeeze = True)\n",
        "#CSV with more than one col."
      ],
      "metadata": {
        "colab": {
          "base_uri": "https://localhost:8080/"
        },
        "id": "GtiTAW2hL82z",
        "outputId": "005becb4-e4e9-4ac8-b0c5-3419bd77efc7"
      },
      "execution_count": null,
      "outputs": [
        {
          "output_type": "stream",
          "name": "stderr",
          "text": [
            "<ipython-input-5-126b6f25ed94>:1: FutureWarning: The squeeze argument has been deprecated and will be removed in a future version. Append .squeeze(\"columns\") to the call to squeeze.\n",
            "\n",
            "\n",
            "  vk = pd.read_csv(\"/content/kohli_ipl.csv\", index_col = \"match_no\", squeeze = True)\n"
          ]
        }
      ]
    },
    {
      "cell_type": "code",
      "source": [
        "movies = pd.read_csv(\"/content/bollywood.csv\", index_col = \"movie\", squeeze = True)"
      ],
      "metadata": {
        "colab": {
          "base_uri": "https://localhost:8080/"
        },
        "id": "Oq6EiEU-N47u",
        "outputId": "3dce4e29-eeaa-47d8-818b-9da12565b045"
      },
      "execution_count": null,
      "outputs": [
        {
          "output_type": "stream",
          "name": "stderr",
          "text": [
            "<ipython-input-6-80fe6cc4736f>:1: FutureWarning: The squeeze argument has been deprecated and will be removed in a future version. Append .squeeze(\"columns\") to the call to squeeze.\n",
            "\n",
            "\n",
            "  movies = pd.read_csv(\"/content/bollywood.csv\", index_col = \"movie\", squeeze = True)\n"
          ]
        }
      ]
    },
    {
      "cell_type": "markdown",
      "source": [
        "####Preview of dataset\n",
        "##### First five datapoints : Head()\n",
        "##### last five: Tail()"
      ],
      "metadata": {
        "id": "-9D918AySqSu"
      }
    },
    {
      "cell_type": "code",
      "source": [
        "vk.head()"
      ],
      "metadata": {
        "colab": {
          "base_uri": "https://localhost:8080/"
        },
        "id": "XycTAi6ySkgo",
        "outputId": "a3e58e9c-6c5e-4823-ede2-964a8670023f"
      },
      "execution_count": null,
      "outputs": [
        {
          "output_type": "execute_result",
          "data": {
            "text/plain": [
              "match_no\n",
              "1     1\n",
              "2    23\n",
              "3    13\n",
              "4    12\n",
              "5     1\n",
              "Name: runs, dtype: int64"
            ]
          },
          "metadata": {},
          "execution_count": 25
        }
      ]
    },
    {
      "cell_type": "markdown",
      "source": [
        "Random data point from the dataset"
      ],
      "metadata": {
        "id": "oz_N06aPTJPH"
      }
    },
    {
      "cell_type": "code",
      "source": [
        "movies.sample()"
      ],
      "metadata": {
        "colab": {
          "base_uri": "https://localhost:8080/"
        },
        "id": "oxfFHnUITF6I",
        "outputId": "c56a85fd-b82e-486e-d6c6-90b3da0972d7"
      },
      "execution_count": null,
      "outputs": [
        {
          "output_type": "execute_result",
          "data": {
            "text/plain": [
              "movie\n",
              "A Flying Jatt    Tiger Shroff\n",
              "Name: lead, dtype: object"
            ]
          },
          "metadata": {},
          "execution_count": 28
        }
      ]
    },
    {
      "cell_type": "markdown",
      "source": [
        "#### Value Counts\n",
        "\n",
        "#####Frequency of values in descending order"
      ],
      "metadata": {
        "id": "3Q0Vy8AYTxSD"
      }
    },
    {
      "cell_type": "code",
      "source": [
        "movies.value_counts()"
      ],
      "metadata": {
        "colab": {
          "base_uri": "https://localhost:8080/"
        },
        "id": "A3mAv9opTUW6",
        "outputId": "4d28c706-14f0-4cd9-89ae-3925e6b07366"
      },
      "execution_count": null,
      "outputs": [
        {
          "output_type": "execute_result",
          "data": {
            "text/plain": [
              "Akshay Kumar        48\n",
              "Amitabh Bachchan    45\n",
              "Ajay Devgn          38\n",
              "Salman Khan         31\n",
              "Sanjay Dutt         26\n",
              "                    ..\n",
              "Diganth              1\n",
              "Parveen Kaur         1\n",
              "Seema Azmi           1\n",
              "Akanksha Puri        1\n",
              "Edwin Fernandes      1\n",
              "Name: lead, Length: 566, dtype: int64"
            ]
          },
          "metadata": {},
          "execution_count": 29
        }
      ]
    },
    {
      "cell_type": "markdown",
      "source": [],
      "metadata": {
        "id": "mG1ZXE1tUUwt"
      }
    },
    {
      "cell_type": "markdown",
      "source": [
        "####Sort Values"
      ],
      "metadata": {
        "id": "GghOwk9fUWp4"
      }
    },
    {
      "cell_type": "code",
      "source": [
        "highest_score = vk.sort_values(ascending = False).head(1).values[0] #method chaining\n",
        "highest_score\n",
        "type(highest_score)"
      ],
      "metadata": {
        "colab": {
          "base_uri": "https://localhost:8080/"
        },
        "id": "PdawNAUcUVX5",
        "outputId": "02606ab8-53c8-4bdf-8bd0-5a03279669e7"
      },
      "execution_count": null,
      "outputs": [
        {
          "output_type": "execute_result",
          "data": {
            "text/plain": [
              "numpy.int64"
            ]
          },
          "metadata": {},
          "execution_count": 36
        }
      ]
    },
    {
      "cell_type": "markdown",
      "source": [
        "#####sort index"
      ],
      "metadata": {
        "id": "fI9bKGBXWY_K"
      }
    },
    {
      "cell_type": "code",
      "source": [
        "movies.sort_index()"
      ],
      "metadata": {
        "colab": {
          "base_uri": "https://localhost:8080/"
        },
        "id": "rBdbjUokWbA9",
        "outputId": "dba40492-8f9a-43a8-f1a5-0727e4491ae9"
      },
      "execution_count": null,
      "outputs": [
        {
          "output_type": "execute_result",
          "data": {
            "text/plain": [
              "movie\n",
              "1920 (film)                   Rajniesh Duggall\n",
              "1920: London                     Sharman Joshi\n",
              "1920: The Evil Returns             Vicky Ahuja\n",
              "1971 (2007 film)                Manoj Bajpayee\n",
              "2 States (2014 film)              Arjun Kapoor\n",
              "                                   ...        \n",
              "Zindagi 50-50                      Veena Malik\n",
              "Zindagi Na Milegi Dobara        Hrithik Roshan\n",
              "Zindagi Tere Naam           Mithun Chakraborty\n",
              "Zokkomon                       Darsheel Safary\n",
              "Zor Lagaa Ke...Haiya!            Meghan Jadhav\n",
              "Name: lead, Length: 1500, dtype: object"
            ]
          },
          "metadata": {},
          "execution_count": 37
        }
      ]
    },
    {
      "cell_type": "markdown",
      "source": [
        "####Series Maths Methods"
      ],
      "metadata": {
        "id": "j1TbX_RcXdl5"
      }
    },
    {
      "cell_type": "code",
      "source": [
        "#Count() fetches all rows minus those with missing data.\n",
        "vk.count()"
      ],
      "metadata": {
        "colab": {
          "base_uri": "https://localhost:8080/"
        },
        "id": "JMqPG16SXgDX",
        "outputId": "de71ae68-3e64-412f-94ed-bef8d7b10fa1"
      },
      "execution_count": null,
      "outputs": [
        {
          "output_type": "execute_result",
          "data": {
            "text/plain": [
              "215"
            ]
          },
          "metadata": {},
          "execution_count": 39
        }
      ]
    },
    {
      "cell_type": "code",
      "source": [
        "#sum adds the values of whole series.\n",
        "subs.sum()"
      ],
      "metadata": {
        "colab": {
          "base_uri": "https://localhost:8080/"
        },
        "id": "yyFyFO_7YOyM",
        "outputId": "82ef4c09-5a33-4102-83d9-15023f0e1844"
      },
      "execution_count": null,
      "outputs": [
        {
          "output_type": "execute_result",
          "data": {
            "text/plain": [
              "49510"
            ]
          },
          "metadata": {},
          "execution_count": 40
        }
      ]
    },
    {
      "cell_type": "markdown",
      "source": [
        "###Stastical Methods\n"
      ],
      "metadata": {
        "id": "G7N0j3f2zrvX"
      }
    },
    {
      "cell_type": "markdown",
      "source": [
        "Mean, Median, Mode"
      ],
      "metadata": {
        "id": "6Jvuy1oEzxnY"
      }
    },
    {
      "cell_type": "code",
      "source": [
        "subs.mean()"
      ],
      "metadata": {
        "colab": {
          "base_uri": "https://localhost:8080/"
        },
        "id": "luz9qRXPzw5w",
        "outputId": "eb417170-b505-4b88-af52-5ceae06122af"
      },
      "execution_count": null,
      "outputs": [
        {
          "output_type": "execute_result",
          "data": {
            "text/plain": [
              "135.64383561643837"
            ]
          },
          "metadata": {},
          "execution_count": 5
        }
      ]
    },
    {
      "cell_type": "code",
      "source": [
        "vk.median()"
      ],
      "metadata": {
        "colab": {
          "base_uri": "https://localhost:8080/"
        },
        "id": "OHIcnikQz6e-",
        "outputId": "53762f96-89b7-4599-86fb-298611c0058d"
      },
      "execution_count": null,
      "outputs": [
        {
          "output_type": "execute_result",
          "data": {
            "text/plain": [
              "24.0"
            ]
          },
          "metadata": {},
          "execution_count": 6
        }
      ]
    },
    {
      "cell_type": "code",
      "source": [
        "movies.mode()"
      ],
      "metadata": {
        "colab": {
          "base_uri": "https://localhost:8080/"
        },
        "id": "F_EcvMUwz9IF",
        "outputId": "8ac12d4b-a8d9-4277-a868-85dcccf3888e"
      },
      "execution_count": null,
      "outputs": [
        {
          "output_type": "execute_result",
          "data": {
            "text/plain": [
              "0    Akshay Kumar\n",
              "Name: lead, dtype: object"
            ]
          },
          "metadata": {},
          "execution_count": 7
        }
      ]
    },
    {
      "cell_type": "code",
      "source": [
        "subs.std()"
      ],
      "metadata": {
        "colab": {
          "base_uri": "https://localhost:8080/"
        },
        "id": "R5hNTE4b0pab",
        "outputId": "3f8a1fdd-091f-4bb1-e2a4-bc91abab272a"
      },
      "execution_count": null,
      "outputs": [
        {
          "output_type": "execute_result",
          "data": {
            "text/plain": [
              "62.6750230372527"
            ]
          },
          "metadata": {},
          "execution_count": 9
        }
      ]
    },
    {
      "cell_type": "code",
      "source": [
        "vk.var()"
      ],
      "metadata": {
        "colab": {
          "base_uri": "https://localhost:8080/"
        },
        "id": "hJtlX9fB0x8Y",
        "outputId": "9dc77610-7a33-4d74-f07b-56aedb32e36b"
      },
      "execution_count": null,
      "outputs": [
        {
          "output_type": "execute_result",
          "data": {
            "text/plain": [
              "688.0024777222343"
            ]
          },
          "metadata": {},
          "execution_count": 10
        }
      ]
    },
    {
      "cell_type": "code",
      "source": [
        "subs.min()"
      ],
      "metadata": {
        "colab": {
          "base_uri": "https://localhost:8080/"
        },
        "id": "zPG-Razp03BV",
        "outputId": "512edba1-0cca-4d0b-c30f-a29eaae12244"
      },
      "execution_count": null,
      "outputs": [
        {
          "output_type": "execute_result",
          "data": {
            "text/plain": [
              "33"
            ]
          },
          "metadata": {},
          "execution_count": 11
        }
      ]
    },
    {
      "cell_type": "code",
      "source": [
        "subs.max()"
      ],
      "metadata": {
        "colab": {
          "base_uri": "https://localhost:8080/"
        },
        "id": "7jTBHZbe05t8",
        "outputId": "08b66cfe-1720-4f39-d395-bd92bdcfd04d"
      },
      "execution_count": null,
      "outputs": [
        {
          "output_type": "execute_result",
          "data": {
            "text/plain": [
              "396"
            ]
          },
          "metadata": {},
          "execution_count": 12
        }
      ]
    },
    {
      "cell_type": "markdown",
      "source": [
        "####Describe"
      ],
      "metadata": {
        "id": "SD8GdmrM-qoo"
      }
    },
    {
      "cell_type": "code",
      "source": [
        "vk.describe()"
      ],
      "metadata": {
        "colab": {
          "base_uri": "https://localhost:8080/"
        },
        "id": "GF20Ijny-sC2",
        "outputId": "08f77b24-21c3-4cdb-f2f0-dd5cb1af25b3"
      },
      "execution_count": null,
      "outputs": [
        {
          "output_type": "execute_result",
          "data": {
            "text/plain": [
              "count    215.000000\n",
              "mean      30.855814\n",
              "std       26.229801\n",
              "min        0.000000\n",
              "25%        9.000000\n",
              "50%       24.000000\n",
              "75%       48.000000\n",
              "max      113.000000\n",
              "Name: runs, dtype: float64"
            ]
          },
          "metadata": {},
          "execution_count": 7
        }
      ]
    },
    {
      "cell_type": "markdown",
      "source": [
        "####Series Indexing\n",
        "##### Indexing works similar to python\n",
        "##### Negative indexing does not work."
      ],
      "metadata": {
        "id": "Zsqo22aBAZx2"
      }
    },
    {
      "cell_type": "code",
      "source": [
        "nums = [3,4,5,6,7,9,34,56]\n",
        "numbers = pd.Series(nums)\n",
        "numbers[3]"
      ],
      "metadata": {
        "colab": {
          "base_uri": "https://localhost:8080/"
        },
        "id": "WzfdUu1VAdWy",
        "outputId": "07be87c0-cd4d-4f36-b581-69fe9f50d09e"
      },
      "execution_count": null,
      "outputs": [
        {
          "output_type": "execute_result",
          "data": {
            "text/plain": [
              "6"
            ]
          },
          "metadata": {},
          "execution_count": 10
        }
      ]
    },
    {
      "cell_type": "markdown",
      "source": [
        "#####Series where default index has been over-written by some custom/categorical index we can fetch the data point using both the default index and the custom/categorical index."
      ],
      "metadata": {
        "id": "TnnpIDunBJ-J"
      }
    },
    {
      "cell_type": "code",
      "source": [
        "movies[2]"
      ],
      "metadata": {
        "colab": {
          "base_uri": "https://localhost:8080/",
          "height": 36
        },
        "id": "3_mqZkNUAmql",
        "outputId": "36880301-93e8-431c-a329-7f3684dc8b92"
      },
      "execution_count": null,
      "outputs": [
        {
          "output_type": "execute_result",
          "data": {
            "text/plain": [
              "'Anupam Kher'"
            ],
            "application/vnd.google.colaboratory.intrinsic+json": {
              "type": "string"
            }
          },
          "metadata": {},
          "execution_count": 11
        }
      ]
    },
    {
      "cell_type": "code",
      "source": [
        "movies['The Accidental Prime Minister (film)']"
      ],
      "metadata": {
        "colab": {
          "base_uri": "https://localhost:8080/",
          "height": 36
        },
        "id": "n4_CHs3ZBrk8",
        "outputId": "5fa4d7ed-4657-416c-ae3d-f8ebc799c6e0"
      },
      "execution_count": null,
      "outputs": [
        {
          "output_type": "execute_result",
          "data": {
            "text/plain": [
              "'Anupam Kher'"
            ],
            "application/vnd.google.colaboratory.intrinsic+json": {
              "type": "string"
            }
          },
          "metadata": {},
          "execution_count": 14
        }
      ]
    },
    {
      "cell_type": "code",
      "source": [
        "movies.head(5)"
      ],
      "metadata": {
        "colab": {
          "base_uri": "https://localhost:8080/"
        },
        "id": "zsMy27W3Bifu",
        "outputId": "e6a01897-a990-425f-ccf2-0d5678a01b64"
      },
      "execution_count": null,
      "outputs": [
        {
          "output_type": "execute_result",
          "data": {
            "text/plain": [
              "movie\n",
              "Uri: The Surgical Strike                   Vicky Kaushal\n",
              "Battalion 609                                Vicky Ahuja\n",
              "The Accidental Prime Minister (film)         Anupam Kher\n",
              "Why Cheat India                            Emraan Hashmi\n",
              "Evening Shadows                         Mona Ambegaonkar\n",
              "Name: lead, dtype: object"
            ]
          },
          "metadata": {},
          "execution_count": 13
        }
      ]
    },
    {
      "cell_type": "code",
      "source": [
        "movies[-1]\n",
        "#negative index works when we use custom indexing."
      ],
      "metadata": {
        "colab": {
          "base_uri": "https://localhost:8080/",
          "height": 36
        },
        "id": "ax75Q9jUCJSJ",
        "outputId": "769b720f-db2b-449f-f68c-7a6eba3d799b"
      },
      "execution_count": null,
      "outputs": [
        {
          "output_type": "execute_result",
          "data": {
            "text/plain": [
              "'Akshay Kumar'"
            ],
            "application/vnd.google.colaboratory.intrinsic+json": {
              "type": "string"
            }
          },
          "metadata": {},
          "execution_count": 15
        }
      ]
    },
    {
      "cell_type": "markdown",
      "source": [
        "####Slicing"
      ],
      "metadata": {
        "id": "Y-lS2XQhCbyv"
      }
    },
    {
      "cell_type": "code",
      "source": [
        "vk[5:16:2] #[start: end : step]"
      ],
      "metadata": {
        "colab": {
          "base_uri": "https://localhost:8080/"
        },
        "id": "ODAxff3aCdO-",
        "outputId": "6a4c1e1f-3b94-4888-b38b-b3931586c051"
      },
      "execution_count": null,
      "outputs": [
        {
          "output_type": "execute_result",
          "data": {
            "text/plain": [
              "match_no\n",
              "6      9\n",
              "8      0\n",
              "10     3\n",
              "12    38\n",
              "14    11\n",
              "16     2\n",
              "Name: runs, dtype: int64"
            ]
          },
          "metadata": {},
          "execution_count": 17
        }
      ]
    },
    {
      "cell_type": "markdown",
      "source": [
        "####fancy Indexing"
      ],
      "metadata": {
        "id": "y02xF9qEC2E6"
      }
    },
    {
      "cell_type": "code",
      "source": [
        "vk[[1,3,6,7]]"
      ],
      "metadata": {
        "colab": {
          "base_uri": "https://localhost:8080/"
        },
        "id": "uWEuPN28C4QG",
        "outputId": "3ba70367-00d2-4dc2-8ffc-2f3e3f7aa12c"
      },
      "execution_count": null,
      "outputs": [
        {
          "output_type": "execute_result",
          "data": {
            "text/plain": [
              "match_no\n",
              "1     1\n",
              "3    13\n",
              "6     9\n",
              "7    34\n",
              "Name: runs, dtype: int64"
            ]
          },
          "metadata": {},
          "execution_count": 19
        }
      ]
    },
    {
      "cell_type": "markdown",
      "source": [
        "####Editing Index"
      ],
      "metadata": {
        "id": "60a8d2IaD0zl"
      }
    },
    {
      "cell_type": "code",
      "source": [
        "marks_series"
      ],
      "metadata": {
        "colab": {
          "base_uri": "https://localhost:8080/"
        },
        "id": "Y5JiVGMND2ou",
        "outputId": "ec5ecfbe-3b17-454b-d989-8ff4e675ff0b"
      },
      "execution_count": null,
      "outputs": [
        {
          "output_type": "execute_result",
          "data": {
            "text/plain": [
              "maths      89\n",
              "english    45\n",
              "history    87\n",
              "science    83\n",
              "Name: myMarks, dtype: int64"
            ]
          },
          "metadata": {},
          "execution_count": 23
        }
      ]
    },
    {
      "cell_type": "markdown",
      "source": [
        "#####Change marks of english"
      ],
      "metadata": {
        "id": "ZeuIddsyED5A"
      }
    },
    {
      "cell_type": "code",
      "source": [
        "marks_series['english'] = 95\n",
        "#marks_series[1]"
      ],
      "metadata": {
        "id": "XaeSlxXgEG3y"
      },
      "execution_count": null,
      "outputs": []
    },
    {
      "cell_type": "code",
      "source": [
        "marks_series"
      ],
      "metadata": {
        "colab": {
          "base_uri": "https://localhost:8080/"
        },
        "id": "qHP9k8FcESt8",
        "outputId": "daa286e7-a69f-4102-d155-9b9239dc2066"
      },
      "execution_count": null,
      "outputs": [
        {
          "output_type": "execute_result",
          "data": {
            "text/plain": [
              "maths      89\n",
              "english    95\n",
              "history    87\n",
              "science    83\n",
              "Name: myMarks, dtype: int64"
            ]
          },
          "metadata": {},
          "execution_count": 26
        }
      ]
    },
    {
      "cell_type": "markdown",
      "source": [
        "####Editing Using Slicing"
      ],
      "metadata": {
        "id": "atvmy7W9E3ai"
      }
    },
    {
      "cell_type": "code",
      "source": [
        "marks_series[2:4] = [90,90]"
      ],
      "metadata": {
        "id": "jM32tv28E60z"
      },
      "execution_count": null,
      "outputs": []
    },
    {
      "cell_type": "code",
      "source": [
        "marks_series"
      ],
      "metadata": {
        "id": "nwrhbXLmFEF5",
        "outputId": "d6936193-9581-4d1c-cb4a-700423e0d19e",
        "colab": {
          "base_uri": "https://localhost:8080/"
        }
      },
      "execution_count": 29,
      "outputs": [
        {
          "output_type": "execute_result",
          "data": {
            "text/plain": [
              "maths      89\n",
              "english    95\n",
              "history    90\n",
              "science    90\n",
              "Name: myMarks, dtype: int64"
            ]
          },
          "metadata": {},
          "execution_count": 29
        }
      ]
    },
    {
      "cell_type": "markdown",
      "source": [
        "####Series with python Functionalities"
      ],
      "metadata": {
        "id": "w8wqZucUJtkW"
      }
    },
    {
      "cell_type": "markdown",
      "source": [
        "#####Build-In Functions"
      ],
      "metadata": {
        "id": "1mAf0WjiJz2j"
      }
    },
    {
      "cell_type": "code",
      "source": [
        "len(subs)"
      ],
      "metadata": {
        "colab": {
          "base_uri": "https://localhost:8080/"
        },
        "id": "G6WiReo0Jy17",
        "outputId": "e3f96fb4-f258-4a44-ddd1-4d32d1be1ffb"
      },
      "execution_count": 30,
      "outputs": [
        {
          "output_type": "execute_result",
          "data": {
            "text/plain": [
              "365"
            ]
          },
          "metadata": {},
          "execution_count": 30
        }
      ]
    },
    {
      "cell_type": "code",
      "source": [
        "type(subs)"
      ],
      "metadata": {
        "colab": {
          "base_uri": "https://localhost:8080/",
          "height": 204
        },
        "id": "oU8MHsfMJ8Vd",
        "outputId": "2c269c46-5e96-4dd3-aa2c-01d9b234a582"
      },
      "execution_count": 31,
      "outputs": [
        {
          "output_type": "execute_result",
          "data": {
            "text/plain": [
              "pandas.core.series.Series"
            ],
            "text/html": [
              "<div style=\"max-width:800px; border: 1px solid var(--colab-border-color);\"><style>\n",
              "      pre.function-repr-contents {\n",
              "        overflow-x: auto;\n",
              "        padding: 8px 12px;\n",
              "        max-height: 500px;\n",
              "      }\n",
              "\n",
              "      pre.function-repr-contents.function-repr-contents-collapsed {\n",
              "        cursor: pointer;\n",
              "        max-height: 100px;\n",
              "      }\n",
              "    </style>\n",
              "    <pre style=\"white-space: initial; background:\n",
              "         var(--colab-secondary-surface-color); padding: 8px 12px;\n",
              "         border-bottom: 1px solid var(--colab-border-color);\"><b>pandas.core.series.Series</b><br/>def __init__(data=None, index=None, dtype: Dtype | None=None, name=None, copy: bool=False, fastpath: bool=False) -&gt; None</pre><pre class=\"function-repr-contents function-repr-contents-collapsed\" style=\"\"><a class=\"filepath\" style=\"display:none\" href=\"#\">/usr/local/lib/python3.10/dist-packages/pandas/core/series.py</a>One-dimensional ndarray with axis labels (including time series).\n",
              "\n",
              "Labels need not be unique but must be a hashable type. The object\n",
              "supports both integer- and label-based indexing and provides a host of\n",
              "methods for performing operations involving the index. Statistical\n",
              "methods from ndarray have been overridden to automatically exclude\n",
              "missing data (currently represented as NaN).\n",
              "\n",
              "Operations between Series (+, -, /, \\*, \\*\\*) align values based on their\n",
              "associated index values-- they need not be the same length. The result\n",
              "index will be the sorted union of the two indexes.\n",
              "\n",
              "Parameters\n",
              "----------\n",
              "data : array-like, Iterable, dict, or scalar value\n",
              "    Contains data stored in Series. If data is a dict, argument order is\n",
              "    maintained.\n",
              "index : array-like or Index (1d)\n",
              "    Values must be hashable and have the same length as `data`.\n",
              "    Non-unique index values are allowed. Will default to\n",
              "    RangeIndex (0, 1, 2, ..., n) if not provided. If data is dict-like\n",
              "    and index is None, then the keys in the data are used as the index. If the\n",
              "    index is not None, the resulting Series is reindexed with the index values.\n",
              "dtype : str, numpy.dtype, or ExtensionDtype, optional\n",
              "    Data type for the output Series. If not specified, this will be\n",
              "    inferred from `data`.\n",
              "    See the :ref:`user guide &lt;basics.dtypes&gt;` for more usages.\n",
              "name : str, optional\n",
              "    The name to give to the Series.\n",
              "copy : bool, default False\n",
              "    Copy input data. Only affects Series or 1d ndarray input. See examples.\n",
              "\n",
              "Notes\n",
              "-----\n",
              "Please reference the :ref:`User Guide &lt;basics.series&gt;` for more information.\n",
              "\n",
              "Examples\n",
              "--------\n",
              "Constructing Series from a dictionary with an Index specified\n",
              "\n",
              "&gt;&gt;&gt; d = {&#x27;a&#x27;: 1, &#x27;b&#x27;: 2, &#x27;c&#x27;: 3}\n",
              "&gt;&gt;&gt; ser = pd.Series(data=d, index=[&#x27;a&#x27;, &#x27;b&#x27;, &#x27;c&#x27;])\n",
              "&gt;&gt;&gt; ser\n",
              "a   1\n",
              "b   2\n",
              "c   3\n",
              "dtype: int64\n",
              "\n",
              "The keys of the dictionary match with the Index values, hence the Index\n",
              "values have no effect.\n",
              "\n",
              "&gt;&gt;&gt; d = {&#x27;a&#x27;: 1, &#x27;b&#x27;: 2, &#x27;c&#x27;: 3}\n",
              "&gt;&gt;&gt; ser = pd.Series(data=d, index=[&#x27;x&#x27;, &#x27;y&#x27;, &#x27;z&#x27;])\n",
              "&gt;&gt;&gt; ser\n",
              "x   NaN\n",
              "y   NaN\n",
              "z   NaN\n",
              "dtype: float64\n",
              "\n",
              "Note that the Index is first build with the keys from the dictionary.\n",
              "After this the Series is reindexed with the given Index values, hence we\n",
              "get all NaN as a result.\n",
              "\n",
              "Constructing Series from a list with `copy=False`.\n",
              "\n",
              "&gt;&gt;&gt; r = [1, 2]\n",
              "&gt;&gt;&gt; ser = pd.Series(r, copy=False)\n",
              "&gt;&gt;&gt; ser.iloc[0] = 999\n",
              "&gt;&gt;&gt; r\n",
              "[1, 2]\n",
              "&gt;&gt;&gt; ser\n",
              "0    999\n",
              "1      2\n",
              "dtype: int64\n",
              "\n",
              "Due to input data type the Series has a `copy` of\n",
              "the original data even though `copy=False`, so\n",
              "the data is unchanged.\n",
              "\n",
              "Constructing Series from a 1d ndarray with `copy=False`.\n",
              "\n",
              "&gt;&gt;&gt; r = np.array([1, 2])\n",
              "&gt;&gt;&gt; ser = pd.Series(r, copy=False)\n",
              "&gt;&gt;&gt; ser.iloc[0] = 999\n",
              "&gt;&gt;&gt; r\n",
              "array([999,   2])\n",
              "&gt;&gt;&gt; ser\n",
              "0    999\n",
              "1      2\n",
              "dtype: int64\n",
              "\n",
              "Due to input data type the Series has a `view` on\n",
              "the original data, so\n",
              "the data is changed as well.</pre>\n",
              "      <script>\n",
              "      if (google.colab.kernel.accessAllowed && google.colab.files && google.colab.files.view) {\n",
              "        for (const element of document.querySelectorAll('.filepath')) {\n",
              "          element.style.display = 'block'\n",
              "          element.onclick = (event) => {\n",
              "            event.preventDefault();\n",
              "            event.stopPropagation();\n",
              "            google.colab.files.view(element.textContent, 216);\n",
              "          };\n",
              "        }\n",
              "      }\n",
              "      for (const element of document.querySelectorAll('.function-repr-contents')) {\n",
              "        element.onclick = (event) => {\n",
              "          event.preventDefault();\n",
              "          event.stopPropagation();\n",
              "          element.classList.toggle('function-repr-contents-collapsed');\n",
              "        };\n",
              "      }\n",
              "      </script>\n",
              "      </div>"
            ]
          },
          "metadata": {},
          "execution_count": 31
        }
      ]
    },
    {
      "cell_type": "markdown",
      "source": [
        "####All functions"
      ],
      "metadata": {
        "id": "5Ld218YLKMS5"
      }
    },
    {
      "cell_type": "code",
      "source": [
        "dir(subs)"
      ],
      "metadata": {
        "colab": {
          "base_uri": "https://localhost:8080/"
        },
        "id": "P5yN_lJWKJqN",
        "outputId": "d081aec5-6581-4a45-9aac-10ec4e53046c"
      },
      "execution_count": 32,
      "outputs": [
        {
          "output_type": "execute_result",
          "data": {
            "text/plain": [
              "['T',\n",
              " '_AXIS_LEN',\n",
              " '_AXIS_ORDERS',\n",
              " '_AXIS_TO_AXIS_NUMBER',\n",
              " '_HANDLED_TYPES',\n",
              " '__abs__',\n",
              " '__add__',\n",
              " '__and__',\n",
              " '__annotations__',\n",
              " '__array__',\n",
              " '__array_priority__',\n",
              " '__array_ufunc__',\n",
              " '__array_wrap__',\n",
              " '__bool__',\n",
              " '__class__',\n",
              " '__contains__',\n",
              " '__copy__',\n",
              " '__deepcopy__',\n",
              " '__delattr__',\n",
              " '__delitem__',\n",
              " '__dict__',\n",
              " '__dir__',\n",
              " '__divmod__',\n",
              " '__doc__',\n",
              " '__eq__',\n",
              " '__finalize__',\n",
              " '__float__',\n",
              " '__floordiv__',\n",
              " '__format__',\n",
              " '__ge__',\n",
              " '__getattr__',\n",
              " '__getattribute__',\n",
              " '__getitem__',\n",
              " '__getstate__',\n",
              " '__gt__',\n",
              " '__hash__',\n",
              " '__iadd__',\n",
              " '__iand__',\n",
              " '__ifloordiv__',\n",
              " '__imod__',\n",
              " '__imul__',\n",
              " '__init__',\n",
              " '__init_subclass__',\n",
              " '__int__',\n",
              " '__invert__',\n",
              " '__ior__',\n",
              " '__ipow__',\n",
              " '__isub__',\n",
              " '__iter__',\n",
              " '__itruediv__',\n",
              " '__ixor__',\n",
              " '__le__',\n",
              " '__len__',\n",
              " '__long__',\n",
              " '__lt__',\n",
              " '__matmul__',\n",
              " '__mod__',\n",
              " '__module__',\n",
              " '__mul__',\n",
              " '__ne__',\n",
              " '__neg__',\n",
              " '__new__',\n",
              " '__nonzero__',\n",
              " '__or__',\n",
              " '__pos__',\n",
              " '__pow__',\n",
              " '__radd__',\n",
              " '__rand__',\n",
              " '__rdivmod__',\n",
              " '__reduce__',\n",
              " '__reduce_ex__',\n",
              " '__repr__',\n",
              " '__rfloordiv__',\n",
              " '__rmatmul__',\n",
              " '__rmod__',\n",
              " '__rmul__',\n",
              " '__ror__',\n",
              " '__round__',\n",
              " '__rpow__',\n",
              " '__rsub__',\n",
              " '__rtruediv__',\n",
              " '__rxor__',\n",
              " '__setattr__',\n",
              " '__setitem__',\n",
              " '__setstate__',\n",
              " '__sizeof__',\n",
              " '__str__',\n",
              " '__sub__',\n",
              " '__subclasshook__',\n",
              " '__truediv__',\n",
              " '__weakref__',\n",
              " '__xor__',\n",
              " '_accessors',\n",
              " '_accum_func',\n",
              " '_add_numeric_operations',\n",
              " '_agg_by_level',\n",
              " '_agg_examples_doc',\n",
              " '_agg_see_also_doc',\n",
              " '_align_frame',\n",
              " '_align_series',\n",
              " '_append',\n",
              " '_arith_method',\n",
              " '_as_manager',\n",
              " '_attrs',\n",
              " '_binop',\n",
              " '_can_hold_na',\n",
              " '_check_inplace_and_allows_duplicate_labels',\n",
              " '_check_inplace_setting',\n",
              " '_check_is_chained_assignment_possible',\n",
              " '_check_label_or_level_ambiguity',\n",
              " '_check_setitem_copy',\n",
              " '_clear_item_cache',\n",
              " '_clip_with_one_bound',\n",
              " '_clip_with_scalar',\n",
              " '_cmp_method',\n",
              " '_consolidate',\n",
              " '_consolidate_inplace',\n",
              " '_construct_axes_dict',\n",
              " '_construct_axes_from_arguments',\n",
              " '_construct_result',\n",
              " '_constructor',\n",
              " '_constructor_expanddim',\n",
              " '_convert',\n",
              " '_convert_dtypes',\n",
              " '_data',\n",
              " '_dir_additions',\n",
              " '_dir_deletions',\n",
              " '_drop_axis',\n",
              " '_drop_labels_or_levels',\n",
              " '_duplicated',\n",
              " '_find_valid_index',\n",
              " '_flags',\n",
              " '_get_axis',\n",
              " '_get_axis_name',\n",
              " '_get_axis_number',\n",
              " '_get_axis_resolvers',\n",
              " '_get_block_manager_axis',\n",
              " '_get_bool_data',\n",
              " '_get_cacher',\n",
              " '_get_cleaned_column_resolvers',\n",
              " '_get_index_resolvers',\n",
              " '_get_label_or_level_values',\n",
              " '_get_numeric_data',\n",
              " '_get_value',\n",
              " '_get_values',\n",
              " '_get_values_tuple',\n",
              " '_get_with',\n",
              " '_gotitem',\n",
              " '_hidden_attrs',\n",
              " '_indexed_same',\n",
              " '_info_axis',\n",
              " '_info_axis_name',\n",
              " '_info_axis_number',\n",
              " '_init_dict',\n",
              " '_init_mgr',\n",
              " '_inplace_method',\n",
              " '_internal_names',\n",
              " '_internal_names_set',\n",
              " '_is_cached',\n",
              " '_is_copy',\n",
              " '_is_label_or_level_reference',\n",
              " '_is_label_reference',\n",
              " '_is_level_reference',\n",
              " '_is_mixed_type',\n",
              " '_is_view',\n",
              " '_item_cache',\n",
              " '_ixs',\n",
              " '_logical_func',\n",
              " '_logical_method',\n",
              " '_map_values',\n",
              " '_maybe_update_cacher',\n",
              " '_memory_usage',\n",
              " '_metadata',\n",
              " '_mgr',\n",
              " '_min_count_stat_function',\n",
              " '_name',\n",
              " '_needs_reindex_multi',\n",
              " '_protect_consolidate',\n",
              " '_reduce',\n",
              " '_reindex_axes',\n",
              " '_reindex_indexer',\n",
              " '_reindex_multi',\n",
              " '_reindex_with_indexers',\n",
              " '_rename',\n",
              " '_replace_single',\n",
              " '_repr_data_resource_',\n",
              " '_repr_latex_',\n",
              " '_reset_cache',\n",
              " '_reset_cacher',\n",
              " '_set_as_cached',\n",
              " '_set_axis',\n",
              " '_set_axis_name',\n",
              " '_set_axis_nocheck',\n",
              " '_set_is_copy',\n",
              " '_set_labels',\n",
              " '_set_name',\n",
              " '_set_value',\n",
              " '_set_values',\n",
              " '_set_with',\n",
              " '_set_with_engine',\n",
              " '_slice',\n",
              " '_stat_axis',\n",
              " '_stat_axis_name',\n",
              " '_stat_axis_number',\n",
              " '_stat_function',\n",
              " '_stat_function_ddof',\n",
              " '_take',\n",
              " '_take_with_is_copy',\n",
              " '_typ',\n",
              " '_update_inplace',\n",
              " '_validate_dtype',\n",
              " '_values',\n",
              " '_where',\n",
              " 'abs',\n",
              " 'add',\n",
              " 'add_prefix',\n",
              " 'add_suffix',\n",
              " 'agg',\n",
              " 'aggregate',\n",
              " 'align',\n",
              " 'all',\n",
              " 'any',\n",
              " 'append',\n",
              " 'apply',\n",
              " 'argmax',\n",
              " 'argmin',\n",
              " 'argsort',\n",
              " 'array',\n",
              " 'asfreq',\n",
              " 'asof',\n",
              " 'astype',\n",
              " 'at',\n",
              " 'at_time',\n",
              " 'attrs',\n",
              " 'autocorr',\n",
              " 'axes',\n",
              " 'backfill',\n",
              " 'between',\n",
              " 'between_time',\n",
              " 'bfill',\n",
              " 'bool',\n",
              " 'clip',\n",
              " 'combine',\n",
              " 'combine_first',\n",
              " 'compare',\n",
              " 'convert_dtypes',\n",
              " 'copy',\n",
              " 'corr',\n",
              " 'count',\n",
              " 'cov',\n",
              " 'cummax',\n",
              " 'cummin',\n",
              " 'cumprod',\n",
              " 'cumsum',\n",
              " 'describe',\n",
              " 'diff',\n",
              " 'div',\n",
              " 'divide',\n",
              " 'divmod',\n",
              " 'dot',\n",
              " 'drop',\n",
              " 'drop_duplicates',\n",
              " 'droplevel',\n",
              " 'dropna',\n",
              " 'dtype',\n",
              " 'dtypes',\n",
              " 'duplicated',\n",
              " 'empty',\n",
              " 'eq',\n",
              " 'equals',\n",
              " 'ewm',\n",
              " 'expanding',\n",
              " 'explode',\n",
              " 'factorize',\n",
              " 'ffill',\n",
              " 'fillna',\n",
              " 'filter',\n",
              " 'first',\n",
              " 'first_valid_index',\n",
              " 'flags',\n",
              " 'floordiv',\n",
              " 'ge',\n",
              " 'get',\n",
              " 'groupby',\n",
              " 'gt',\n",
              " 'hasnans',\n",
              " 'head',\n",
              " 'hist',\n",
              " 'iat',\n",
              " 'idxmax',\n",
              " 'idxmin',\n",
              " 'iloc',\n",
              " 'index',\n",
              " 'infer_objects',\n",
              " 'info',\n",
              " 'interpolate',\n",
              " 'is_monotonic',\n",
              " 'is_monotonic_decreasing',\n",
              " 'is_monotonic_increasing',\n",
              " 'is_unique',\n",
              " 'isin',\n",
              " 'isna',\n",
              " 'isnull',\n",
              " 'item',\n",
              " 'items',\n",
              " 'iteritems',\n",
              " 'keys',\n",
              " 'kurt',\n",
              " 'kurtosis',\n",
              " 'last',\n",
              " 'last_valid_index',\n",
              " 'le',\n",
              " 'loc',\n",
              " 'lt',\n",
              " 'mad',\n",
              " 'map',\n",
              " 'mask',\n",
              " 'max',\n",
              " 'mean',\n",
              " 'median',\n",
              " 'memory_usage',\n",
              " 'min',\n",
              " 'mod',\n",
              " 'mode',\n",
              " 'mul',\n",
              " 'multiply',\n",
              " 'name',\n",
              " 'nbytes',\n",
              " 'ndim',\n",
              " 'ne',\n",
              " 'nlargest',\n",
              " 'notna',\n",
              " 'notnull',\n",
              " 'nsmallest',\n",
              " 'nunique',\n",
              " 'pad',\n",
              " 'pct_change',\n",
              " 'pipe',\n",
              " 'plot',\n",
              " 'pop',\n",
              " 'pow',\n",
              " 'prod',\n",
              " 'product',\n",
              " 'quantile',\n",
              " 'radd',\n",
              " 'rank',\n",
              " 'ravel',\n",
              " 'rdiv',\n",
              " 'rdivmod',\n",
              " 'reindex',\n",
              " 'reindex_like',\n",
              " 'rename',\n",
              " 'rename_axis',\n",
              " 'reorder_levels',\n",
              " 'repeat',\n",
              " 'replace',\n",
              " 'resample',\n",
              " 'reset_index',\n",
              " 'rfloordiv',\n",
              " 'rmod',\n",
              " 'rmul',\n",
              " 'rolling',\n",
              " 'round',\n",
              " 'rpow',\n",
              " 'rsub',\n",
              " 'rtruediv',\n",
              " 'sample',\n",
              " 'searchsorted',\n",
              " 'sem',\n",
              " 'set_axis',\n",
              " 'set_flags',\n",
              " 'shape',\n",
              " 'shift',\n",
              " 'size',\n",
              " 'skew',\n",
              " 'slice_shift',\n",
              " 'sort_index',\n",
              " 'sort_values',\n",
              " 'squeeze',\n",
              " 'std',\n",
              " 'sub',\n",
              " 'subtract',\n",
              " 'sum',\n",
              " 'swapaxes',\n",
              " 'swaplevel',\n",
              " 'tail',\n",
              " 'take',\n",
              " 'to_clipboard',\n",
              " 'to_csv',\n",
              " 'to_dict',\n",
              " 'to_excel',\n",
              " 'to_frame',\n",
              " 'to_hdf',\n",
              " 'to_json',\n",
              " 'to_latex',\n",
              " 'to_list',\n",
              " 'to_markdown',\n",
              " 'to_numpy',\n",
              " 'to_period',\n",
              " 'to_pickle',\n",
              " 'to_sql',\n",
              " 'to_string',\n",
              " 'to_timestamp',\n",
              " 'to_xarray',\n",
              " 'transform',\n",
              " 'transpose',\n",
              " 'truediv',\n",
              " 'truncate',\n",
              " 'tz_convert',\n",
              " 'tz_localize',\n",
              " 'unique',\n",
              " 'unstack',\n",
              " 'update',\n",
              " 'value_counts',\n",
              " 'values',\n",
              " 'var',\n",
              " 'view',\n",
              " 'where',\n",
              " 'xs']"
            ]
          },
          "metadata": {},
          "execution_count": 32
        }
      ]
    },
    {
      "cell_type": "code",
      "source": [
        "sorted(subs)"
      ],
      "metadata": {
        "colab": {
          "base_uri": "https://localhost:8080/"
        },
        "id": "ka45Aj5KKUny",
        "outputId": "ba31d90e-e373-4d94-e315-b6e6c174a2cd"
      },
      "execution_count": 33,
      "outputs": [
        {
          "output_type": "execute_result",
          "data": {
            "text/plain": [
              "[33,\n",
              " 33,\n",
              " 35,\n",
              " 37,\n",
              " 39,\n",
              " 40,\n",
              " 40,\n",
              " 40,\n",
              " 40,\n",
              " 42,\n",
              " 42,\n",
              " 43,\n",
              " 44,\n",
              " 44,\n",
              " 44,\n",
              " 45,\n",
              " 46,\n",
              " 46,\n",
              " 48,\n",
              " 49,\n",
              " 49,\n",
              " 49,\n",
              " 49,\n",
              " 50,\n",
              " 50,\n",
              " 50,\n",
              " 51,\n",
              " 54,\n",
              " 56,\n",
              " 56,\n",
              " 56,\n",
              " 56,\n",
              " 57,\n",
              " 61,\n",
              " 62,\n",
              " 64,\n",
              " 65,\n",
              " 65,\n",
              " 66,\n",
              " 66,\n",
              " 66,\n",
              " 66,\n",
              " 67,\n",
              " 68,\n",
              " 70,\n",
              " 70,\n",
              " 70,\n",
              " 71,\n",
              " 71,\n",
              " 72,\n",
              " 72,\n",
              " 72,\n",
              " 72,\n",
              " 72,\n",
              " 73,\n",
              " 74,\n",
              " 74,\n",
              " 75,\n",
              " 76,\n",
              " 76,\n",
              " 76,\n",
              " 76,\n",
              " 77,\n",
              " 77,\n",
              " 78,\n",
              " 78,\n",
              " 78,\n",
              " 79,\n",
              " 79,\n",
              " 80,\n",
              " 80,\n",
              " 80,\n",
              " 81,\n",
              " 81,\n",
              " 82,\n",
              " 82,\n",
              " 83,\n",
              " 83,\n",
              " 83,\n",
              " 84,\n",
              " 84,\n",
              " 84,\n",
              " 85,\n",
              " 86,\n",
              " 86,\n",
              " 86,\n",
              " 87,\n",
              " 87,\n",
              " 87,\n",
              " 87,\n",
              " 88,\n",
              " 88,\n",
              " 88,\n",
              " 88,\n",
              " 88,\n",
              " 89,\n",
              " 89,\n",
              " 89,\n",
              " 90,\n",
              " 90,\n",
              " 90,\n",
              " 90,\n",
              " 91,\n",
              " 92,\n",
              " 92,\n",
              " 92,\n",
              " 93,\n",
              " 93,\n",
              " 93,\n",
              " 93,\n",
              " 95,\n",
              " 95,\n",
              " 96,\n",
              " 96,\n",
              " 96,\n",
              " 96,\n",
              " 97,\n",
              " 97,\n",
              " 98,\n",
              " 98,\n",
              " 99,\n",
              " 99,\n",
              " 100,\n",
              " 100,\n",
              " 100,\n",
              " 101,\n",
              " 101,\n",
              " 101,\n",
              " 102,\n",
              " 102,\n",
              " 103,\n",
              " 103,\n",
              " 104,\n",
              " 104,\n",
              " 104,\n",
              " 105,\n",
              " 105,\n",
              " 105,\n",
              " 105,\n",
              " 105,\n",
              " 105,\n",
              " 105,\n",
              " 105,\n",
              " 105,\n",
              " 108,\n",
              " 108,\n",
              " 108,\n",
              " 108,\n",
              " 108,\n",
              " 108,\n",
              " 109,\n",
              " 109,\n",
              " 110,\n",
              " 110,\n",
              " 110,\n",
              " 111,\n",
              " 111,\n",
              " 112,\n",
              " 113,\n",
              " 113,\n",
              " 113,\n",
              " 114,\n",
              " 114,\n",
              " 114,\n",
              " 114,\n",
              " 115,\n",
              " 115,\n",
              " 115,\n",
              " 115,\n",
              " 117,\n",
              " 117,\n",
              " 117,\n",
              " 118,\n",
              " 118,\n",
              " 119,\n",
              " 119,\n",
              " 119,\n",
              " 119,\n",
              " 120,\n",
              " 122,\n",
              " 123,\n",
              " 123,\n",
              " 123,\n",
              " 123,\n",
              " 123,\n",
              " 124,\n",
              " 125,\n",
              " 126,\n",
              " 127,\n",
              " 128,\n",
              " 128,\n",
              " 129,\n",
              " 130,\n",
              " 131,\n",
              " 131,\n",
              " 132,\n",
              " 132,\n",
              " 134,\n",
              " 134,\n",
              " 134,\n",
              " 135,\n",
              " 135,\n",
              " 136,\n",
              " 136,\n",
              " 136,\n",
              " 137,\n",
              " 138,\n",
              " 138,\n",
              " 138,\n",
              " 139,\n",
              " 140,\n",
              " 144,\n",
              " 145,\n",
              " 146,\n",
              " 146,\n",
              " 146,\n",
              " 146,\n",
              " 147,\n",
              " 149,\n",
              " 150,\n",
              " 150,\n",
              " 150,\n",
              " 150,\n",
              " 151,\n",
              " 152,\n",
              " 152,\n",
              " 152,\n",
              " 153,\n",
              " 153,\n",
              " 153,\n",
              " 154,\n",
              " 154,\n",
              " 154,\n",
              " 155,\n",
              " 155,\n",
              " 156,\n",
              " 156,\n",
              " 156,\n",
              " 156,\n",
              " 157,\n",
              " 157,\n",
              " 157,\n",
              " 157,\n",
              " 158,\n",
              " 158,\n",
              " 159,\n",
              " 159,\n",
              " 160,\n",
              " 160,\n",
              " 160,\n",
              " 160,\n",
              " 162,\n",
              " 164,\n",
              " 166,\n",
              " 167,\n",
              " 167,\n",
              " 168,\n",
              " 170,\n",
              " 170,\n",
              " 170,\n",
              " 170,\n",
              " 171,\n",
              " 172,\n",
              " 172,\n",
              " 173,\n",
              " 173,\n",
              " 173,\n",
              " 174,\n",
              " 174,\n",
              " 175,\n",
              " 175,\n",
              " 176,\n",
              " 176,\n",
              " 177,\n",
              " 178,\n",
              " 179,\n",
              " 179,\n",
              " 180,\n",
              " 180,\n",
              " 180,\n",
              " 182,\n",
              " 183,\n",
              " 183,\n",
              " 183,\n",
              " 184,\n",
              " 184,\n",
              " 184,\n",
              " 185,\n",
              " 185,\n",
              " 185,\n",
              " 185,\n",
              " 186,\n",
              " 186,\n",
              " 186,\n",
              " 188,\n",
              " 189,\n",
              " 190,\n",
              " 190,\n",
              " 192,\n",
              " 192,\n",
              " 192,\n",
              " 196,\n",
              " 196,\n",
              " 196,\n",
              " 197,\n",
              " 197,\n",
              " 202,\n",
              " 202,\n",
              " 202,\n",
              " 203,\n",
              " 204,\n",
              " 206,\n",
              " 207,\n",
              " 209,\n",
              " 210,\n",
              " 210,\n",
              " 211,\n",
              " 212,\n",
              " 213,\n",
              " 214,\n",
              " 216,\n",
              " 219,\n",
              " 220,\n",
              " 221,\n",
              " 221,\n",
              " 222,\n",
              " 222,\n",
              " 224,\n",
              " 225,\n",
              " 225,\n",
              " 226,\n",
              " 227,\n",
              " 228,\n",
              " 229,\n",
              " 230,\n",
              " 231,\n",
              " 233,\n",
              " 236,\n",
              " 236,\n",
              " 237,\n",
              " 241,\n",
              " 243,\n",
              " 244,\n",
              " 245,\n",
              " 247,\n",
              " 249,\n",
              " 254,\n",
              " 254,\n",
              " 258,\n",
              " 259,\n",
              " 259,\n",
              " 261,\n",
              " 261,\n",
              " 265,\n",
              " 267,\n",
              " 268,\n",
              " 269,\n",
              " 276,\n",
              " 276,\n",
              " 290,\n",
              " 295,\n",
              " 301,\n",
              " 306,\n",
              " 312,\n",
              " 396]"
            ]
          },
          "metadata": {},
          "execution_count": 33
        }
      ]
    },
    {
      "cell_type": "code",
      "source": [
        "max(subs)"
      ],
      "metadata": {
        "colab": {
          "base_uri": "https://localhost:8080/"
        },
        "id": "EUlTLedCKZs4",
        "outputId": "aa6d8917-5366-4d9c-e683-f5791910a54e"
      },
      "execution_count": 34,
      "outputs": [
        {
          "output_type": "execute_result",
          "data": {
            "text/plain": [
              "396"
            ]
          },
          "metadata": {},
          "execution_count": 34
        }
      ]
    },
    {
      "cell_type": "code",
      "source": [
        "min(subs)"
      ],
      "metadata": {
        "colab": {
          "base_uri": "https://localhost:8080/"
        },
        "id": "DkKo5BV1Kd7q",
        "outputId": "8bed4162-8c2c-4b54-b715-57366e499d8a"
      },
      "execution_count": 35,
      "outputs": [
        {
          "output_type": "execute_result",
          "data": {
            "text/plain": [
              "33"
            ]
          },
          "metadata": {},
          "execution_count": 35
        }
      ]
    },
    {
      "cell_type": "markdown",
      "source": [
        "####Converting serie into list and dictionary."
      ],
      "metadata": {
        "id": "6R_om5SLKsCA"
      }
    },
    {
      "cell_type": "code",
      "source": [
        "list(marks_series)"
      ],
      "metadata": {
        "colab": {
          "base_uri": "https://localhost:8080/"
        },
        "id": "0JyUgr2gKwAS",
        "outputId": "35448afd-1d31-417a-8730-1e73ccb079e1"
      },
      "execution_count": 36,
      "outputs": [
        {
          "output_type": "execute_result",
          "data": {
            "text/plain": [
              "[89, 95, 90, 90]"
            ]
          },
          "metadata": {},
          "execution_count": 36
        }
      ]
    },
    {
      "cell_type": "code",
      "source": [
        "dict(marks_series)"
      ],
      "metadata": {
        "colab": {
          "base_uri": "https://localhost:8080/"
        },
        "id": "bxgHQxrCK0u6",
        "outputId": "2379aacf-e003-4f23-e223-00cd968bd780"
      },
      "execution_count": 38,
      "outputs": [
        {
          "output_type": "execute_result",
          "data": {
            "text/plain": [
              "{'maths': 89, 'english': 95, 'history': 90, 'science': 90}"
            ]
          },
          "metadata": {},
          "execution_count": 38
        }
      ]
    },
    {
      "cell_type": "markdown",
      "source": [
        "####Membership operator\n",
        "#####In Operator\n",
        "######Works on index"
      ],
      "metadata": {
        "id": "5K5f-gcGLMQI"
      }
    },
    {
      "cell_type": "code",
      "source": [
        "\"Saathiya (film)\" in  movies"
      ],
      "metadata": {
        "colab": {
          "base_uri": "https://localhost:8080/"
        },
        "id": "Er95qpltLLpN",
        "outputId": "ed174e58-9604-4c0a-91ca-d6ea4df4035d"
      },
      "execution_count": 43,
      "outputs": [
        {
          "output_type": "execute_result",
          "data": {
            "text/plain": [
              "True"
            ]
          },
          "metadata": {},
          "execution_count": 43
        }
      ]
    },
    {
      "cell_type": "markdown",
      "source": [
        "#####Check for memebership in values."
      ],
      "metadata": {
        "id": "wxywhnuvLwSV"
      }
    },
    {
      "cell_type": "code",
      "source": [
        "\"Shah Rukh Khan\" in movies.values"
      ],
      "metadata": {
        "colab": {
          "base_uri": "https://localhost:8080/"
        },
        "id": "hBSsKZ_ZLk3I",
        "outputId": "42562522-ed9e-4f25-b239-0dd2320c6940"
      },
      "execution_count": 44,
      "outputs": [
        {
          "output_type": "execute_result",
          "data": {
            "text/plain": [
              "True"
            ]
          },
          "metadata": {},
          "execution_count": 44
        }
      ]
    },
    {
      "cell_type": "markdown",
      "source": [
        "####Looping"
      ],
      "metadata": {
        "id": "UshObLbBL6-B"
      }
    },
    {
      "cell_type": "code",
      "source": [
        "for i in movies: #prints values\n",
        "  print(i)"
      ],
      "metadata": {
        "colab": {
          "base_uri": "https://localhost:8080/"
        },
        "id": "x0uz2SevL-O_",
        "outputId": "c9d87f19-8eef-4798-9b87-f4d12e27a654"
      },
      "execution_count": 45,
      "outputs": [
        {
          "output_type": "stream",
          "name": "stdout",
          "text": [
            "Vicky Kaushal\n",
            "Vicky Ahuja\n",
            "Anupam Kher\n",
            "Emraan Hashmi\n",
            "Mona Ambegaonkar\n",
            "Geetika Vidya Ohlyan\n",
            "Arshad Warsi\n",
            "Radhika Apte\n",
            "Kangana Ranaut\n",
            "Nawazuddin Siddiqui\n",
            "Ali Asgar\n",
            "Ranveer Singh\n",
            "Prit Kamani\n",
            "Ajay Devgn\n",
            "Sushant Singh Rajput\n",
            "Amitabh Bachchan\n",
            "Abhimanyu Dasani\n",
            "Talha Arshad Reshi\n",
            "Nawazuddin Siddiqui\n",
            "Garima Agarwal\n",
            "Rasika Agashe\n",
            "Barun Sobti\n",
            "Akshay Kumar\n",
            "Zaheer Iqbal\n",
            "Vidyut Jammwal\n",
            "Deepika Amin\n",
            "Manav Kaul\n",
            "Naseeruddin Shah\n",
            "Varun Dhawan\n",
            "Shreyas Talpade\n",
            "Tiger Shroff\n",
            "Boman Irani\n",
            "Ajay Devgn\n",
            "Arjun Kapoor\n",
            "Gavie Chahal\n",
            "Prabhu Deva\n",
            "Shahid Kapoor\n",
            "Ayushmann Khurrana\n",
            "Anupam Kher\n",
            "Karanvir Bohra\n",
            "Hrithik Roshan\n",
            "Jimmy Sheirgill\n",
            "John Abraham\n",
            "Rishi Kapoor\n",
            "Kangana Ranaut\n",
            "Natalia Janoszek\n",
            "Diljit Dosanjh\n",
            "Sidharth Malhotra\n",
            "Rajeev Khandelwal\n",
            "Zaira Wasim\n",
            "Akshay Kumar\n",
            "Jacqueline Fernandez\n",
            "Ayushmann Khurrana\n",
            "Akshaye Khanna\n",
            "Sonam Kapoor\n",
            "Karan Deol\n",
            "Sanjay Dutt\n",
            "Bhavesh Kumar\n",
            "Sanaya Irani\n",
            "Ayushmann Khurrana\n",
            "Siddhanth Kapoor\n",
            "Akshay Kumar\n",
            "Taapsee Pannu\n",
            "Rajkummar Rao\n",
            "Sunny Singh Nijjar\n",
            "Neil Nitin Mukesh\n",
            "Suraj Pancholi\n",
            "Boman Irani\n",
            "Riteish Deshmukh\n",
            "Nawazuddin Siddiqui\n",
            "Shahbaaz Khan\n",
            "Kriti Kharbanda\n",
            "Naseeruddin Shah\n",
            "Vardhan Puri\n",
            "Sushant Singh Rajput\n",
            "Kartik Aaryan\n",
            "Vidyut Jammwal\n",
            "Rani Mukerji\n",
            "Salman Khan\n",
            "Akshay Kumar\n",
            "Saif Ali Khan\n",
            "Kay Kay Menon\n",
            "Nora Fatehi\n",
            "Ashmit Patel\n",
            "Viineet Kumar\n",
            "Rahul Bhat\n",
            "Vicky Kaushal\n",
            "Sidharth Malhotra\n",
            "Deepika Padukone\n",
            "Geetanjali Thapa\n",
            "Akshay Anand\n",
            "Pulkit Samrat\n",
            "Kartik Aaryan\n",
            "Lee Byford\n",
            "Taapsee Pannu\n",
            "Aisha Ahmed\n",
            "Ajay Devgn\n",
            "Rani Mukerji\n",
            "Manoj Bajpayee\n",
            "Tiger Shroff\n",
            "Varun Dhawan\n",
            "Prabhu Deva\n",
            "Ishaan Khattar\n",
            "Abhay Deol\n",
            "Yogesh Raj Mishra\n",
            "Rajkummar Rao\n",
            "Alia Bhatt\n",
            "Naseeruddin Shah\n",
            "Sumeet Vyas\n",
            "Vinay Pathak\n",
            "John Abraham\n",
            "Danny Denzongpa\n",
            "Harshvardhan Kapoor\n",
            "Jimmy Sheirgill\n",
            "Anil Kapoor\n",
            "Ishaan Khattar\n",
            "Ranbir Kapoor\n",
            "Sanjay Dutt\n",
            "Dharmesh Yelande\n",
            "Taapsee Pannu\n",
            "Arjun Mathur\n",
            "Irrfan Khan\n",
            "Akshay Kumar\n",
            "John Abraham\n",
            "Sonakshi Sinha\n",
            "Utkarsh Sharma\n",
            "Dharmendra\n",
            "Rajkummar Rao\n",
            "Jackie Shroff\n",
            "Avinash Tiwary\n",
            "Manoj Bajpayee\n",
            "Paoli Dam\n",
            "Sanya Malhotra\n",
            "Shahid Kapoor\n",
            "Abhishek Bharate\n",
            "Nawazuddin Siddiqui\n",
            "Manish Anand\n",
            "Taapsee Pannu\n",
            "Jackky Bhagnani\n",
            "Anushka Sharma\n",
            "Radhika Apte\n",
            "Rhea Chakraborty\n",
            "Govinda\n",
            "Sohum Shah\n",
            "Kajol\n",
            "Arjun Kapoor\n",
            "Ayushmann Khurrana\n",
            "Ayushmann Khurrana\n",
            "Nargis Fakhri\n",
            "Aishwarya Devan\n",
            "Neil Nitin Mukesh\n",
            "Shakti Kapoor\n",
            "Amit Sadh\n",
            "Sunny Deol\n",
            "Rahul Bagga\n",
            "Sunny Deol\n",
            "Amyra Dastur\n",
            "Shah Rukh Khan\n",
            "Ranveer Singh\n",
            "Salman Khan\n",
            "Ajay Devgn\n",
            "Varun Dhawan\n",
            "Shraddha Kapoor\n",
            "Sunil Grover\n",
            "Hrithik Roshan\n",
            "Raj Arjun\n",
            "Aamir Khan\n",
            "Gurmeet Ram Rahim Singh\n",
            "Arsh Bajwa\n",
            "Rana Daggubati\n",
            "Naseeruddin Shah\n",
            "Kangana Ranaut\n",
            "Nana Patekar\n",
            "Arbaaz Khan\n",
            "Varun Dhawan\n",
            "Rajkummar Rao\n",
            "Govinda\n",
            "Rajat Kapoor\n",
            "Anushka Sharma\n",
            "Kiara Advani\n",
            "Shaurya Singh\n",
            "Pankaj Tripathi\n",
            "Taapsee Pannu\n",
            "Adil Hussain\n",
            "Amitabh Bachchan\n",
            "Sunny Leone\n",
            "Hema Malini\n",
            "Raveena Tandon\n",
            "Amitabh Bachchan\n",
            "Amardeep Insan\n",
            "Shraddha Kapoor\n",
            "Ayushmann Khurrana\n",
            "Sachin Tendulkar\n",
            "Irrfan Khan\n",
            "Himansh Kohli\n",
            "Adil Hussain\n",
            "Jayesh Raj\n",
            "Manisha Koirala\n",
            "Deepika Padukone\n",
            "Rajkummar Rao\n",
            "Salman Khan\n",
            "Riteish Deshmukh\n",
            "Shiv Darshan\n",
            "Ranbir Kapoor\n",
            "Ashish Bisht\n",
            "Aahana Kumra\n",
            "Manoj Babani\n",
            "Rajveer Ankur Singh\n",
            "Kirti Kulhari\n",
            "Shah Rukh Khan\n",
            "Tiger Shroff\n",
            "Akshay Kumar\n",
            "Anil Kapoor\n",
            "Kartik Aaryan\n",
            "Ayushmann Khurrana\n",
            "Nawazuddin Siddiqui\n",
            "Prisha Aneja\n",
            "Aadar Jain\n",
            "Ayushmann Khurrana\n",
            "Kunal Kapoor\n",
            "Arjun Rampal\n",
            "Kangana Ranaut\n",
            "Farhan Akhtar\n",
            "Sidharth Malhotra\n",
            "Hugh Bonneville\n",
            "Rishi Kapoor\n",
            "Rajkummar Rao\n",
            "Kunaal Roy Kapur\n",
            "Sunny Leone\n",
            "Shraddha Kapoor\n",
            "Rina Charaniya\n",
            "Nawazuddin Siddiqui\n",
            "Sunny Deol\n",
            "Sridevi\n",
            "Saif Ali Khan\n",
            "Soundarya Sharma\n",
            "Sudha Chandran\n",
            "Manoj Bajpayee\n",
            "Zaira Wasim\n",
            "Prakash Belawadi\n",
            "Kalki Koechlin\n",
            "Rajkummar Rao\n",
            "Richa Chadha\n",
            "Irrfan Khan\n",
            "Zareen Khan\n",
            "Nayna Bandhopadhyay\n",
            "Vidya Balan\n",
            "Nishikant Kamat\n",
            "Sanjay Mishra\n",
            "Kapil Sharma\n",
            "Pulkit Samrat\n",
            "Vijay Varma\n",
            "Sushama Deshpande\n",
            "Richa Chadha\n",
            "Prince Shah\n",
            "Tanima Bhattacharya\n",
            "Akshay Kumar\n",
            "Zeenat Aman\n",
            "Madhavan\n",
            "Tusshar Kapoor\n",
            "Tusshar Kapoor\n",
            "Himansh Kohli\n",
            "Sadhana Singh\n",
            "Sunny Deol\n",
            "Aditya Roy Kapoor\n",
            "Rishi Kapoor\n",
            "Rajniesh Duggall\n",
            "Krishna Chaturvedi\n",
            "Girish Taurani\n",
            "Sonam Kapoor\n",
            "Sukhesh Arora\n",
            "Raima Sen\n",
            "Anuj Sachdeva\n",
            "Parthaa Akerkar\n",
            "Priyanka Chopra\n",
            "Sidharth Malhotra\n",
            "John Abraham\n",
            "Patralekhaa Paul\n",
            "Shah Rukh Khan\n",
            "Swara Bhaskar\n",
            "Randeep Hooda\n",
            "Shraddha Kapoor\n",
            "Pankaj Tripathi\n",
            "Jimmy Sheirgill\n",
            "Kartik Elangovan\n",
            "Boman Irani\n",
            "Manoj Bajpayee\n",
            "Sharman Joshi\n",
            "Emraan Hashmi\n",
            "Aanchal Dwivedi\n",
            "Sanjay Singh\n",
            "Arvind Swamy\n",
            "Radhika Apte\n",
            "Randeep Hooda\n",
            "Sachiin Joshi\n",
            "Kajal Aggarwal\n",
            "Amitabh Bachchan\n",
            "Shahid Kapoor\n",
            "Hazel Croney\n",
            "V. Ravichandran\n",
            "Vipin Sharma\n",
            "Nawazuddin Siddiqui\n",
            "Pulkit Samrat\n",
            "Tannishtha Chatterjee\n",
            "Krrish Chhabria\n",
            "Avinash Dhyani\n",
            "Zeenat Aman\n",
            "Salman Khan\n",
            "Shashank Arora\n",
            "Urvashi Rautela\n",
            "Naseeruddin Shah\n",
            "Sara Loren\n",
            "Tom Alter\n",
            "Irrfan Khan\n",
            "John Abraham\n",
            "Rajeev Khandelwal\n",
            "Ileana D'Cruz\n",
            "Sahil Anand\n",
            "Hrithik Roshan\n",
            "Diana Penty\n",
            "Niharica Raizada\n",
            "Tiger Shroff\n",
            "Sidharth Malhotra\n",
            "Nawazuddin Siddiqui\n",
            "Emraan Hashmi\n",
            "Taapsee Pannu\n",
            "Tannishtha Chatterjee\n",
            "Riteish Deshmukh\n",
            "Yash Soni\n",
            "Shreyas Talpade\n",
            "Vinay Pathak\n",
            "Jimmy Sharma\n",
            "Sushant Singh Rajput\n",
            "Ashok Insan\n",
            "RJ Balaji\n",
            "Saurav Chakraborty\n",
            "Shashank Udapurkar\n",
            "Shubham\n",
            "Manoj Bajpayee\n",
            "Sunny Leone\n",
            "Aashish Bhatt\n",
            "Ajay Devgn\n",
            "Ronit Roy\n",
            "Ranbir Kapoor\n",
            "Neha Sharma\n",
            "Farhan Akhtar\n",
            "John Abraham\n",
            "Alia Bhatt\n",
            "Vaani Kapoor\n",
            "Neha Dhupia\n",
            "Jimmy Sheirgill\n",
            "Sonarika Bhadoria\n",
            "Amitabh Bachchan\n",
            "Sharman Joshi\n",
            "Aamir Khan\n",
            "Harshvardhan Kapoor\n",
            "Salman Khan\n",
            "Kangana Ranaut\n",
            "Kangana Ranaut\n",
            "Soha Ali Khan\n",
            "Prabhu Deva\n",
            "Shah Rukh Khan\n",
            "Salman Khan\n",
            "Ranveer Singh\n",
            "Anil Kapoor\n",
            "Akshay Kumar\n",
            "Akshay Kumar\n",
            "Akshay Kumar\n",
            "Akshay Kumar\n",
            "Shakti Kapoor\n",
            "Bipasha Basu\n",
            "Arjun Kapoor\n",
            "Zayed Khan\n",
            "Malaika Arora\n",
            "Naman Jain\n",
            "Gurmeet Choudhary\n",
            "Kay Kay Menon\n",
            "Rati Agnihotri\n",
            "Amitabh Bachchan\n",
            "Arjun Rampal\n",
            "Varun Dhawan\n",
            "Swanand Kirkire\n",
            "Sulabha Arya\n",
            "Irrfan Khan\n",
            "Nana Patekar\n",
            "Ayushmann Khurrana\n",
            "Anupam Kher\n",
            "Gurmeet Ram Rahim Singh\n",
            "Sidhant Gupta\n",
            "Arjun Mathur\n",
            "Ganesh Acharya\n",
            "Anushka Sharma\n",
            "Gulshan Devaiah\n",
            "Sushant Singh Rajput\n",
            "Adhyayan Suman\n",
            "Vira Sathidar\n",
            "Kalki Koechlin\n",
            "Sunny Leone\n",
            "Sara Loren\n",
            "Emraan Hashmi\n",
            "Auroshika Dey\n",
            "Ira Dubey\n",
            "Naseeruddin Shah\n",
            "Vinay Pathak\n",
            "Ram Kapoor\n",
            "Deepika Padukone\n",
            "Ranbir Kapoor\n",
            "Shakti Anand\n",
            "Anil Kapoor\n",
            "Arshad Warsi\n",
            "Meenakshi Dixit\n",
            "Yash Acharya\n",
            "Rajkummar Rao\n",
            "Rahul Bagga\n",
            "Mohit Baghel\n",
            "Rishi Verma\n",
            "Mimoh Chakraborty\n",
            "Swara Bhaskar\n",
            "Richa Chadha\n",
            "Arshad Warsi\n",
            "Mugdha Godse\n",
            "Yashpal Sharma\n",
            "Dharmendra\n",
            "Sunny Deol\n",
            "Smitha Gondkar\n",
            "Kunal Kapoor\n",
            "Ajay Devgn\n",
            "Jacqueline Fernandez\n",
            "Rishi Kapoor\n",
            "Akshay Kumar\n",
            "Vinay Pathak\n",
            "Nawazuddin Siddiqui\n",
            "Bhavita Anand\n",
            "Saif Ali Khan\n",
            "Suraj Pancholi\n",
            "Shamim Khan\n",
            "Irrfan Khan\n",
            "Suhaas Ahuja\n",
            "Jaideep Ahlawat\n",
            "Charanpreet Insan\n",
            "Akanksha Puri\n",
            "Kunal Khemu\n",
            "Aishwarya Rai Bachchan\n",
            "Seema Azmi\n",
            "Parveen Kaur\n",
            "Kapil Sharma\n",
            "Kartik Aaryan\n",
            "Diganth\n",
            "Shahid Kapoor\n",
            "Nawazuddin Siddiqui\n",
            "Kunal Khemu\n",
            "Mann Bagga\n",
            "Manish Paul\n",
            "Sanjeev Kumar\n",
            "Madhuri Dixit\n",
            "Shiv Darshan\n",
            "Gopi Desai\n",
            "Mohinder Gujral\n",
            "Zeenat Aman\n",
            "Ranveer Singh\n",
            "Salman Khan\n",
            "Sidharth Malhotra\n",
            "Adhyayan Suman\n",
            "Indrapal Ahuja\n",
            "Jimmy Sheirgill\n",
            "Abhay Deol\n",
            "Sahil Anand\n",
            "Alia Bhatt\n",
            "Sampat Pal Devi\n",
            "Farhan Akhtar\n",
            "Madhuri Dixit\n",
            "Kangana Ranaut\n",
            "Ayushmann Khurrana\n",
            "Ali Zafar\n",
            "Mahek Chahal\n",
            "Monali Thakur\n",
            "Sunny Leone\n",
            "Harman Baweja\n",
            "Sanjay Mishra\n",
            "Sharman Joshi\n",
            "Sachin Khedekar\n",
            "Leeza Mangaldas\n",
            "Pulkit Samrat\n",
            "Zara Sheikh\n",
            "Arjun Kapoor\n",
            "Purab Kohli\n",
            "Amitabh Bachchan\n",
            "Varun Dhawan\n",
            "Arvinder Bhatti\n",
            "Kanika Batra\n",
            "Jackky Bhagnani\n",
            "Rajeev Khandelwal\n",
            "Tanuj Virwani\n",
            "Vijay Raaz\n",
            "Kannan Arunachalam\n",
            "Anjori Alagh\n",
            "Satish Kaushik\n",
            "Rahul Bagga\n",
            "Himesh Reshammiya\n",
            "Farooq Shaikh\n",
            "Makrand Deshpande\n",
            "Eesha Agarwal\n",
            "Siddharth Gupta\n",
            "Tiger Shroff\n",
            "Rajkummar Rao\n",
            "Sharib Hashmi\n",
            "Kangana Ranaut\n",
            "Kartik Aaryan\n",
            "Swara Bhaskar\n",
            "Simer Motiani\n",
            "Anshuman Jha\n",
            "Sidharth Malhotra\n",
            "Vidya Balan\n",
            "Saif Ali Khan\n",
            "Varun Dhawan\n",
            "Jay Bhanushali\n",
            "Armaan Jain\n",
            "Rajesh Khanna\n",
            "Vir Das\n",
            "Akshay Kumar\n",
            "Jimmy Sheirgill\n",
            "Reshmi Ghosh\n",
            "Akshay Oberoi\n",
            "Akshay Kumar\n",
            "Anupam Kher\n",
            "Rani Mukerji\n",
            "Emraan Hashmi\n",
            "Priyanka Chopra\n",
            "Bipasha Basu\n",
            "Deepika Padukone\n",
            "Sonam Kapoor\n",
            "Salil Acharya\n",
            "Salman Khan\n",
            "Saahil Prem\n",
            "Alieesa P Badresia\n",
            "Manoj Amarnani\n",
            "Sasha Aagha\n",
            "Tabu\n",
            "Hrithik Roshan\n",
            "Rati Agnihotri\n",
            "Aditya Roy Kapoor\n",
            "Asrani\n",
            "Harshvardhan Deo\n",
            "Nikhil Dwivedi\n",
            "Karanvir Bohra\n",
            "Puru Chibber\n",
            "Soha Ali Khan\n",
            "Rhea Chakraborty\n",
            "Shah Rukh Khan\n",
            "Rekha\n",
            "Anupam Kher\n",
            "Randeep Hooda\n",
            "Akshay Kumar\n",
            "Aadil Chahal\n",
            "Shabana Azmi\n",
            "Dimple Kapadia\n",
            "Nishant Dahiya\n",
            "Ranveer Singh\n",
            "Emraan Hashmi\n",
            "Saif Ali Khan\n",
            "Vinod Acharya\n",
            "Mannara Chopra\n",
            "Prabhas\n",
            "Mischa Barton\n",
            "Shiv Panditt\n",
            "Annu Kapoor\n",
            "Barun Sobti\n",
            "Rahul Bhat\n",
            "Aamir Khan\n",
            "Adhyayan Suman\n",
            "Imran Khan\n",
            "Naveen Kasturia\n",
            "Arjun Rampal\n",
            "Sarita Joshi\n",
            "Kartik Aaryan\n",
            "Juhi Chawla\n",
            "Saif Ali Khan\n",
            "Manisha Kelkar\n",
            "Farooq Shaikh\n",
            "Akshay Kumar\n",
            "Randeep Hooda\n",
            "Vivek Oberoi\n",
            "Rajkummar Rao\n",
            "Akash\n",
            "Vishwa Mohan Badola\n",
            "Neil Nitin Mukesh\n",
            "Saqib Saleem\n",
            "Arshad Warsi\n",
            "Jimmy Sheirgill\n",
            "Asha Bhosle\n",
            "Kamal Haasan\n",
            "Jackky Bhagnani\n",
            "Aditya Roy Kapoor\n",
            "Emraan Hashmi\n",
            "Ajay Devgn\n",
            "Ayushmann Khurrana\n",
            "Vivek Oberoi\n",
            "Vidyut Jammwal\n",
            "Rani Mukerji\n",
            "Saif Ali Khan\n",
            "Riya Vij\n",
            "Arjun Kapoor\n",
            "Preity Zinta\n",
            "Veena Malik\n",
            "Ranbir Kapoor\n",
            "Pulkit Samrat\n",
            "Rupa Bhimani\n",
            "Dhanush\n",
            "Kay Kay Menon\n",
            "Neil Nitin Mukesh\n",
            "Vidya Balan\n",
            "Anupam Kher\n",
            "Sanjay Dutt\n",
            "Farhan Akhtar\n",
            "Wamiqa Gabbi\n",
            "Shadab Kamal\n",
            "Sunil Shetty\n",
            "Prateik\n",
            "Tusshar Kapoor\n",
            "Tanuj Virwani\n",
            "Poonam Pandey\n",
            "Deepak Dobriyal\n",
            "Hemant Gopal\n",
            "Joy Mukherjee\n",
            "Rishi Kapoor\n",
            "Rajesh Tailang\n",
            "Akshay Kumar\n",
            "John Abraham\n",
            "Amitabh Bachchan\n",
            "Sushant Singh Rajput\n",
            "Shruti Haasan\n",
            "Deepika Padukone\n",
            "Vivek Oberoi\n",
            "Naseeruddin Shah\n",
            "Karan Kundrra\n",
            "Shahid Kapoor\n",
            "Aida Elkashef\n",
            "Irrfan Khan\n",
            "Anisa Butt\n",
            "Akshay Kumar\n",
            "Rajkummar Rao\n",
            "Manish Paul\n",
            "Puneet Singh Ratn\n",
            "Kangana Ranaut\n",
            "Sumit Nijhawan\n",
            "Tinnu Anand\n",
            "Chandan Roy Sanyal\n",
            "Elisha Kriis\n",
            "Ashmit Patel\n",
            "Imran Khan\n",
            "Manu Rishi Chadha\n",
            "Naseeruddin Shah\n",
            "Paresh Rawal\n",
            "Saif Ali Khan\n",
            "Aamir Khan\n",
            "Ali Zafar\n",
            "Ranveer Singh\n",
            "Sharman Joshi\n",
            "Naseeruddin Shah\n",
            "Shiney Ahuja\n",
            "Karan Sharma\n",
            "Sunny Deol\n",
            "Ranveer Singh\n",
            "Hrithik Roshan\n",
            "Kareena Kapoor\n",
            "Prateik\n",
            "Kiran Bhatia\n",
            "Bipasha Basu\n",
            "Riteish Deshmukh\n",
            "Jahangir Khan\n",
            "Irrfan Khan\n",
            "Vidya Balan\n",
            "Mithun Chakraborty\n",
            "Kareena Kapoor\n",
            "Manish Chaudhary\n",
            "Kavin Dave\n",
            "Shikhi Gupta\n",
            "Archana Joglekar\n",
            "Tusshar Kapoor\n",
            "Pulkit Samrat\n",
            "Ayushmann Khurrana\n",
            "Nikhil Dwivedi\n",
            "Anil Kapoor\n",
            "Karisma Kapoor\n",
            "Arjun Kapoor\n",
            "Sanjay Dutt\n",
            "Gul Panag\n",
            "Yudhveer Bakoliya\n",
            "Kay Kay Menon\n",
            "Emraan Hashmi\n",
            "Sharman Joshi\n",
            "Shahid Kapoor\n",
            "Anupam Kher\n",
            "Anya Anand\n",
            "Julia Datt\n",
            "Manoj Bajpayee\n",
            "Manoj Bajpayee\n",
            "Saif Ali Khan\n",
            "Naresh Sharma\n",
            "Riteish Deshmukh\n",
            "Sonu Sood\n",
            "Nassar Abdulla\n",
            "Salman Khan\n",
            "Vickrant Mahajan\n",
            "Freny Bhagat\n",
            "Akshay Kumar\n",
            "Omkar Das Manikpuri\n",
            "Sunil Shetty\n",
            "Manoj Bajpayee\n",
            "Bidita Bag\n",
            "Harish Chabbra\n",
            "Ranbir Kapoor\n",
            "Kareena Kapoor\n",
            "Sagar Bhangade\n",
            "Vivek Oberoi\n",
            "Ravi Kishan\n",
            "Paresh Rawal\n",
            "Rani Mukerji\n",
            "Manoj Bajpayee\n",
            "J.D. Chakravarthi\n",
            "Cary Elwes\n",
            "Arjun Rampal\n",
            "Alia Bhatt\n",
            "Jackky Bhagnani\n",
            "Emraan Hashmi\n",
            "Vicky Ahuja\n",
            "Sunidhi Chauhan\n",
            "Asrani\n",
            "Shah Rukh Khan\n",
            "Aamir Khan\n",
            "Himanshu Bhatt\n",
            "Ajay Devgn\n",
            "Ashok Banthia\n",
            "Salman Khan\n",
            "Vinod Khanna\n",
            "Akshay Kumar\n",
            "Amitabh Bachchan\n",
            "Sridevi\n",
            "Vivek Sudershan\n",
            "Nafisa Ali\n",
            "Mohsin\n",
            "Prateik\n",
            "Gul Panag\n",
            "Vatsal Sheth\n",
            "Ajay Devgn\n",
            "Russell Geoffrey Banks\n",
            "Vinay Pathak\n",
            "Rishi Kapoor\n",
            "Priyanka Chopra\n",
            "Madhavan\n",
            "Arshad Warsi\n",
            "Deepti Naval\n",
            "Akshay Kumar\n",
            "Sumit Arora\n",
            "Anay\n",
            "Om Puri\n",
            "Abhishek Bachchan\n",
            "Sendhil Ramamurthy\n",
            "Darsheel Safary\n",
            "Vinay Pathak\n",
            "Ishaan Manhaas\n",
            "Sanjay Mishra\n",
            "Ashutosh Rana\n",
            "Juhi Chawla\n",
            "Govinda\n",
            "Mimoh Chakraborty\n",
            "Tusshar Kapoor\n",
            "Kainaz Motivala\n",
            "Partho A. Gupte\n",
            "Nana Patekar\n",
            "Sara Arjun\n",
            "Kalki Koechlin\n",
            "Kartik Aaryan\n",
            "Vinay Pathak\n",
            "Lillete Dubey\n",
            "Sanjay Dutt\n",
            "Amitabh Bachchan\n",
            "Imran Khan\n",
            "Emraan Hashmi\n",
            "Aarav Khanna\n",
            "Hrithik Roshan\n",
            "Raghuvir Yadav\n",
            "Gulshan Grover\n",
            "Naushaad Abbas\n",
            "Shefali Shah\n",
            "Ajay Devgn\n",
            "Rahul Jaiswal\n",
            "Apoorva Arora\n",
            "Isha Koppikar\n",
            "Rajniesh Duggall\n",
            "Amitabh Bachchan\n",
            "Sanjay Dutt\n",
            "Anupam Kher\n",
            "Salman Khan\n",
            "Deepshika Nagpal\n",
            "Deepak Dobriyal\n",
            "Tusshar Kapoor\n",
            "Kiron Kher\n",
            "Imran Khan\n",
            "Shahid Kapoor\n",
            "Mikaal\n",
            "John Abraham\n",
            "Jimmy Sheirgill\n",
            "Vinay Pathak\n",
            "Vinay Virmani\n",
            "Dev Anand\n",
            "Zayed Khan\n",
            "Saqib Saleem\n",
            "Sachiin Joshi\n",
            "Shah Rukh Khan\n",
            "Ranbir Kapoor\n",
            "Chirag Paswan\n",
            "Dharmendra\n",
            "Himesh Reshammiya\n",
            "Ranveer Singh\n",
            "Akshay Kumar\n",
            "Abhishek Bachchan\n",
            "Rani Mukerji\n",
            "Ajay Devgn\n",
            "Vidya Balan\n",
            "Priyanka Chopra\n",
            "Shahid Kapoor\n",
            "Prateik\n",
            "Salman Khan\n",
            "Siddharth\n",
            "Amitabh Bachchan\n",
            "Vidya Balan\n",
            "Paresh Rawal\n",
            "Sunny Gill\n",
            "Shreyas Talpade\n",
            "Tabu\n",
            "Shah Rukh Khan\n",
            "Amitabh Bachchan\n",
            "Siddhartha Gupta\n",
            "Shah Rukh Khan\n",
            "Tanushree Dutta\n",
            "Paul Sidhu\n",
            "Sunny Deol\n",
            "Gurdas Maan\n",
            "Master Shams\n",
            "Om Puri\n",
            "Vikrum Kumar\n",
            "Aditya Narayan\n",
            "Arshad Warsi\n",
            "Boman Irani\n",
            "Nana Patekar\n",
            "Priyanka Chopra\n",
            "Arbaaz Khan\n",
            "Rekha\n",
            "Rahul Bose\n",
            "Nana Patekar\n",
            "Sudeep\n",
            "Farooq Shaikh\n",
            "Rohit Roy\n",
            "Sachin Khedekar\n",
            "Anuj Saxena\n",
            "Akshay Kumar\n",
            "Hazel Croney\n",
            "Sanjeev Bhaskar\n",
            "Vivek Oberoi\n",
            "Abhishek Bachchan\n",
            "Atul Kulkarni\n",
            "Rajpal Yadav\n",
            "Hrithik Roshan\n",
            "Nushrat Bharucha\n",
            "Kareena Kapoor\n",
            "Bhushan Agarwal\n",
            "Prashant Narayanan\n",
            "Sanjay Dutt\n",
            "Akshay Kumar\n",
            "Ali Zafar\n",
            "Rajat Barmecha\n",
            "Ajay Devgn\n",
            "Bobby Deol\n",
            "Omkar Das Manikpuri\n",
            "Neil Nitin Mukesh\n",
            "Gul Panag\n",
            "Raj Singh Chaudhary\n",
            "John Abraham\n",
            "Barkha Madan\n",
            "Salman Khan\n",
            "Supriya Pathak\n",
            "Sunil Shetty\n",
            "Rituparna Sengupta\n",
            "Ranvir Shorey\n",
            "Mallika Sherawat\n",
            "Emraan Hashmi\n",
            "Rishi Kapoor\n",
            "Ajay Devgn\n",
            "Manoj Bajpayee\n",
            "Sanjay Dutt\n",
            "John Abraham\n",
            "Hrithik Roshan\n",
            "Varun Bhagwat\n",
            "Deepika Padukone\n",
            "Sunny Deol\n",
            "Rajat Kapoor\n",
            "Akanksha\n",
            "Jimmy Sheirgill\n",
            "Sanjay Dutt\n",
            "Ranveer Singh\n",
            "Aditya Srivastava\n",
            "Arunoday Singh\n",
            "Akshay Kumar\n",
            "Akshay Oberoi\n",
            "Ajay Devgn\n",
            "Neil Nitin Mukesh\n",
            "Sahil Khan\n",
            "Imran Khan\n",
            "Sushmita Sen\n",
            "Priyanka Chopra\n",
            "Zeenat Aman\n",
            "Bipasha Basu\n",
            "Akshay Kumar\n",
            "Aamir Khan\n",
            "Farhan Akhtar\n",
            "Saif Ali Khan\n",
            "Salman Khan\n",
            "Waheeda Rehman\n",
            "Kangana Ranaut\n",
            "Hrishitaa Bhatt\n",
            "Ranbir Kapoor\n",
            "Asrani\n",
            "Irrfan Khan\n",
            "Kay Kay Menon\n",
            "Arshad Warsi\n",
            "Paresh Rawal\n",
            "Rati Agnihotri\n",
            "Harman Baweja\n",
            "Shahid Kapoor\n",
            "Fardeen Khan\n",
            "John Abraham\n",
            "Kay Kay Menon\n",
            "Aftab Shivdasani\n",
            "Naseeruddin Shah\n",
            "Inaamulhaq\n",
            "Neil Nitin Mukesh\n",
            "Kunal Khemu\n",
            "Bobby Deol\n",
            "Anita\n",
            "Parzaan Dastur\n",
            "Meghan Jadhav\n",
            "Shreyas Talpade\n",
            "John Abraham\n",
            "Kay Kay Menon\n",
            "Sanjay Dutt\n",
            "Mithun Chakraborty\n",
            "Govinda\n",
            "Sunil Shetty\n",
            "Jackie Shroff\n",
            "Anupam Kher\n",
            "Shreyas Talpade\n",
            "Rishi Kapoor\n",
            "Rajendra Prasad\n",
            "Arjun Rampal\n",
            "Mithun Chakraborty\n",
            "Mithun Chakraborty\n",
            "Bobby Deol\n",
            "Shahid Kapoor\n",
            "Harman Baweja\n",
            "Fardeen Khan\n",
            "Sanjay Dutt\n",
            "Ranbir Kapoor\n",
            "Salman Khan\n",
            "Akshay Kumar\n",
            "Atmaram Bhende\n",
            "Amitabh Bachchan\n",
            "Salman Khan\n",
            "Manoj Bajpayee\n",
            "Emraan Hashmi\n",
            "Lewis Tan\n",
            "Akshay Kumar\n",
            "Amitabh Bachchan\n",
            "Ranbir Kapoor\n",
            "Aamir Bashir\n",
            "Farooq Shaikh\n",
            "Mithun Chakraborty\n",
            "Abhishek Bachchan\n",
            "Saif Ali Khan\n",
            "Shah Rukh Khan\n",
            "Aamir Khan\n",
            "Akshay Kumar\n",
            "Ajay Devgn\n",
            "Hrithik Roshan\n",
            "Ranbir Kapoor\n",
            "Amitabh Bachchan\n",
            "Amitabh Bachchan\n",
            "Ajay Devgn\n",
            "Omkar Bhatkar\n",
            "Shreyas Talpade\n",
            "Manisha Koirala\n",
            "Ajay Devgn\n",
            "Tusshar Kapoor\n",
            "Juhi Chawla\n",
            "Ajay Devgn\n",
            "Kay Kay Menon\n",
            "Akshay Kumar\n",
            "Dino Morea\n",
            "Mimoh Chakraborty\n",
            "Emraan Hashmi\n",
            "Mithun Chakraborty\n",
            "Sikander Kher\n",
            "Paresh Rawal\n",
            "Ahraz Ahmed\n",
            "Aftab Shivdasani\n",
            "Amita Pathak\n",
            "Saahil Chadha\n",
            "Saif Ali Khan\n",
            "Kay Kay Menon\n",
            "Shahid Kapoor\n",
            "Harman Baweja\n",
            "Adhvik Mahajan\n",
            "Vivek Oberoi\n",
            "Govinda\n",
            "Amitabh Bachchan\n",
            "Paresh Rawal\n",
            "Mallika Sherawat\n",
            "Arjun Rampal\n",
            "Tusshar Kapoor\n",
            "Bobby Deol\n",
            "Sammir Dattani\n",
            "Victor Banerjee\n",
            "Rajniesh Duggall\n",
            "Amitabh Bachchan\n",
            "Shreyas Talpade\n",
            "Kiron Kher\n",
            "Jackie Shroff\n",
            "Jayshree Arora\n",
            "Sharman Joshi\n",
            "Himesh Reshammiya\n",
            "Sohail Khan\n",
            "Saif Ali Khan\n",
            "Isha Koppikar\n",
            "Kamal Rashid Khan\n",
            "Priyanka Chopra\n",
            "Vinay Pathak\n",
            "Salman Khan\n",
            "Abhay Deol\n",
            "Vinay Pathak\n",
            "Shabana Azmi\n",
            "Manoj Bajpayee\n",
            "Anupam Kher\n",
            "Rajesh Khanna\n",
            "Dino Morea\n",
            "Irrfan Khan\n",
            "Amitabh Bachchan\n",
            "Himesh Reshammiya\n",
            "Tusshar Kapoor\n",
            "Nauheed Cyrusi\n",
            "Madhuri Dixit\n",
            "Dharmendra\n",
            "Emraan Hashmi\n",
            "Vinay Pathak\n",
            "Akshay Kumar\n",
            "Dino Morea\n",
            "Sunny Deol\n",
            "Mouli Ganguly\n",
            "Krishna Abhishek\n",
            "Irrfan Khan\n",
            "Kay Kay Menon\n",
            "Pankaj Kapur\n",
            "Jazzy Doe\n",
            "Mona Ambegaonkar\n",
            "Ajay Devgn\n",
            "Amitabh Bachchan\n",
            "Jimmy Sheirgill\n",
            "Fardeen Khan\n",
            "Shah Rukh Khan\n",
            "Sanjay Dutt\n",
            "John Abraham\n",
            "Pankaj Kapur\n",
            "Sunil Pal\n",
            "Muzamil Ibrahim\n",
            "Imaaduddin Shah\n",
            "Sharman Joshi\n",
            "Abhay Deol\n",
            "Arjun Rampal\n",
            "Akshaye Khanna\n",
            "Rishi Kapoor\n",
            "Arbaaz Khan\n",
            "Amitabh Bachchan\n",
            "Gautam Gupta\n",
            "Mohan Azaad\n",
            "Juanna Sanghvi\n",
            "Mithun Chakraborty\n",
            "Ranvir Shorey\n",
            "Govinda\n",
            "Abhishek Bachchan\n",
            "Shahid Kapoor\n",
            "Tusshar Kapoor\n",
            "Shahid Kapoor\n",
            "Shiney Ahuja\n",
            "Dharmendra\n",
            "Fardeen Khan\n",
            "Tusshar Kapoor\n",
            "Rekha\n",
            "Jimmy Sheirgill\n",
            "Rani Mukerji\n",
            "Dharmendra\n",
            "Shabana Azmi\n",
            "Abhay Deol\n",
            "Salman Khan\n",
            "Menekka Arora\n",
            "Nana Patekar\n",
            "Bobby Deol\n",
            "Linda Arsenio\n",
            "Kal Penn\n",
            "Akshay Kumar\n",
            "Jason Lewis\n",
            "Sanjay Dutt\n",
            "Amitabh Bachchan\n",
            "John Abraham\n",
            "Shah Rukh Khan\n",
            "Salman Khan\n",
            "Rahul Khanna\n",
            "Dwij Yadav\n",
            "Aftab Shivdasani\n",
            "Vinod Khanna\n",
            "Bobby Deol\n",
            "Sherlyn Chopra\n",
            "Salman Khan\n",
            "Rani Mukerji\n",
            "Mahima Chaudhry\n",
            "Mandar Jadhav\n",
            "Aftab Shivdasani\n",
            "Amitabh Bachchan\n",
            "Jimmy Sheirgill\n",
            "Manoj Bajpayee\n",
            "Darsheel Safary\n",
            "Saif Ali Khan\n",
            "Urmila Matondkar\n",
            "Kunal Khemu\n",
            "Emraan Hashmi\n",
            "Tushar Jalota\n",
            "Jaya Bachchan\n",
            "Akshay Kumar\n",
            "Akshaye Khanna\n",
            "Jeetendra\n",
            "Akshaye Khanna\n",
            "Abhay Deol\n",
            "Emraan Hashmi\n",
            "Akshay Kapoor\n",
            "Sanjay Dutt\n",
            "Bobby Darling\n",
            "Aftab Shivdasani\n",
            "Rekha\n",
            "Amitabh Bachchan\n",
            "Rati Agnihotri\n",
            "Rahul Dev\n",
            "Naseeruddin Shah\n",
            "Urmila Matondkar\n",
            "Juhi Chawla\n",
            "Akshay Kumar\n",
            "Sushmita Sen\n",
            "Jackie Shroff\n",
            "Somesh Agarwal\n",
            "Sohail Khan\n",
            "Kareena Kapoor\n",
            "Bipasha Basu\n",
            "Amitabh Bachchan\n",
            "Rajit Kapoor\n",
            "Emraan Hashmi\n",
            "Ishrat Ali\n",
            "Raj Tara\n",
            "Hrithik Roshan\n",
            "Ayesha Takia\n",
            "Shah Rukh Khan\n",
            "Amitabh Bachchan\n",
            "Aamir Khan\n",
            "Kangana Ranaut\n",
            "Ajay Devgn\n",
            "Ram Kapoor\n",
            "Sunil Shetty\n",
            "Ajay Devgn\n",
            "Akshay Kumar\n",
            "Arjun Rampal\n",
            "Arjun Rampal\n",
            "Aftab Shivdasani\n",
            "Salman Khan\n",
            "Emraan Hashmi\n",
            "Onjolee Nair\n",
            "Amarjeet\n",
            "Anupam Kher\n",
            "Amitabh Bachchan\n",
            "Rishi Kapoor\n",
            "Sanjay Dutt\n",
            "John Abraham\n",
            "Nassar Abdulla\n",
            "Rekha\n",
            "Paresh Rawal\n",
            "Ajay Devgn\n",
            "Rahul Bose\n",
            "Sunny Deol\n",
            "Akshay Kumar\n",
            "Fardeen Khan\n",
            "Akshay Kumar\n",
            "Jeetendra\n",
            "Sarika\n",
            "Aamir Khan\n",
            "Salman Khan\n",
            "Govinda\n",
            "Akshaye Khanna\n",
            "Salman Khan\n",
            "Mohit Ahlawat\n",
            "Mahima Chaudhry\n",
            "Ajay Devgn\n",
            "Mohammad Amir Naji\n",
            "Sanjay Dutt\n",
            "Irrfan Khan\n",
            "Aishwarya Rai Bachchan\n",
            "Nana Patekar\n",
            "Sunny Deol\n",
            "Shahid Kapoor\n",
            "Priyanshu Chatterjee\n",
            "Gurdas Maan\n",
            "Kangana Ranaut\n",
            "Paresh Rawal\n",
            "Jimmy Sheirgill\n",
            "Sushmita Sen\n",
            "Rakesh Bedi\n",
            "Emraan Hashmi\n",
            "Manisha Koirala\n",
            "Ajay Devgn\n",
            "Rekha\n",
            "Juhi Chawla\n",
            "Bobby Deol\n",
            "Anil Kapoor\n",
            "Amitabh Bachchan\n",
            "Sanjay Dutt\n",
            "Abhishek Bachchan\n",
            "Shawar Ali\n",
            "Ali Asgar\n",
            "Tabu\n",
            "Ajay Devgn\n",
            "Abhishek Bachchan\n",
            "Aryan Vaid\n",
            "Jatin Grewal\n",
            "Samir Aftab\n",
            "Anil Kapoor\n",
            "Randeep Hooda\n",
            "Akshay Kumar\n",
            "Saayli Buva\n",
            "Bipasha Basu\n",
            "Amitabh Bachchan\n",
            "Akshay Kumar\n",
            "Mithun Chakraborty\n",
            "Sanjay Dutt\n",
            "Arjun Rampal\n",
            "Shilpa Shetty Kundra\n",
            "Amitabh Bachchan\n",
            "Siddharth Koirala\n",
            "Fardeen Khan\n",
            "Ayesha Jhulka\n",
            "Aseel Adel\n",
            "Vivek Oberoi\n",
            "Akshay Kumar\n",
            "Shreyas Talpade\n",
            "Chiranjeevi\n",
            "Kay Kay Menon\n",
            "Akshay Kumar\n",
            "Sunny Deol\n",
            "John Abraham\n",
            "Ajay Devgn\n",
            "Kunal Khemu\n",
            "Lucky Ali\n",
            "Mukesh Khanna\n",
            "Mohit Ahlawat\n",
            "Vivek Oberoi\n",
            "Aftab Shivdasani\n",
            "Shilpa Shetty Kundra\n",
            "Kamal Adib\n",
            "Arshad Warsi\n",
            "Tusshar Kapoor\n",
            "Salman Khan\n",
            "Ajay Devgn\n",
            "Salman Khan\n",
            "Rajpal Yadav\n",
            "Anupam Kher\n",
            "Salman Khan\n",
            "Aamir Khan\n",
            "Dia Mirza\n",
            "Dev Anand\n",
            "Sanjay Suri\n",
            "Anil Kapoor\n",
            "Urmila Matondkar\n",
            "Uday Chopra\n",
            "Anil Kapoor\n",
            "Sunil Shetty\n",
            "Konkona Sen Sharma\n",
            "Shabana Azmi\n",
            "Saif Ali Khan\n",
            "Vinod Khanna\n",
            "Shah Rukh Khan\n",
            "Irrfan Khan\n",
            "Rishi Kapoor\n",
            "Saif Ali Khan\n",
            "Kashmira Shah\n",
            "Amitabh Bachchan\n",
            "Arshad Warsi\n",
            "Sanjay Dutt\n",
            "Ashutosh Rana\n",
            "Neha Dhupia\n",
            "Madhavan\n",
            "Tabu\n",
            "Abhay Deol\n",
            "Zulfi Sayed\n",
            "Ajay Devgn\n",
            "Nassar Abdulla\n",
            "Arjun Rampal\n",
            "Shahid Kapoor\n",
            "Aarti Chhabria\n",
            "Fardeen Khan\n",
            "Amitabh Bachchan\n",
            "Amitabh Bachchan\n",
            "Vikram Aditya\n",
            "Arjun Rampal\n",
            "Emraan Hashmi\n",
            "Shah Rukh Khan\n",
            "Shah Rukh Khan\n",
            "Ajay Devgn\n",
            "Salman Khan\n",
            "Abhishek Bachchan\n",
            "Amitabh Bachchan\n",
            "Saif Ali Khan\n",
            "Akshaye Khanna\n",
            "Mallika Sherawat\n",
            "Ajay Devgn\n",
            "Akshay Kumar\n",
            "Amitabh Bachchan\n",
            "Amitabh Bachchan\n",
            "Shatrughan Sinha\n",
            "Bobby Deol\n",
            "Kareena Kapoor\n",
            "Jimmy Sheirgill\n",
            "Arjun Rampal\n",
            "Jimmy Sheirgill\n",
            "Amitabh Bachchan\n",
            "Amitabh Bachchan\n",
            "Shahid Kapoor\n",
            "Salman Khan\n",
            "Jackie Shroff\n",
            "Naveen Bawa\n",
            "Vikaas Kalantari\n",
            "Tusshar Kapoor\n",
            "Kareena Kapoor\n",
            "Salman Khan\n",
            "Sunil Shetty\n",
            "Saif Ali Khan\n",
            "Isha Koppikar\n",
            "Akshay Kumar\n",
            "Aniket Vishwasrao\n",
            "Shawar Ali\n",
            "Tisca Chopra\n",
            "Neha Dhupia\n",
            "Raqesh Bapat\n",
            "Manoj Bajpayee\n",
            "Mallika Sherawat\n",
            "Dino Morea\n",
            "Sohail Khan\n",
            "Kiron Kher\n",
            "Bobby Deol\n",
            "Sunny Deol\n",
            "Sohail Khan\n",
            "Amitabh Bachchan\n",
            "Bipasha Basu\n",
            "Hrithik Roshan\n",
            "Dino Morea\n",
            "Irrfan Khan\n",
            "Aftab Shivdasani\n",
            "Tabu\n",
            "Anil Kapoor\n",
            "Prithviraj Kapoor\n",
            "Aftab Shivdasani\n",
            "Akshay Kumar\n",
            "Antara Mali\n",
            "Vinay Anand\n",
            "John Abraham\n",
            "Salman Khan\n",
            "Sanjay Dutt\n",
            "Akshay Kumar\n",
            "Manisha Koirala\n",
            "Akshay Kapoor\n",
            "Sanjay Dutt\n",
            "Ajay Devgn\n",
            "Sanjay Dutt\n",
            "Sanjay Suri\n",
            "Abhishek Bachchan\n",
            "Sunny Deol\n",
            "Aftab Shivdasani\n",
            "Shah Rukh Khan\n",
            "Vatsal Sheth\n",
            "Madhavan\n",
            "Tusshar Kapoor\n",
            "Emraan Hashmi\n",
            "Vicky Ahuja\n",
            "Shah Rukh Khan\n",
            "Tarun Arora\n",
            "Diwakar Pathak\n",
            "Arya Babbar\n",
            "Rekha\n",
            "Shah Rukh Khan\n",
            "Anupam Kher\n",
            "Shah Rukh Khan\n",
            "Sunny Deol\n",
            "Amitabh Bachchan\n",
            "Hrithik Roshan\n",
            "Sanjay Dutt\n",
            "Sanjay Dutt\n",
            "Sanjay Dutt\n",
            "Ajay Devgn\n",
            "Atul Kulkarni\n",
            "Naseeruddin Shah\n",
            "Arun Bakshi\n",
            "Priyanshu Chatterjee\n",
            "Ajay Devgn\n",
            "Amitabh Bachchan\n",
            "Sudesh Berry\n",
            "Akshay Kumar\n",
            "Akshay Kumar\n",
            "Amitabh Bachchan\n",
            "Ajay Devgn\n",
            "Anil Kapoor\n",
            "Jackie Shroff\n",
            "Sadashiv Amrapurkar\n",
            "Sooraj Balaji\n",
            "Arjun Rampal\n",
            "Sameera Reddy\n",
            "Om Puri\n",
            "Amar Upadhyaya\n",
            "Zayed Khan\n",
            "Nawazuddin Siddiqui\n",
            "Vivek Oberoi\n",
            "Kapil Jhaveri\n",
            "Nandita Das\n",
            "Aftab Shivdasani\n",
            "Manisha Koirala\n",
            "Rahul Bose\n",
            "Ajay Devgn\n",
            "Tabu\n",
            "Jimmy Sheirgill\n",
            "Sanjay Dutt\n",
            "Akshaye Khanna\n",
            "Vikram Dasu\n",
            "Reef Karim\n",
            "Jaz Pandher\n",
            "Rushali Arora\n",
            "Ashmit Patel\n",
            "Sunny Deol\n",
            "Shahid Kapoor\n",
            "Babbu Mann\n",
            "Javed Jaffrey\n",
            "Bipasha Basu\n",
            "Sanjay Suri\n",
            "Om Puri\n",
            "Juhi Babbar\n",
            "Sunny Deol\n",
            "Feroz Khan\n",
            "Amit Hingorani\n",
            "Fardeen Khan\n",
            "Himanshu Malik\n",
            "Tusshar Kapoor\n",
            "Aishwarya Rai Bachchan\n",
            "Antara Mali\n",
            "Victor Banerjee\n",
            "Manisha Koirala\n",
            "Attin Bhalla\n",
            "Riteish Deshmukh\n",
            "Rahul Bose\n",
            "Tulip Joshi\n",
            "Ajay Devgn\n",
            "Urmila Matondkar\n",
            "Abhishek Bachchan\n",
            "John Abraham\n",
            "Sushmita Sen\n",
            "Vikas Kalantri\n",
            "Raveena Tandon\n",
            "Tanishaa Mukerji\n",
            "Raveena Tandon\n",
            "Vijay Raaz\n",
            "Raveena Tandon\n",
            "Tanuja\n",
            "Ankit\n",
            "Sadashiv Amrapurkar\n",
            "Salman Khan\n",
            "Riteish Deshmukh\n",
            "Rakhee Gulzar\n",
            "Shabana Azmi\n",
            "Edwin Fernandes\n",
            "Tusshar Kapoor\n",
            "Sharman Joshi\n",
            "Dino Morea\n",
            "Ajay Devgn\n",
            "Arshad Warsi\n",
            "Shah Rukh Khan\n",
            "Amitabh Bachchan\n",
            "Shah Rukh Khan\n",
            "Amitabh Bachchan\n",
            "Vivek Oberoi\n",
            "Ajay Devgn\n",
            "Akshay Kumar\n"
          ]
        }
      ]
    },
    {
      "cell_type": "code",
      "source": [
        "for i in movies.index:\n",
        "  print(i)"
      ],
      "metadata": {
        "colab": {
          "base_uri": "https://localhost:8080/"
        },
        "id": "7dEuJ9ZWMINO",
        "outputId": "96006888-2ee4-4e19-d34b-ef5718c08925"
      },
      "execution_count": 46,
      "outputs": [
        {
          "output_type": "stream",
          "name": "stdout",
          "text": [
            "Uri: The Surgical Strike\n",
            "Battalion 609\n",
            "The Accidental Prime Minister (film)\n",
            "Why Cheat India\n",
            "Evening Shadows\n",
            "Soni (film)\n",
            "Fraud Saiyaan\n",
            "Bombairiya\n",
            "Manikarnika: The Queen of Jhansi\n",
            "Thackeray (film)\n",
            "Amavas\n",
            "Gully Boy\n",
            "Hum Chaar\n",
            "Total Dhamaal\n",
            "Sonchiriya\n",
            "Badla (2019 film)\n",
            "Mard Ko Dard Nahi Hota\n",
            "Hamid (film)\n",
            "Photograph (film)\n",
            "Risknamaa\n",
            "Mere Pyare Prime Minister\n",
            "22 Yards\n",
            "Kesari (film)\n",
            "Notebook (2019 film)\n",
            "Junglee (2019 film)\n",
            "Gone Kesh\n",
            "Albert Pinto Ko Gussa Kyun Aata Hai?\n",
            "The Tashkent Files\n",
            "Kalank\n",
            "Setters (film)\n",
            "Student of the Year 2\n",
            "PM Narendra Modi\n",
            "De De Pyaar De\n",
            "India's Most Wanted (film)\n",
            "Yeh Hai India\n",
            "Khamoshi (2019 film)\n",
            "Kabir Singh\n",
            "Article 15 (film)\n",
            "One Day: Justice Delivered\n",
            "Hume Tumse Pyaar Kitna\n",
            "Super 30 (film)\n",
            "Family of Thakurganj\n",
            "Batla House\n",
            "Jhootha Kahin Ka\n",
            "Judgementall Hai Kya\n",
            "Chicken Curry Law\n",
            "Arjun Patiala\n",
            "Jabariya Jodi\n",
            "Pranaam\n",
            "The Sky Is Pink\n",
            "Mission Mangal\n",
            "Saaho\n",
            "Dream Girl (2019 film)\n",
            "Section 375\n",
            "The Zoya Factor (film)\n",
            "Pal Pal Dil Ke Paas\n",
            "Prassthanam\n",
            "P Se Pyaar F Se Faraar\n",
            "Ghost (2019 film)\n",
            "Bala (2019 film)\n",
            "Yaaram (2019 film)\n",
            "Housefull 4\n",
            "Saand Ki Aankh\n",
            "Made in China (2019 film)\n",
            "Ujda Chaman\n",
            "Bypass Road (film)\n",
            "Satellite Shankar\n",
            "Jhalki\n",
            "Marjaavaan\n",
            "Motichoor Chaknachoor\n",
            "Keep Safe Distance (film)\n",
            "Pagalpanti (2019 film)\n",
            "Ramprasad Ki Tehrvi\n",
            "Yeh Saali Aashiqui\n",
            "Dil Bechara\n",
            "Pati Patni Aur Woh (2019 film)\n",
            "Commando 3 (film)\n",
            "Mardaani 2\n",
            "Dabangg 3\n",
            "Good Newwz\n",
            "Kaalakaandi\n",
            "Vodka Diaries\n",
            "My Birthday Song\n",
            "Nirdosh\n",
            "Mukkabaaz\n",
            "Union Leader (film)\n",
            "Love per Square Foot\n",
            "Aiyaary\n",
            "Padmaavat\n",
            "Kuchh Bheege Alfaaz\n",
            "Jaane Kyun De Yaaron\n",
            "Veerey Ki Wedding\n",
            "Sonu Ke Titu Ki Sweety\n",
            "Hate Story 4\n",
            "Dil Juunglee\n",
            "3 Storeys\n",
            "Raid (2018 film)\n",
            "Hichki\n",
            "Missing (2018 film)\n",
            "Baaghi 2\n",
            "October (2018 film)\n",
            "Mercury (film)\n",
            "Beyond the Clouds (2017 film)\n",
            "Nanu Ki Jaanu\n",
            "Daas Dev\n",
            "Omerta (film)\n",
            "Raazi\n",
            "Hope Aur Hum\n",
            "High Jack (film)\n",
            "Khajoor Pe Atke\n",
            "Parmanu: The Story of Pokhran\n",
            "Bioscopewala\n",
            "Bhavesh Joshi Superhero\n",
            "Phamous\n",
            "Race 3\n",
            "Dhadak\n",
            "Sanju\n",
            "Saheb Biwi Aur Gangster 3\n",
            "Nawabzaade\n",
            "Mulk (film)\n",
            "Brij Mohan Amar Rahe\n",
            "Karwaan\n",
            "Gold (2018 film)\n",
            "Satyameva Jayate (2018 film)\n",
            "Happy Phirr Bhag Jayegi\n",
            "Genius (2018 Hindi film)\n",
            "Yamla Pagla Deewana: Phir Se\n",
            "Stree (2018 film)\n",
            "Paltan (film)\n",
            "Laila Majnu (2018 film)\n",
            "Gali Guleiyan\n",
            "Halkaa\n",
            "Pataakha\n",
            "Batti Gul Meter Chalu\n",
            "Love Sonia\n",
            "Manto (2018 film)\n",
            "Ishqeria\n",
            "Manmarziyaan\n",
            "Mitron\n",
            "Sui Dhaaga\n",
            "Baazaar\n",
            "Jalebi (film)\n",
            "FryDay\n",
            "Tumbbad\n",
            "Helicopter Eela\n",
            "Namaste England\n",
            "Andhadhun\n",
            "Badhaai Ho\n",
            "5 Weddings\n",
            "Kaashi in Search of Ganga\n",
            "Dassehra\n",
            "The Journey of Karma\n",
            "Jack and Dil\n",
            "Mohalla Assi\n",
            "Pihu\n",
            "Bhaiaji Superhit\n",
            "Rajma Chawal\n",
            "Zero (2018 film)\n",
            "Simmba\n",
            "Tiger Zinda Hai\n",
            "Golmaal Again\n",
            "Judwaa 2\n",
            "Ok Jaanu\n",
            "Coffee with D\n",
            "Kaabil\n",
            "Raees (film)\n",
            "Thugs of Hindostan\n",
            "Hind Ka Napak Ko Jawab: MSG Lion Heart 2\n",
            "Running Shaadi\n",
            "The Ghazi Attack\n",
            "Irada (2017 film)\n",
            "Rangoon (2017 Hindi film)\n",
            "Wedding Anniversary\n",
            "Jeena Isi Ka Naam Hai (film)\n",
            "Badrinath Ki Dulhania\n",
            "Trapped (2016 Hindi film)\n",
            "Aa Gaya Hero\n",
            "Mantra (2016 film)\n",
            "Phillauri (film)\n",
            "Machine (2017 film)\n",
            "Bhanwarey\n",
            "Anaarkali of Aarah\n",
            "Naam Shabana\n",
            "Hotel Salvation\n",
            "Begum Jaan\n",
            "Noor (film)\n",
            "Ek Thi Rani Aisi Bhi\n",
            "Maatr\n",
            "Sarkar 3\n",
            "Jattu Engineer\n",
            "Half Girlfriend (film)\n",
            "Meri Pyaari Bindu\n",
            "Sachin: A Billion Dreams\n",
            "Hindi Medium\n",
            "Sweetiee Weds NRI\n",
            "Dobaara: See Your Evil\n",
            "Flat 211\n",
            "Dear Maya\n",
            "Raabta (film)\n",
            "Behen Hogi Teri\n",
            "Tubelight (2017 Hindi film)\n",
            "Bank Chor\n",
            "Ek Haseena Thi Ek Deewana Tha\n",
            "Jagga Jasoos\n",
            "Shab (film)\n",
            "Lipstick Under My Burkha\n",
            "Bachche Kachche Sachche\n",
            "G Kutta Se\n",
            "Indu Sarkar\n",
            "Jab Harry Met Sejal\n",
            "Munna Michael\n",
            "Toilet: Ek Prem Katha\n",
            "Mubarakan\n",
            "Guest iin London\n",
            "Bareilly Ki Barfi\n",
            "Babumoshai Bandookbaaz\n",
            "Yadvi – The Dignified Princess\n",
            "Qaidi Band\n",
            "Shubh Mangal Saavdhan\n",
            "Raag Desh (film)\n",
            "Daddy (2017 film)\n",
            "Simran (film)\n",
            "Lucknow Central\n",
            "A Gentleman\n",
            "Viceroy's House (film)\n",
            "Patel Ki Punjabi Shaadi\n",
            "Newton (film)\n",
            "The Final Exit\n",
            "Bhoomi (film)\n",
            "Haseena Parkar\n",
            "JD (film)\n",
            "Haraamkhor\n",
            "Poster Boys\n",
            "Mom (film)\n",
            "Chef (2017 film)\n",
            "Ranchi Diaries\n",
            "Babuji Ek Ticket Bambai\n",
            "Rukh (film)\n",
            "Secret Superstar\n",
            "Aval (2017 film)\n",
            "Ribbon (film)\n",
            "Shaadi Mein Zaroor Aana\n",
            "Jia Aur Jia\n",
            "Qarib Qarib Singlle\n",
            "Aksar 2\n",
            "Panchlait\n",
            "Tumhari Sulu\n",
            "Julie 2\n",
            "Kadvi Hawa\n",
            "Firangi\n",
            "Fukrey Returns\n",
            "Monsoon Shootout\n",
            "Ajji\n",
            "Chalk n Duster\n",
            "Rebellious Flower\n",
            "Saankal\n",
            "Airlift (film)\n",
            "Sallu Ki Shaadi\n",
            "Irudhi Suttru\n",
            "Kyaa Kool Hain Hum 3\n",
            "Mastizaade\n",
            "Dil Jo Na Keh Saka\n",
            "Jugni (2016 film)\n",
            "Ghayal: Once Again\n",
            "Fitoor\n",
            "Sanam Re\n",
            "Direct Ishq\n",
            "Ishq Forever\n",
            "Loveshhuda\n",
            "Neerja\n",
            "Aligarh (film)\n",
            "Bollywood Diaries\n",
            "Love Shagun\n",
            "Tere Bin Laden: Dead or Alive\n",
            "Jai Gangaajal\n",
            "Kapoor & Sons\n",
            "Rocky Handsome\n",
            "Love Games (film)\n",
            "Fan (film)\n",
            "Nil Battey Sannata\n",
            "Laal Rang\n",
            "Baaghi (2016 film)\n",
            "Global Baba\n",
            "Shortcut Safari\n",
            "The Blueberry Hunt\n",
            "Santa Banta Pvt Ltd\n",
            "Traffic (2016 film)\n",
            "1920: London\n",
            "Azhar (film)\n",
            "Buddha in a Traffic Jam\n",
            "Murari the Mad Gentleman\n",
            "Dear Dad (film)\n",
            "Phobia (2016 film)\n",
            "Sarbjit (film)\n",
            "Veerappan (2016 film)\n",
            "Do Lafzon Ki Kahani (film)\n",
            "Te3n\n",
            "Udta Punjab\n",
            "Khel Toh Ab Shuru Hoga\n",
            "Luv U Alia\n",
            "7 Hours to Go\n",
            "Raman Raghav 2.0\n",
            "Junooniyat\n",
            "Rough Book\n",
            "Dhanak\n",
            "Fredrick (film)\n",
            "Dil Toh Deewana Hai\n",
            "Sultan (2016 film)\n",
            "Brahman Naman\n",
            "Great Grand Masti\n",
            "Waiting (2015 film)\n",
            "Ishq Click\n",
            "M Cream\n",
            "Madaari\n",
            "Dishoom\n",
            "Fever (2016 film)\n",
            "Rustom (film)\n",
            "Hai Apna Dil Toh Awara\n",
            "Mohenjo Daro (film)\n",
            "Happy Bhag Jayegi\n",
            "Waarrior Savitri\n",
            "A Flying Jatt\n",
            "Baar Baar Dekho\n",
            "Freaky Ali\n",
            "Raaz: Reboot\n",
            "Pink (2016 film)\n",
            "Parched\n",
            "Banjo (2016 film)\n",
            "Days of Tafree\n",
            "Wah Taj\n",
            "Island City (2015 film)\n",
            "Ek Kahani Julie Ki\n",
            "M.S. Dhoni: The Untold Story\n",
            "MSG: The Warrior Lion Heart\n",
            "Devi (2016 film)\n",
            "Motu Patlu: King of Kings\n",
            "Anna (2016 film)\n",
            "Fuddu\n",
            "Saat Uchakkey\n",
            "Beiimaan Love\n",
            "Umrika\n",
            "Shivaay\n",
            "Dongari Ka Raja\n",
            "Ae Dil Hai Mushkil\n",
            "Tum Bin II\n",
            "Rock On 2\n",
            "Force 2\n",
            "Dear Zindagi\n",
            "Befikre\n",
            "Moh Maya Money\n",
            "Shorgul\n",
            "Saansein\n",
            "Ki & Ka\n",
            "Wajah Tum Ho\n",
            "Dangal (film)\n",
            "Mirzya (film)\n",
            "Prem Ratan Dhan Payo\n",
            "Tanu Weds Manu: Returns\n",
            "Tanu Weds Manu: Returns\n",
            "31st October (film)\n",
            "ABCD 2\n",
            "Dilwale (2015 film)\n",
            "Bajrangi Bhaijaan\n",
            "Bajirao Mastani\n",
            "Welcome Back (film)\n",
            "Baby (2015 Hindi film)\n",
            "Singh Is Bliing\n",
            "Gabbar Is Back\n",
            "Gabbar Is Back\n",
            "Mumbai Can Dance Saala\n",
            "Alone (2015 Hindi film)\n",
            "Tevar\n",
            "Sharafat Gayi Tel Lene\n",
            "Dolly Ki Doli\n",
            "Hawaizaada\n",
            "Khamoshiyan\n",
            "Rahasya\n",
            "Jai Jawaan Jai Kisaan (film)\n",
            "Shamitabh\n",
            "Roy (film)\n",
            "Badlapur (film)\n",
            "Crazy Cukkad Family\n",
            "Take It Easy (2015 film)\n",
            "Qissa (film)\n",
            "Ab Tak Chhappan 2\n",
            "Dum Laga Ke Haisha\n",
            "Dirty Politics (film)\n",
            "MSG: The Messenger\n",
            "Badmashiyaan\n",
            "Coffee Bloom\n",
            "Hey Bro\n",
            "NH10 (film)\n",
            "Hunterrr\n",
            "Detective Byomkesh Bakshy!\n",
            "Luckhnowi Ishq\n",
            "Court (film)\n",
            "Margarita with a Straw\n",
            "Ek Paheli Leela\n",
            "Barkhaa\n",
            "Mr. X (2015 film)\n",
            "NH-8 Road to Nidhivan\n",
            "Dilliwali Zaalim Girlfriend\n",
            "Dharam Sankat Mein\n",
            "Kaagaz Ke Fools\n",
            "Kuch Kuch Locha Hai\n",
            "Piku\n",
            "Bombay Velvet\n",
            "I Love Desi\n",
            "Dil Dhadakne Do\n",
            "Welcome 2 Karachi\n",
            "P Se PM Tak\n",
            "Mere Genie Uncle\n",
            "Hamari Adhuri Kahani\n",
            "Miss Tanakpur Haazir Ho\n",
            "Uvaa\n",
            "Ishq Ke Parindey\n",
            "Ishqedarriyaan\n",
            "Sabki Bajegi Band\n",
            "Masaan\n",
            "Guddu Rangeela\n",
            "Bezubaan Ishq\n",
            "Aisa Yeh Jahaan\n",
            "Second Hand Husband\n",
            "I Love NY (2015 film)\n",
            "Main Hoon Part-Time Killer\n",
            "Kaun Kitne Paani Mein\n",
            "Drishyam (2015 film)\n",
            "Bangistan\n",
            "All Is Well (2015 film)\n",
            "Brothers (2015 film)\n",
            "Gour Hari Dastaan\n",
            "Manjhi – The Mountain Man\n",
            "Thoda Lutf Thoda Ishq\n",
            "Phantom (2015 film)\n",
            "Hero (2015 Hindi film)\n",
            "Sorry Daddy\n",
            "Talvar (film)\n",
            "Katti Batti\n",
            "Meeruthiya Gangsters\n",
            "MSG-2 The Messenger\n",
            "Calendar Girls (2015 film)\n",
            "Bhaag Johnny\n",
            "Jazbaa\n",
            "Bumper Draw\n",
            "Chinar Daastaan-E-Ishq\n",
            "Kis Kisko Pyaar Karoon\n",
            "Pyaar Ka Punchnama 2\n",
            "Wedding Pullav\n",
            "Shaandaar\n",
            "Titli (2014 film)\n",
            "Guddu Ki Gun\n",
            "The Silent Heroes\n",
            "Ranbanka\n",
            "Sholay\n",
            "Dedh Ishqiya\n",
            "Karle Pyaar Karle\n",
            "Om-Dar-B-Dar\n",
            "Paranthe Wali Gali\n",
            "Strings of Passion\n",
            "Gunday\n",
            "Jai Ho (film)\n",
            "Hasee Toh Phasee\n",
            "Heartless (2014 film)\n",
            "Ya Rab\n",
            "Darr @ the Mall\n",
            "One by Two (2014 film)\n",
            "Babloo Happy Hai\n",
            "Highway (2014 Hindi film)\n",
            "Gulabi Gang (film)\n",
            "Shaadi Ke Side Effects\n",
            "Gulaab Gang\n",
            "Queen (2014 film)\n",
            "Bewakoofiyaan\n",
            "Total Siyapaa\n",
            "Karar: The Deal\n",
            "Lakshmi (2014 film)\n",
            "Ragini MMS 2\n",
            "Dishkiyaoon\n",
            "Ankhon Dekhi\n",
            "Gang of Ghosts\n",
            "Anuradha (2014 film)\n",
            "W (2014 film)\n",
            "O Teri\n",
            "Honour Killing (film)\n",
            "2 States (2014 film)\n",
            "Jal (film)\n",
            "Bhoothnath Returns\n",
            "Main Tera Hero\n",
            "Lucky Kabootar\n",
            "Station (2014 film)\n",
            "Youngistaan\n",
            "Samrat & Co.\n",
            "Purani Jeans\n",
            "Kya Dilli Kya Lahore\n",
            "Koyelaanchal\n",
            "Manjunath (film)\n",
            "Dekh Tamasha Dekh\n",
            "Mastram\n",
            "The Xposé\n",
            "Children of War (2014 film)\n",
            "Hawaa Hawaai\n",
            "Kahin Hai Mera Pyar\n",
            "Kuku Mathur Ki Jhand Ho Gayi\n",
            "Heropanti\n",
            "CityLights (2014 film)\n",
            "Filmistaan\n",
            "Revolver Rani\n",
            "Kaanchi: The Unbreakable\n",
            "Machhli Jal Ki Rani Hai\n",
            "Khwaabb\n",
            "Yeh Hai Bakrapur\n",
            "Ek Villain\n",
            "Bobby Jasoos\n",
            "Humshakals\n",
            "Humpty Sharma Ki Dulhania\n",
            "Hate Story 2\n",
            "Lekar Hum Deewana Dil\n",
            "Riyasat (film)\n",
            "Amit Sahni Ki List\n",
            "Holiday: A Soldier Is Never Off Duty\n",
            "Fugly (film)\n",
            "Bazaar E Husn\n",
            "Pizza (2014 film)\n",
            "Entertainment (2014 film)\n",
            "Singham Returns\n",
            "Mardaani\n",
            "Raja Natwarlal\n",
            "Mary Kom (film)\n",
            "Creature 3D\n",
            "Finding Fanny\n",
            "Khoobsurat (2014 film)\n",
            "3 A.M. (2014 film)\n",
            "Kick (2014 film)\n",
            "Mad About Dance\n",
            "Mumbhai Connection\n",
            "Life Is Beautiful (2014 film)\n",
            "Desi Kattey\n",
            "Haider (film)\n",
            "Bang Bang!\n",
            "Spark (2014 film)\n",
            "Daawat-e-Ishq\n",
            "Balwinder Singh Famous Ho Gaya\n",
            "Jigariyaa\n",
            "Tamanchey\n",
            "Mumbai 125 KM\n",
            "Meinu Ek Ladki Chaahiye\n",
            "Chaarfutiya Chhokare\n",
            "Sonali Cable\n",
            "Happy New Year (2014 film)\n",
            "Super Nani\n",
            "Ekkees Toppon Ki Salaami\n",
            "Rang Rasiya\n",
            "The Shaukeens\n",
            "Roar: Tigers of the Sundarbans\n",
            "A Decent Arrangement\n",
            "Gollu Aur Pappu\n",
            "Titoo MBA\n",
            "Kill Dil\n",
            "Ungli\n",
            "Happy Ending (film)\n",
            "Zed Plus\n",
            "Zid (2014 film)\n",
            "Action Jackson (2014 film)\n",
            "Bhopal: A Prayer for Rain\n",
            "Mumbai Delhi Mumbai\n",
            "Badlapur Boys\n",
            "Main Aur Mr. Riight\n",
            "Ugly (film)\n",
            "PK (film)\n",
            "Dehraadun Diary\n",
            "Matru Ki Bijlee Ka Mandola\n",
            "Sulemani Keeda\n",
            "Inkaar (2013 film)\n",
            "Gangoobai\n",
            "Akaash Vani\n",
            "Main Krishna Hoon\n",
            "Race 2\n",
            "Bandook\n",
            "Listen... Amaya\n",
            "Special 26\n",
            "Murder 3\n",
            "Zila Ghaziabad\n",
            "Kai Po Che!\n",
            "Bloody Isshq\n",
            "Saare Jahaan Se Mehnga\n",
            "3G (film)\n",
            "Mere Dad Ki Maruti\n",
            "Jolly LLB\n",
            "Saheb Biwi Aur Gangster Returns\n",
            "Mai (2013 film)\n",
            "Vishwaroopam\n",
            "Rangrezz\n",
            "Aashiqui 2\n",
            "Ek Thi Daayan\n",
            "Himmatwala (2013 film)\n",
            "Nautanki Saala!\n",
            "Jayantabhai Ki Luv Story\n",
            "Commando: A One Man Army\n",
            "Bombay Talkies (film)\n",
            "Go Goa Gone\n",
            "Gippi\n",
            "Aurangzeb (film)\n",
            "Ishkq in Paris\n",
            "Zindagi 50-50\n",
            "Yeh Jawaani Hai Deewani\n",
            "Fukrey\n",
            "Chhota Bheem and the Throne of Bali\n",
            "Raanjhanaa\n",
            "Ankur Arora Murder Case\n",
            "Shortcut Romeo\n",
            "Ghanchakkar (film)\n",
            "Hum Hai Raahi Car Ke\n",
            "Policegiri\n",
            "Bhaag Milkha Bhaag\n",
            "Sixteen (2013 Indian film)\n",
            "B.A. Pass\n",
            "Enemmy\n",
            "Issaq\n",
            "Bajatey Raho\n",
            "Luv U Soniyo\n",
            "Nasha (film)\n",
            "Chor Chor Super Chor\n",
            "Calapor (film)\n",
            "Love in Bombay\n",
            "D-Day (2013 film)\n",
            "Siddharth (2013 film)\n",
            "Once Upon ay Time in Mumbai Dobaara!\n",
            "Madras Cafe\n",
            "Satyagraha (film)\n",
            "Shuddh Desi Romance\n",
            "Ramaiya Vastavaiya\n",
            "Chennai Express\n",
            "Grand Masti\n",
            "John Day (film)\n",
            "Horror Story (film)\n",
            "Phata Poster Nikhla Hero\n",
            "Ship of Theseus (film)\n",
            "The Lunchbox\n",
            "Baat Bann Gayi\n",
            "Boss (2013 Hindi film)\n",
            "Shahid (film)\n",
            "Mickey Virus\n",
            "Satya 2\n",
            "Rajjo\n",
            "Maazii\n",
            "Sooper Se Ooper\n",
            "Prague (2013 film)\n",
            "Wake Up India\n",
            "Super Model (film)\n",
            "Gori Tere Pyaar Mein\n",
            "What the Fish\n",
            "Jackpot (2013 film)\n",
            "Table No. 21\n",
            "Bullett Raja\n",
            "Dhoom 3\n",
            "Chashme Baddoor (2013 film)\n",
            "Lootera\n",
            "War Chhod Na Yaar\n",
            "Chaalis Chauraasi\n",
            "Ghost (2012 film)\n",
            "Sadda Adda\n",
            "Singh Saab the Great\n",
            "Goliyon Ki Raasleela Ram-Leela\n",
            "Agneepath (2012 film)\n",
            "Ek Main Aur Ekk Tu\n",
            "Ekk Deewana Tha\n",
            "?: A Question Mark\n",
            "Jodi Breakers\n",
            "Tere Naal Love Ho Gaya\n",
            "Staying Alive (2012 film)\n",
            "Paan Singh Tomar (film)\n",
            "Kahaani\n",
            "Zindagi Tere Naam\n",
            "Agent Vinod (2012 film)\n",
            "Blood Money (2012 film)\n",
            "Bumboo\n",
            "Valentine's Night\n",
            "Married 2 America\n",
            "Chaar Din Ki Chandni\n",
            "Bittoo Boss\n",
            "Vicky Donor\n",
            "Hate Story\n",
            "Tezz\n",
            "Dangerous Ishhq\n",
            "Ishaqzaade\n",
            "Department (film)\n",
            "Fatso!\n",
            "Arjun: The Warrior Prince\n",
            "Life Ki Toh Lag Gayi\n",
            "Shanghai (2012 film)\n",
            "Ferrari Ki Sawaari\n",
            "Teri Meri Kahaani (film)\n",
            "Mr. Bhatti on Chutti\n",
            "Yeh Khula Aasmaan\n",
            "Rakhtbeej\n",
            "Gangs of Wasseypur\n",
            "Gangs of Wasseypur – Part 2\n",
            "Cocktail (2012 film)\n",
            "Gattu\n",
            "Kyaa Super Kool Hain Hum\n",
            "Maximum (film)\n",
            "Paanch Ghantey Mien Paanch Crore\n",
            "Ek Tha Tiger\n",
            "Challo Driver\n",
            "Shirin Farhad Ki Toh Nikal Padi\n",
            "Joker (2012 film)\n",
            "Aalaap (film)\n",
            "Mere Dost Picture Abhi Baki Hai\n",
            "Krishna Aur Kans\n",
            "From Sydney with Love\n",
            "Jalpari: The Desert Mermaid\n",
            "Barfi!\n",
            "Heroine (2012 film)\n",
            "Chal Pichchur Banate Hain\n",
            "Kismat Love Paisa Dilli\n",
            "Jeena Hai Toh Thok Daal\n",
            "OMG – Oh My God!\n",
            "Aiyyaa\n",
            "Chittagong (film)\n",
            "Bhoot Returns\n",
            "Delhi Safari\n",
            "Chakravyuh (2012 film)\n",
            "Student of the Year\n",
            "Ajab Gazabb Love\n",
            "Rush (2012 film)\n",
            "1920: The Evil Returns\n",
            "Sons of Ram\n",
            "Ata Pata Laapata\n",
            "Jab Tak Hai Jaan\n",
            "Talaash: The Answer Lies Within\n",
            "Login (film)\n",
            "Son of Sardaar\n",
            "Cigarette Ki Tarah\n",
            "Dabangg 2\n",
            "Players (2012 film)\n",
            "Housefull 2\n",
            "Bol Bachchan\n",
            "English Vinglish\n",
            "Impatient Vivek\n",
            "Yamla Pagla Deewana\n",
            "Mumbai Mast Kallander\n",
            "Dhobi Ghat (film)\n",
            "Turning 30\n",
            "Hostel (2011 film)\n",
            "Dil Toh Baccha Hai Ji\n",
            "United Six\n",
            "Utt Pataang\n",
            "Patiala House (film)\n",
            "7 Khoon Maaf\n",
            "Tanu Weds Manu\n",
            "F.A.L.T.U\n",
            "Memories in March\n",
            "Thank You (2011 film)\n",
            "Angel (2011 film)\n",
            "Happy Husbands (2011 film)\n",
            "Teen Thay Bhai\n",
            "Dum Maaro Dum (film)\n",
            "Shor in the City\n",
            "Zokkomon\n",
            "Chalo Dilli\n",
            "Aashiqui.in\n",
            "Satrangee Parachute\n",
            "Monica (film)\n",
            "I Am (2010 Indian film)\n",
            "Naughty @ 40\n",
            "Haunted – 3D\n",
            "Love U...Mr. Kalakaar!\n",
            "Ragini MMS\n",
            "Stanley Ka Dabba\n",
            "Shagird (2011 film)\n",
            "404 (film)\n",
            "Shaitan (film)\n",
            "Pyaar Ka Punchnama\n",
            "Bheja Fry 2\n",
            "Always Kabhi Kabhi\n",
            "Double Dhamaal\n",
            "Bbuddah... Hoga Terra Baap\n",
            "Delhi Belly (film)\n",
            "Murder 2\n",
            "Chillar Party\n",
            "Zindagi Na Milegi Dobara\n",
            "Dear Friend Hitler\n",
            "I Am Kalam\n",
            "Bin Bulaye Baraati\n",
            "Kucch Luv Jaisaa\n",
            "Singham\n",
            "Khap (film)\n",
            "Bubble Gum (film)\n",
            "Shabri\n",
            "Phhir\n",
            "Aarakshan\n",
            "Chatur Singh Two Star\n",
            "Sahi Dhandhe Galat Bande\n",
            "Bodyguard (2011 Hindi film)\n",
            "Yeh Dooriyan\n",
            "Not a Love Story (2011 film)\n",
            "Hum Tum Shabana\n",
            "Mummy Punjabi\n",
            "Mere Brother Ki Dulhan\n",
            "Mausam (2011 film)\n",
            "U R My Jaan\n",
            "Force (2011 film)\n",
            "Saheb Biwi Aur Gangster\n",
            "Tere Mere Phere\n",
            "Breakaway (2011 film)\n",
            "Chargesheet (film)\n",
            "Love Breakups Zindagi\n",
            "Mujhse Fraaandship Karoge\n",
            "Aazaan\n",
            "Ra.One\n",
            "Rockstar (2011 film)\n",
            "Miley Naa Miley Hum\n",
            "Tell Me O Kkhuda\n",
            "Damadamm!\n",
            "Ladies vs Ricky Bahl\n",
            "Desi Boyz\n",
            "Game (2011 film)\n",
            "No One Killed Jessica\n",
            "Rascals (2011 film)\n",
            "The Dirty Picture\n",
            "Pyaar Impossible!\n",
            "Chance Pe Dance\n",
            "My Friend Pinto\n",
            "Veer (2010 film)\n",
            "Striker (2010 film)\n",
            "Rann (film)\n",
            "Ishqiya\n",
            "Road to Sangam\n",
            "Jo Hum Chahein\n",
            "Click (2010 film)\n",
            "Toh Baat Pakki!\n",
            "My Name Is Khan\n",
            "Teen Patti (film)\n",
            "Karthik Calling Karthik\n",
            "Don 2\n",
            "Rokkk\n",
            "Aakhari Decision\n",
            "Right Yaaa Wrong\n",
            "Sukhmani: Hope for Life\n",
            "Thanks Maa\n",
            "Na Ghar Ke Na Ghaat Ke\n",
            "Trump Card (film)\n",
            "Shaapit\n",
            "Hum Tum Aur Ghost\n",
            "Well Done Abba\n",
            "Tum Milo Toh Sahi\n",
            "Jaane Kahan Se Aayi Hai\n",
            "Prem Kaa Game\n",
            "Sadiyaan\n",
            "The Japanese Wife\n",
            "Paathshaala\n",
            "Phoonk 2\n",
            "Lahore (film)\n",
            "Apartment (film)\n",
            "City of Gold (2010 film)\n",
            "Chase (2010 film)\n",
            "Housefull (2010 film)\n",
            "Mittal v/s Mittal\n",
            "It's a Wonderful Afterlife\n",
            "Prince (2010 film)\n",
            "Raavan\n",
            "Bumm Bumm Bole\n",
            "Kushti (film)\n",
            "Kites (film)\n",
            "Love Sex Aur Dhokha\n",
            "Milenge Milenge\n",
            "Ek Second... Jo Zindagi Badal De?\n",
            "Mr. Singh Mrs. Mehta\n",
            "Lamhaa\n",
            "Khatta Meetha (2010 film)\n",
            "Tere Bin Laden\n",
            "Udaan (2010 film)\n",
            "Once Upon a Time in Mumbaai\n",
            "Help (film)\n",
            "Peepli Live\n",
            "Lafangey Parindey\n",
            "Hello Darling\n",
            "Antardwand\n",
            "Aashayein\n",
            "Soch Lo\n",
            "Dabangg\n",
            "Khichdi: The Movie\n",
            "Red Alert: The War Within\n",
            "Life Express (2010 film)\n",
            "The Film Emotional Atyachar\n",
            "Hisss\n",
            "Crook (film)\n",
            "Do Dooni Chaar\n",
            "Aakrosh (2010 film)\n",
            "Ramayana: The Epic\n",
            "Knock Out (2010 film)\n",
            "Jhootha Hi Sahi\n",
            "Guzaarish (film)\n",
            "Allah Ke Banday\n",
            "Break Ke Baad\n",
            "Khuda Kasam\n",
            "Phas Gaye Re Obama\n",
            "Malik Ek\n",
            "A Flat (film)\n",
            "No Problem (2010 film)\n",
            "Band Baaja Baaraat\n",
            "Kaalo\n",
            "Mirch\n",
            "Tees Maar Khan (2010 film)\n",
            "Isi Life Mein\n",
            "Toonpur Ka Super Hero\n",
            "Tera Kya Hoga Johnny\n",
            "Ramaa: The Saviour\n",
            "I Hate Luv Storys\n",
            "Dulha Mil Gaya\n",
            "Anjaana Anjaani\n",
            "Dunno Y... Na Jaane Kyon\n",
            "Pankh\n",
            "Action Replayy\n",
            "3 Idiots\n",
            "Luck by Chance\n",
            "Love Aaj Kal\n",
            "Wanted (2009 film)\n",
            "Delhi-6\n",
            "Raaz: The Mystery Continues\n",
            "Aasma: The Sky Is the Limit\n",
            "Ajab Prem Ki Ghazab Kahani\n",
            "Chal Chala Chal\n",
            "Billu\n",
            "The Stoneman Murders\n",
            "Kisse Pyaar Karoon\n",
            "Dhoondte Reh Jaaoge\n",
            "Karma Aur Holi\n",
            "Victory (2009 film)\n",
            "Kaminey\n",
            "Jai Veeru\n",
            "Little Zizou\n",
            "Gulaal (film)\n",
            "Aloo Chaat (film)\n",
            "Barah Aana\n",
            "Firaaq\n",
            "Aa Dekhen Zara\n",
            "99 (2009 film)\n",
            "Ek: The Power of One\n",
            "Ek Se Bure Do\n",
            "Sikandar (2009 film)\n",
            "Zor Lagaa Ke...Haiya!\n",
            "Paying Guests\n",
            "New York (2009 film)\n",
            "Sankat City\n",
            "Shortkut\n",
            "Luck (2009 film)\n",
            "Life Partner\n",
            "Daddy Cool (2009 Hindi film)\n",
            "Kisaan\n",
            "Yeh Mera India\n",
            "Aagey Se Right\n",
            "Chintu Ji\n",
            "Quick Gun Murugun\n",
            "Fox (film)\n",
            "Baabarr\n",
            "Phir Kabhi\n",
            "Vaada Raha\n",
            "Dil Bole Hadippa!\n",
            "What's Your Raashee?\n",
            "Acid Factory\n",
            "All the Best: Fun Begins\n",
            "Wake Up Sid\n",
            "Main Aurr Mrs Khanna\n",
            "Blue (2009 film)\n",
            "Fruit and Nut (film)\n",
            "Aladin (film)\n",
            "London Dreams\n",
            "Jail (2009 film)\n",
            "Tum Mile\n",
            "Kurbaan (2009 film)\n",
            "De Dana Dan\n",
            "Paa (film)\n",
            "Rocket Singh: Salesman of the Year\n",
            "Raat Gayi Baat Gayi?\n",
            "Accident on Hill Road\n",
            "Chandni Chowk to China\n",
            "Dostana (2008 film)\n",
            "Race (2008 film)\n",
            "Rab Ne Bana Di Jodi\n",
            "Ghajini (2008 film)\n",
            "Singh Is Kinng\n",
            "Golmaal Returns\n",
            "Jodhaa Akbar\n",
            "Bachna Ae Haseeno\n",
            "Bhoothnath\n",
            "Sarkar Raj\n",
            "Halla Bol\n",
            "Humne Jeena Seekh Liya\n",
            "Bombay to Bangkok\n",
            "Tulsi (film)\n",
            "Sunday (2008 film)\n",
            "One Two Three\n",
            "Krazzy 4\n",
            "U Me Aur Hum\n",
            "Sirf (film)\n",
            "Tashan (film)\n",
            "Anamika (2008 film)\n",
            "Jimmy (2008 film)\n",
            "Jannat (film)\n",
            "Don Muthu Swami\n",
            "Woodstock Villa\n",
            "Mere Baap Pehle Aap\n",
            "Summer 2007\n",
            "De Taali\n",
            "Haal-e-Dil\n",
            "Thodi Life Thoda Magic\n",
            "Thoda Pyaar Thoda Magic\n",
            "Via Darjeeling\n",
            "Kismat Konnection\n",
            "Love Story 2050\n",
            "Contract (2008 film)\n",
            "Mission Istaanbul\n",
            "Money Hai Toh Honey Hai\n",
            "God Tussi Great Ho\n",
            "Mumbai Meri Jaan\n",
            "Maan Gaye Mughal-e-Azam\n",
            "Rock On!!\n",
            "C Kkompany\n",
            "Chamku\n",
            "Mukhbiir\n",
            "Tahaan\n",
            "1920 (film)\n",
            "The Last Lear\n",
            "Welcome to Sajjanpur\n",
            "Saas Bahu Aur Sensex\n",
            "Hari Puttar: A Comedy of Terrors\n",
            "Drona (2008 film)\n",
            "Hello (2008 film)\n",
            "Karzzzz\n",
            "Heroes (2008 film)\n",
            "Roadside Romeo\n",
            "Ek Vivaah... Aisa Bhi\n",
            "Deshdrohi\n",
            "Fashion (2008 film)\n",
            "Dasvidaniya\n",
            "Yuvvraaj\n",
            "Oye Lucky! Lucky Oye!\n",
            "Oh My God (2008 film)\n",
            "Sorry Bhai!\n",
            "1971 (2007 film)\n",
            "Meerabai Not Out\n",
            "Wafa: A Deadly Love Story\n",
            "Gumnaam – The Mystery\n",
            "Dil Kabaddi\n",
            "Aag (2007 film)\n",
            "Aap Kaa Surroor\n",
            "Aggar (film)\n",
            "Anwar (2007 film)\n",
            "Aaja Nachle\n",
            "Apne\n",
            "Awarapan\n",
            "Bheja Fry (film)\n",
            "Bhool Bhulaiyaa\n",
            "Bhram\n",
            "Big Brother (2007 film)\n",
            "68 Pages\n",
            "Aur Pappu Paas Ho Gaya\n",
            "Apna Asmaan\n",
            "Black Friday (2007 film)\n",
            "The Blue Umbrella (2005 film)\n",
            "Blood Brothers (2007 Indian film)\n",
            "Buddha Mar Gaya\n",
            "Cash (2007 film)\n",
            "Cheeni Kum\n",
            "Chhodon Naa Yaar\n",
            "Darling (2007 Indian film)\n",
            "Chak De! India\n",
            "Dhamaal\n",
            "Goal (2007 Hindi film)\n",
            "Dharm (film)\n",
            "Bombay to Goa (2007 film)\n",
            "Dhokha\n",
            "Dil Dosti Etc\n",
            "Dhol (film)\n",
            "Ek Chalis Ki Last Local\n",
            "Familywala\n",
            "Gandhi My Father\n",
            "Don't Stop Dreaming\n",
            "Dus Kahaniyaan\n",
            "Eklavya: The Royal Guard\n",
            "Go (2007 film)\n",
            "Gauri: The Unborn\n",
            "Heyy Babyy\n",
            "Guru (2007 film)\n",
            "Honeymoon Travels Pvt. Ltd.\n",
            "Jahan Jaaeyega Hamen Paaeyega\n",
            "Jhoom Barabar Jhoom\n",
            "Jab We Met\n",
            "Good Boy Bad Boy\n",
            "Fool & Final\n",
            "Khoya Khoya Chand\n",
            "Johnny Gaddaar\n",
            "Just Married (2007 film)\n",
            "Kya Love Story Hai\n",
            "Kudiyon Ka Hai Zamana\n",
            "Hastey Hastey\n",
            "Laaga Chunari Mein Daag\n",
            "Life in a... Metro\n",
            "Loins of Punjab Presents\n",
            "Manorama Six Feet Under\n",
            "Marigold (2007 film)\n",
            "MP3: Mera Pehla Pehla Pyaar\n",
            "Hattrick (film)\n",
            "Naqaab\n",
            "Mumbai Salsa\n",
            "The Namesake (film)\n",
            "Namastey London\n",
            "My Bollywood Bride\n",
            "Nehlle Pe Dehlla\n",
            "Nishabd\n",
            "No Smoking (2007 film)\n",
            "Om Shanti Om\n",
            "Partner (2007 film)\n",
            "Raqeeb\n",
            "Nanhe Jaisalmer\n",
            "Life Mein Kabhie Kabhiee\n",
            "Risk (2007 film)\n",
            "Shakalaka Boom Boom\n",
            "Red Swastik\n",
            "Salaam-e-Ishq: A Tribute to Love\n",
            "Saawariya\n",
            "Sarhad Paar\n",
            "Say Salaam India\n",
            "Red: The Dark Side\n",
            "Shootout at Lokhandwala\n",
            "Strangers (2007 Hindi film)\n",
            "Swami (2007 film)\n",
            "Taare Zameen Par\n",
            "Ta Ra Rum Pum\n",
            "Speed (2007 film)\n",
            "Traffic Signal (film)\n",
            "The Train (2007 film)\n",
            "Showbiz (film)\n",
            "Sunglass (film)\n",
            "Welcome (2007 film)\n",
            "36 China Town\n",
            "Zamaanat\n",
            "Aap Ki Khatir (2006 film)\n",
            "Ahista Ahista (2006 film)\n",
            "Aksar\n",
            "Alag\n",
            "Anthony Kaun Hai?\n",
            "Apna Sapna Money Money\n",
            "Ankahee (2006 film)\n",
            "Yatra (2007 film)\n",
            "Baabul (2006 film)\n",
            "Aisa Kyon Hota Hai?\n",
            "Adharm (2006 film)\n",
            "Being Cyrus\n",
            "Banaras (2006 film)\n",
            "Bas Ek Pal\n",
            "Bhagam Bhag\n",
            "Chingaari\n",
            "Bhoot Unkle\n",
            "Chand Ke Paar Chalo (film)\n",
            "Aryan: Unbreakable\n",
            "Chup Chup Ke\n",
            "Corporate (2006 film)\n",
            "Darna Zaroori Hai\n",
            "Deadline: Sirf 24 Ghante\n",
            "Dil Diya Hai\n",
            "Darwaaza Bandh Rakho\n",
            "Eight: The Power of Shani\n",
            "Dhoom 2\n",
            "Dor (film)\n",
            "Don (2006 Hindi film)\n",
            "Family (2006 film)\n",
            "Fanaa (2006 film)\n",
            "Gangster (2006 film)\n",
            "Golmaal: Fun Unlimited\n",
            "Devaki (2005 film)\n",
            "Fight Club – Members Only\n",
            "Dharti Kahe Pukar Ke (2006 film)\n",
            "Humko Deewana Kar Gaye\n",
            "Humko Tumse Pyaar Hai\n",
            "I See You (2006 film)\n",
            "Jaane Hoga Kya\n",
            "Jaan-E-Mann\n",
            "Jawani Diwani: A Youthful Joyride\n",
            "Holiday (2006 film)\n",
            "Iqraar by Chance\n",
            "Khosla Ka Ghosla\n",
            "Kabhi Alvida Naa Kehna\n",
            "Love Ke Chakkar Mein\n",
            "Lage Raho Munna Bhai\n",
            "Kabul Express\n",
            "Jigyaasa\n",
            "Krrish\n",
            "Malamaal Weekly\n",
            "Omkara (2006 film)\n",
            "Pyaar Ke Side Effects\n",
            "Naksha\n",
            "Phir Hera Pheri\n",
            "Pyare Mohan\n",
            "Mere Jeevan Saathi (2006 film)\n",
            "Prateeksha\n",
            "Sacred Evil – A True Story\n",
            "Rang De Basanti\n",
            "Shaadi Karke Phas Gaya Yaar\n",
            "Sandwich (2006 film)\n",
            "Shaadi Se Pehle\n",
            "Saawan... The Love Season\n",
            "Shiva (2006 film)\n",
            "Souten: The Other Woman\n",
            "Shikhar (film)\n",
            "Children of Heaven\n",
            "Tathastu\n",
            "The Killer (2006 film)\n",
            "Umrao Jaan (2006 film)\n",
            "Taxi No. 9211\n",
            "Teesri Aankh: The Hidden Camera\n",
            "Vivah\n",
            "Utthaan\n",
            "Waris Shah: Ishq Daa Waaris\n",
            "Woh Lamhe...\n",
            "Yun Hota Toh Kya Hota\n",
            "Umar (film)\n",
            "Zindaggi Rocks\n",
            "Tom Dick and Harry (2006 film)\n",
            "Aashiq Banaya Aapne\n",
            "Anjaane (2005 film)\n",
            "Apaharan\n",
            "Bachke Rehna Re Baba\n",
            "7½ Phere\n",
            "Barsaat (2005 film)\n",
            "Bewafaa (2005 film)\n",
            "Black (2005 film)\n",
            "Zinda (film)\n",
            "Bluffmaster!\n",
            "99.9 FM (film)\n",
            "Bhola in Bollywood\n",
            "Bhagmati (2005 film)\n",
            "Blackmail (2005 film)\n",
            "Bunty Aur Babli\n",
            "Chaahat – Ek Nasha\n",
            "Chetna: The Excitement\n",
            "Chand Sa Roshan Chehra\n",
            "Chocolate (2005 film)\n",
            "D (film)\n",
            "Deewane Huye Paagal\n",
            "Bullet: Ek Dhamaka\n",
            "Chehraa\n",
            "Dil Jo Bhi Kahey...\n",
            "Dosti: Friends Forever\n",
            "Classic – Dance of Love\n",
            "Dus\n",
            "Elaan (2005 film)\n",
            "Fareb (2005 film)\n",
            "Ek Ajnabee\n",
            "Fun – Can Be Dangerous Sometimes\n",
            "Ek Khiladi Ek Haseena (film)\n",
            "Double Cross (2005 film)\n",
            "Dreams (2006 film)\n",
            "Home Delivery\n",
            "Garam Masala (2005 film)\n",
            "Iqbal (film)\n",
            "Jai Chiranjeeva\n",
            "Hazaaron Khwaishein Aisi\n",
            "Insan\n",
            "Jo Bole So Nihaal (film)\n",
            "Karam (film)\n",
            "Kaal (2005 film)\n",
            "Kalyug (2005 film)\n",
            "Kasak (2005 film)\n",
            "Hanuman (2005 film)\n",
            "James (2005 film)\n",
            "Kisna: The Warrior Poet\n",
            "Koi Aap Sa\n",
            "Khamoshh... Khauff Ki Raat\n",
            "Jurm (2005 film)\n",
            "Kuchh Meetha Ho Jaye\n",
            "Kyaa Kool Hai Hum\n",
            "Lucky: No Time for Love\n",
            "Main Aisa Hi Hoon\n",
            "Kyon Ki\n",
            "Main Meri Patni Aur Woh\n",
            "Maine Gandhi Ko Nahin Mara\n",
            "Maine Pyaar Kyun Kiya?\n",
            "Mangal Pandey: The Rising\n",
            "Koi Mere Dil Mein Hai\n",
            "Mr Prime Minister\n",
            "My Brother…Nikhil\n",
            "My Wife's Murder\n",
            "Naina (2005 film)\n",
            "Neal 'n' Nikki\n",
            "No Entry\n",
            "Padmashree Laloo Prasad Yadav\n",
            "Page 3 (film)\n",
            "Morning Raga\n",
            "Parineeta (2005 film)\n",
            "Pehchaan: The Face of Truth\n",
            "Paheli\n",
            "Rog\n",
            "Pyaar Mein Twist\n",
            "Salaam Namaste\n",
            "Revati (film)\n",
            "Sarkar (2005 film)\n",
            "Sehar\n",
            "Shabd (film)\n",
            "Shabnam Mausi\n",
            "Sheesha (2005 film)\n",
            "Ramji Londonwaley\n",
            "Silsiilay\n",
            "Socha Na Tha\n",
            "Taj Mahal: An Eternal Love Story\n",
            "Tango Charlie\n",
            "The Film\n",
            "Vaada (film)\n",
            "Vaah! Life Ho Toh Aisi!\n",
            "Ssukh\n",
            "Shaadi No. 1\n",
            "Viruddh... Family Comes First\n",
            "Waqt: The Race Against Time\n",
            "Vidyaarthi\n",
            "Yakeen (2005 film)\n",
            "Zeher\n",
            "Veer-Zaara\n",
            "Main Hoon Na\n",
            "Zameer: The Fire Within\n",
            "Mujhse Shaadi Karogi\n",
            "Dhoom\n",
            "Khakee\n",
            "Hum Tum\n",
            "Hulchul (2004 film)\n",
            "Murder (2004 film)\n",
            "Yuva\n",
            "Aitraaz\n",
            "Aetbaar\n",
            "Ab Tumhare Hawale Watan Saathiyo\n",
            "Aan: Men at Work\n",
            "Bardaasht\n",
            "Chameli (film)\n",
            "Agnipankh\n",
            "Asambhav\n",
            "Charas (2004 film)\n",
            "Deewaar (2004 film)\n",
            "Dev (2004 film)\n",
            "Dil Maange More\n",
            "Dil Ne Jise Apna Kahaa\n",
            "Dobara\n",
            "Aabra Ka Daabra\n",
            "Dil Bechara Pyaar Ka Maara\n",
            "Gayab\n",
            "Fida\n",
            "Garv: Pride & Honour\n",
            "Ek Se Badhkar Ek (2004 film)\n",
            "Ek Hasina Thi (film)\n",
            "Girlfriend (2004 film)\n",
            "Hatya (2004 film)\n",
            "Hava Aney Dey\n",
            "Hawas (2004 film)\n",
            "Hyderabad Blues 2\n",
            "Julie (2004 film)\n",
            "Kaun Hai Jo Sapno Mein Aaya\n",
            "Inteqam: The Perfect Game\n",
            "Kis Kis Ki Kismat\n",
            "Insaaf: The Justice\n",
            "I Proud to Be an Indian\n",
            "Khamosh Pani\n",
            "Kismat (2004 film)\n",
            "Lakeer – Forbidden Lines\n",
            "Krishna Cottage\n",
            "Kyun! Ho Gaya Na...\n",
            "Madhoshi\n",
            "Lakshya (film)\n",
            "Ishq Hai Tumse\n",
            "Maqbool\n",
            "Masti (2004 film)\n",
            "Meenaxi: A Tale of Three Cities\n",
            "Musafir (2004 film)\n",
            "Mughal-e-Azam\n",
            "Muskaan\n",
            "Meri Biwi Ka Jawaab Nahin\n",
            "Naach (2004 film)\n",
            "Netaji Subhas Chandra Bose: The Forgotten Hero\n",
            "Paap\n",
            "Phir Milenge\n",
            "Plan (film)\n",
            "Police Force: An Inside Story\n",
            "Paisa Vasool\n",
            "Popcorn Khao! Mast Ho Jao\n",
            "Rakht\n",
            "Raincoat (film)\n",
            "Rudraksh (film)\n",
            "Shaadi Ka Laddoo\n",
            "Run (2004 film)\n",
            "Rok Sako To Rok Lo\n",
            "Suno Sasurjee\n",
            "Swades\n",
            "Taarzan: The Wonder Car\n",
            "Nothing but Life\n",
            "Shart: The Challenge\n",
            "Tumsa Nahin Dekha: A Love Story\n",
            "Vaastu Shastra (film)\n",
            "Yeh Lamhe Judaai Ke\n",
            "Sheen (film)\n",
            "Dude Where's the Party?\n",
            "Thoda Tum Badlo Thoda Hum\n",
            "Koi... Mil Gaya\n",
            "Kal Ho Naa Ho\n",
            "Shukriya: Till Death Do Us Apart\n",
            "Chalte Chalte (2003 film)\n",
            "The Hero: Love Story of a Spy\n",
            "Baghban (2003 film)\n",
            "Main Prem Ki Diwani Hoon\n",
            "LOC Kargil\n",
            "Border (1997 film)\n",
            "Munna Bhai M.B.B.S.\n",
            "Qayamat: City Under Threat\n",
            "88 Antop Hill\n",
            "3 Deewarein\n",
            "Aanch\n",
            "Aapko Pehle Bhi Kahin Dekha Hai\n",
            "Bhoot (film)\n",
            "Boom (film)\n",
            "Aaj Ka Andha Kanoon\n",
            "Andaaz\n",
            "Andaaz\n",
            "Armaan (2003 film)\n",
            "Chori Chori (2003 film)\n",
            "Calcutta Mail\n",
            "Baaz: A Bird in Danger\n",
            "Basti (film)\n",
            "Magic Magic 3D\n",
            "Dil Ka Rishta\n",
            "Darna Mana Hai\n",
            "Dhoop\n",
            "Dhund (2003 film)\n",
            "Chura Liyaa Hai Tumne\n",
            "The Bypass\n",
            "Dum (2003 Hindi film)\n",
            "Dil Pardesi Ho Gayaa\n",
            "Ek Alag Mausam\n",
            "Footpath (2003 film)\n",
            "Escape from Taliban\n",
            "Ek Din 24 Ghante\n",
            "Gangaajal\n",
            "Hawa (film)\n",
            "Haasil\n",
            "Ek Aur Ek Gyarah\n",
            "Hungama (2003 film)\n",
            "Green Card Fever\n",
            "Flavors (film)\n",
            "Indian Babu\n",
            "Fun2shh... Dudes in the 10th Century\n",
            "Inteha (2003 film)\n",
            "Jaal: The Trap\n",
            "Ishq Vishk\n",
            "Hawayein\n",
            "Jajantaram Mamantaram\n",
            "Jism (2003 film)\n",
            "Jhankaar Beats\n",
            "Kagaar: Life on the Edge\n",
            "Kash Aap Hamare Hote\n",
            "Khel – No Ordinary Game\n",
            "Janasheen\n",
            "Kaise Kahoon Ke... Pyaar Hai\n",
            "Khushi (2003 Hindi film)\n",
            "Khwahish\n",
            "Kucch To Hai\n",
            "Kuch Naa Kaho\n",
            "Main Madhuri Dixit Banna Chahti Hoon\n",
            "Joggers' Park (film)\n",
            "Market (2003 film)\n",
            "Om (2003 film)\n",
            "Out of Control (2003 film)\n",
            "Mumbai Matinee\n",
            "Matrubhoomi\n",
            "Parwana (2003 film)\n",
            "Pinjar (film)\n",
            "Mumbai Se Aaya Mera Dost\n",
            "Saaya (2003 film)\n",
            "Samay: When Time Strikes\n",
            "Nayee Padosan\n",
            "Satta (film)\n",
            "Sssshhh...\n",
            "Praan Jaye Par Shaan Na Jaye\n",
            "Raghu Romeo\n",
            "Stumped (film)\n",
            "Rules: Pyaar Ka Superhit Formula\n",
            "Right Here Right Now (film)\n",
            "Raja Bhaiya (film)\n",
            "Tere Naam\n",
            "Tujhe Meri Kasam\n",
            "Talaash: The Hunt Begins...\n",
            "Tehzeeb (2003 film)\n",
            "The Pink Mirror\n",
            "Yeh Dil\n",
            "Xcuse Me\n",
            "Raaz (2002 film)\n",
            "Zameen (2003 film)\n",
            "Waisa Bhi Hota Hai Part II\n",
            "Devdas (2002 Hindi film)\n",
            "Kaante\n",
            "Hum Tumhare Hain Sanam\n",
            "Aankhen (2002 film)\n",
            "Saathiya (film)\n",
            "Company (film)\n",
            "Awara Paagal Deewana\n"
          ]
        }
      ]
    },
    {
      "cell_type": "markdown",
      "source": [
        "####Artimetic Operations"
      ],
      "metadata": {
        "id": "QVAQ2Zw9Mgj5"
      }
    },
    {
      "cell_type": "code",
      "source": [
        "marks_series"
      ],
      "metadata": {
        "colab": {
          "base_uri": "https://localhost:8080/"
        },
        "id": "4cTncOC9Mf3v",
        "outputId": "58597305-8ffa-41fd-9399-0f5b604227c5"
      },
      "execution_count": 47,
      "outputs": [
        {
          "output_type": "execute_result",
          "data": {
            "text/plain": [
              "maths      89\n",
              "english    95\n",
              "history    90\n",
              "science    90\n",
              "Name: myMarks, dtype: int64"
            ]
          },
          "metadata": {},
          "execution_count": 47
        }
      ]
    },
    {
      "cell_type": "markdown",
      "source": [
        "####Broadcasting"
      ],
      "metadata": {
        "id": "LuYIUSqzMp8h"
      }
    },
    {
      "cell_type": "code",
      "source": [
        "100 - marks_series"
      ],
      "metadata": {
        "colab": {
          "base_uri": "https://localhost:8080/"
        },
        "id": "dZwW_etwMmm3",
        "outputId": "628c9199-289f-4ab4-9759-dfe1a9a0d2f5"
      },
      "execution_count": 48,
      "outputs": [
        {
          "output_type": "execute_result",
          "data": {
            "text/plain": [
              "maths      11\n",
              "english     5\n",
              "history    10\n",
              "science    10\n",
              "Name: myMarks, dtype: int64"
            ]
          },
          "metadata": {},
          "execution_count": 48
        }
      ]
    },
    {
      "cell_type": "markdown",
      "source": [
        "####Relational Operators\n",
        "#####Output is boolean"
      ],
      "metadata": {
        "id": "1UkezQ5ZM2yB"
      }
    },
    {
      "cell_type": "code",
      "source": [
        "vk >= 50"
      ],
      "metadata": {
        "colab": {
          "base_uri": "https://localhost:8080/"
        },
        "id": "LDQQVYo1MtRg",
        "outputId": "aed25082-5b27-4b96-948b-3634352166c9"
      },
      "execution_count": 49,
      "outputs": [
        {
          "output_type": "execute_result",
          "data": {
            "text/plain": [
              "match_no\n",
              "1      False\n",
              "2      False\n",
              "3      False\n",
              "4      False\n",
              "5      False\n",
              "       ...  \n",
              "211    False\n",
              "212    False\n",
              "213     True\n",
              "214    False\n",
              "215    False\n",
              "Name: runs, Length: 215, dtype: bool"
            ]
          },
          "metadata": {},
          "execution_count": 49
        }
      ]
    },
    {
      "cell_type": "markdown",
      "source": [
        "####Boolean Indexing\n",
        "#####Using the boolean condition and pass it as an index to the series. All the places where the boolean expression is true will act as an index."
      ],
      "metadata": {
        "id": "0DLloTm6NxGq"
      }
    },
    {
      "cell_type": "code",
      "source": [
        "vk[vk >= 50]"
      ],
      "metadata": {
        "colab": {
          "base_uri": "https://localhost:8080/"
        },
        "id": "mIGViTc7NiEt",
        "outputId": "d0af5276-026f-4828-fc1b-d5559bf51e5d"
      },
      "execution_count": 50,
      "outputs": [
        {
          "output_type": "execute_result",
          "data": {
            "text/plain": [
              "match_no\n",
              "15      50\n",
              "34      58\n",
              "41      71\n",
              "44      56\n",
              "45      67\n",
              "52      70\n",
              "57      57\n",
              "68      73\n",
              "71      51\n",
              "73      58\n",
              "74      65\n",
              "80      57\n",
              "81      93\n",
              "82      99\n",
              "85      56\n",
              "97      67\n",
              "99      73\n",
              "103     51\n",
              "104     62\n",
              "110     82\n",
              "116     75\n",
              "117     79\n",
              "119     80\n",
              "120    100\n",
              "122     52\n",
              "123    108\n",
              "126    109\n",
              "127     75\n",
              "128    113\n",
              "129     54\n",
              "131     54\n",
              "132     62\n",
              "134     64\n",
              "137     55\n",
              "141     58\n",
              "144     57\n",
              "145     92\n",
              "148     68\n",
              "152     70\n",
              "160     84\n",
              "162     67\n",
              "164    100\n",
              "175     72\n",
              "178     90\n",
              "182     50\n",
              "188     72\n",
              "197     51\n",
              "198     53\n",
              "209     58\n",
              "213     73\n",
              "Name: runs, dtype: int64"
            ]
          },
          "metadata": {},
          "execution_count": 50
        }
      ]
    },
    {
      "cell_type": "code",
      "source": [
        "vk[vk == 0]"
      ],
      "metadata": {
        "colab": {
          "base_uri": "https://localhost:8080/"
        },
        "id": "4qleUAY2NsQl",
        "outputId": "93736cfe-8ba9-4860-ee65-6734104c1f49"
      },
      "execution_count": 51,
      "outputs": [
        {
          "output_type": "execute_result",
          "data": {
            "text/plain": [
              "match_no\n",
              "8      0\n",
              "87     0\n",
              "91     0\n",
              "93     0\n",
              "130    0\n",
              "135    0\n",
              "206    0\n",
              "207    0\n",
              "211    0\n",
              "Name: runs, dtype: int64"
            ]
          },
          "metadata": {},
          "execution_count": 51
        }
      ]
    },
    {
      "cell_type": "code",
      "source": [
        "num_movies = movies.value_counts()\n",
        "num_movies > 20\n",
        "num_movies[num_movies > 20]\n"
      ],
      "metadata": {
        "colab": {
          "base_uri": "https://localhost:8080/"
        },
        "id": "8cPnZDjWOgTr",
        "outputId": "f5a8000e-8a38-4af8-b42b-11d6215ef0e9"
      },
      "execution_count": 58,
      "outputs": [
        {
          "output_type": "execute_result",
          "data": {
            "text/plain": [
              "Akshay Kumar        48\n",
              "Amitabh Bachchan    45\n",
              "Ajay Devgn          38\n",
              "Salman Khan         31\n",
              "Sanjay Dutt         26\n",
              "Shah Rukh Khan      22\n",
              "Emraan Hashmi       21\n",
              "Name: lead, dtype: int64"
            ]
          },
          "metadata": {},
          "execution_count": 58
        }
      ]
    },
    {
      "cell_type": "markdown",
      "source": [
        "####Plotting Graphs On Series Object"
      ],
      "metadata": {
        "id": "bqC9R5K6Pz_4"
      }
    },
    {
      "cell_type": "code",
      "source": [
        "subs.plot()"
      ],
      "metadata": {
        "colab": {
          "base_uri": "https://localhost:8080/",
          "height": 448
        },
        "id": "5HLKFd8jP3xI",
        "outputId": "97561896-4e69-42d5-ec92-4f49c593cf8b"
      },
      "execution_count": 60,
      "outputs": [
        {
          "output_type": "execute_result",
          "data": {
            "text/plain": [
              "<Axes: >"
            ]
          },
          "metadata": {},
          "execution_count": 60
        },
        {
          "output_type": "display_data",
          "data": {
            "text/plain": [
              "<Figure size 640x480 with 1 Axes>"
            ],
            "image/png": "[encoded data removed]"
          },
          "metadata": {}
        }
      ]
    },
    {
      "cell_type": "code",
      "source": [
        "movies.value_counts().head(20).plot(kind='bar')"
      ],
      "metadata": {
        "colab": {
          "base_uri": "https://localhost:8080/",
          "height": 568
        },
        "id": "puYm_s5GQfOg",
        "outputId": "09c42e1c-f928-48d5-93de-0f9294b72c5f"
      },
      "execution_count": 63,
      "outputs": [
        {
          "output_type": "execute_result",
          "data": {
            "text/plain": [
              "<Axes: >"
            ]
          },
          "metadata": {},
          "execution_count": 63
        },
        {
          "output_type": "display_data",
          "data": {
            "text/plain": [
              "<Figure size 640x480 with 1 Axes>"
            ],
            "image/png": "[encoded data removed]"
          },
          "metadata": {}
        }
      ]
    },
    {
      "cell_type": "markdown",
      "source": [
        "####Series Methods\n",
        "\n",
        "*   astype\n",
        "*   between\n",
        "*   clip\n",
        "*   drop_dupicates\n",
        "*   isnull\n",
        "*   dropna\n",
        "*   filna\n",
        "\n"
      ],
      "metadata": {
        "id": "2QQuH43WQ_AP"
      }
    },
    {
      "cell_type": "markdown",
      "source": [
        "#####astype to change the datatype"
      ],
      "metadata": {
        "id": "Yr0KrW7mR832"
      }
    },
    {
      "cell_type": "code",
      "source": [
        "#astype\n",
        "import sys"
      ],
      "metadata": {
        "id": "Fuekotr5RShG"
      },
      "execution_count": 64,
      "outputs": []
    },
    {
      "cell_type": "code",
      "source": [
        "sys.getsizeof(vk)"
      ],
      "metadata": {
        "colab": {
          "base_uri": "https://localhost:8080/"
        },
        "id": "WAX1achFR1uE",
        "outputId": "ed280319-9f5e-4d5f-9b04-44d04ff5ea63"
      },
      "execution_count": 65,
      "outputs": [
        {
          "output_type": "execute_result",
          "data": {
            "text/plain": [
              "11752"
            ]
          },
          "metadata": {},
          "execution_count": 65
        }
      ]
    },
    {
      "cell_type": "code",
      "source": [
        "vkohli = vk.astype('int16')\n",
        "sys.getsizeof(vkohli)"
      ],
      "metadata": {
        "colab": {
          "base_uri": "https://localhost:8080/"
        },
        "id": "TdzOEDp9SF4k",
        "outputId": "145542cc-de1b-4cac-9b9b-1f3fb3ec9aa5"
      },
      "execution_count": 67,
      "outputs": [
        {
          "output_type": "execute_result",
          "data": {
            "text/plain": [
              "10462"
            ]
          },
          "metadata": {},
          "execution_count": 67
        }
      ]
    },
    {
      "cell_type": "markdown",
      "source": [
        "#####between\n",
        "######Output : boolean"
      ],
      "metadata": {
        "id": "aoi7BH-5SU-w"
      }
    },
    {
      "cell_type": "code",
      "source": [
        "vk.between(51,99)"
      ],
      "metadata": {
        "colab": {
          "base_uri": "https://localhost:8080/"
        },
        "id": "qmZ-c_l4SWUz",
        "outputId": "e8979f35-29de-466e-94eb-f7a8a94f9970"
      },
      "execution_count": 68,
      "outputs": [
        {
          "output_type": "execute_result",
          "data": {
            "text/plain": [
              "match_no\n",
              "1      False\n",
              "2      False\n",
              "3      False\n",
              "4      False\n",
              "5      False\n",
              "       ...  \n",
              "211    False\n",
              "212    False\n",
              "213     True\n",
              "214    False\n",
              "215    False\n",
              "Name: runs, Length: 215, dtype: bool"
            ]
          },
          "metadata": {},
          "execution_count": 68
        }
      ]
    },
    {
      "cell_type": "markdown",
      "source": [
        "####clip"
      ],
      "metadata": {
        "id": "8Lp6wF9_SwQo"
      }
    },
    {
      "cell_type": "code",
      "source": [
        "subs"
      ],
      "metadata": {
        "colab": {
          "base_uri": "https://localhost:8080/"
        },
        "id": "NpRj7geNSueI",
        "outputId": "4a06d56e-53ae-4f25-f845-b9e33aeb2d7c"
      },
      "execution_count": 70,
      "outputs": [
        {
          "output_type": "execute_result",
          "data": {
            "text/plain": [
              "0       48\n",
              "1       57\n",
              "2       40\n",
              "3       43\n",
              "4       44\n",
              "      ... \n",
              "360    231\n",
              "361    226\n",
              "362    155\n",
              "363    144\n",
              "364    172\n",
              "Name: Subscribers gained, Length: 365, dtype: int64"
            ]
          },
          "metadata": {},
          "execution_count": 70
        }
      ]
    },
    {
      "cell_type": "code",
      "source": [
        "subs.clip(100,200)"
      ],
      "metadata": {
        "colab": {
          "base_uri": "https://localhost:8080/"
        },
        "id": "u4bSUP7xS8pl",
        "outputId": "e037ad12-c31c-4974-ec90-4f73d4cdd762"
      },
      "execution_count": 71,
      "outputs": [
        {
          "output_type": "execute_result",
          "data": {
            "text/plain": [
              "0      100\n",
              "1      100\n",
              "2      100\n",
              "3      100\n",
              "4      100\n",
              "      ... \n",
              "360    200\n",
              "361    200\n",
              "362    155\n",
              "363    144\n",
              "364    172\n",
              "Name: Subscribers gained, Length: 365, dtype: int64"
            ]
          },
          "metadata": {},
          "execution_count": 71
        }
      ]
    },
    {
      "cell_type": "markdown",
      "source": [
        "####drop_duplicates"
      ],
      "metadata": {
        "id": "Ff0KSP02TTMe"
      }
    },
    {
      "cell_type": "code",
      "source": [
        "temp = pd.Series([1,1,2,2,3,3,4,4])\n",
        "temp.drop_duplicates()"
      ],
      "metadata": {
        "colab": {
          "base_uri": "https://localhost:8080/"
        },
        "id": "KLbhuiEkTKvc",
        "outputId": "b1ea233c-0ba6-4cf1-d552-8d0a2a58cfca"
      },
      "execution_count": 73,
      "outputs": [
        {
          "output_type": "execute_result",
          "data": {
            "text/plain": [
              "0    1\n",
              "2    2\n",
              "4    3\n",
              "6    4\n",
              "dtype: int64"
            ]
          },
          "metadata": {},
          "execution_count": 73
        }
      ]
    },
    {
      "cell_type": "code",
      "source": [
        "temp.drop_duplicates(keep = 'last') #keeps last instance"
      ],
      "metadata": {
        "colab": {
          "base_uri": "https://localhost:8080/"
        },
        "id": "DRxOHXB3TtuN",
        "outputId": "13b72130-8e2d-4a2f-8062-151b9f6dcd9e"
      },
      "execution_count": 74,
      "outputs": [
        {
          "output_type": "execute_result",
          "data": {
            "text/plain": [
              "1    1\n",
              "3    2\n",
              "5    3\n",
              "7    4\n",
              "dtype: int64"
            ]
          },
          "metadata": {},
          "execution_count": 74
        }
      ]
    },
    {
      "cell_type": "markdown",
      "source": [
        "#####duplicated() returns a boolean series"
      ],
      "metadata": {
        "id": "U45xhYpUUVUM"
      }
    },
    {
      "cell_type": "code",
      "source": [
        "temp.duplicated().sum()"
      ],
      "metadata": {
        "colab": {
          "base_uri": "https://localhost:8080/"
        },
        "id": "l_GxKYHeT8xt",
        "outputId": "b4c2d856-c354-495a-d0f9-91177457e8b0"
      },
      "execution_count": 77,
      "outputs": [
        {
          "output_type": "execute_result",
          "data": {
            "text/plain": [
              "4"
            ]
          },
          "metadata": {},
          "execution_count": 77
        }
      ]
    },
    {
      "cell_type": "markdown",
      "source": [
        "####Dealing with missing values"
      ],
      "metadata": {
        "id": "zaGdaICbUQay"
      }
    },
    {
      "cell_type": "code",
      "source": [
        "temp = pd.Series([1, 2, 3, np.nan,4, 5, 6, np.nan, 7, np.nan,8,9,10])\n",
        "temp"
      ],
      "metadata": {
        "colab": {
          "base_uri": "https://localhost:8080/"
        },
        "id": "Slg_ePBIUUdH",
        "outputId": "940e11f1-5553-47f5-a658-9dda2a30280e"
      },
      "execution_count": 80,
      "outputs": [
        {
          "output_type": "execute_result",
          "data": {
            "text/plain": [
              "0      1.0\n",
              "1      2.0\n",
              "2      3.0\n",
              "3      NaN\n",
              "4      4.0\n",
              "5      5.0\n",
              "6      6.0\n",
              "7      NaN\n",
              "8      7.0\n",
              "9      NaN\n",
              "10     8.0\n",
              "11     9.0\n",
              "12    10.0\n",
              "dtype: float64"
            ]
          },
          "metadata": {},
          "execution_count": 80
        }
      ]
    },
    {
      "cell_type": "code",
      "source": [
        "temp.size # size counts missing values."
      ],
      "metadata": {
        "colab": {
          "base_uri": "https://localhost:8080/"
        },
        "id": "TjQknX6pWKh2",
        "outputId": "b44cfbca-b406-4ab5-dc58-1be794623010"
      },
      "execution_count": 81,
      "outputs": [
        {
          "output_type": "execute_result",
          "data": {
            "text/plain": [
              "13"
            ]
          },
          "metadata": {},
          "execution_count": 81
        }
      ]
    },
    {
      "cell_type": "code",
      "source": [
        "temp.count() # count does count missing values."
      ],
      "metadata": {
        "colab": {
          "base_uri": "https://localhost:8080/"
        },
        "id": "Av0wHPd8WRvR",
        "outputId": "b4a0052a-f7b0-4e65-9d98-0ffb589459c5"
      },
      "execution_count": 83,
      "outputs": [
        {
          "output_type": "execute_result",
          "data": {
            "text/plain": [
              "10"
            ]
          },
          "metadata": {},
          "execution_count": 83
        }
      ]
    },
    {
      "cell_type": "markdown",
      "source": [
        "####isnull()\n",
        "#####returns boolean"
      ],
      "metadata": {
        "id": "dAGdEdT9Wpq9"
      }
    },
    {
      "cell_type": "code",
      "source": [
        "temp.isnull().sum()"
      ],
      "metadata": {
        "colab": {
          "base_uri": "https://localhost:8080/"
        },
        "id": "cCt-7nhoWdAm",
        "outputId": "a5ffc375-9405-473f-ce2f-4547be48dad8"
      },
      "execution_count": 85,
      "outputs": [
        {
          "output_type": "execute_result",
          "data": {
            "text/plain": [
              "3"
            ]
          },
          "metadata": {},
          "execution_count": 85
        }
      ]
    },
    {
      "cell_type": "markdown",
      "source": [
        "####Dropping Null Values\n",
        "#####Output is a NEW series with missing values dropped."
      ],
      "metadata": {
        "id": "aXUkB_VVXC3V"
      }
    },
    {
      "cell_type": "code",
      "source": [
        "temp.dropna()"
      ],
      "metadata": {
        "colab": {
          "base_uri": "https://localhost:8080/"
        },
        "id": "uQi1F3IGW_dK",
        "outputId": "70d1a557-e1bf-4745-98e5-0c2717ce989f"
      },
      "execution_count": 86,
      "outputs": [
        {
          "output_type": "execute_result",
          "data": {
            "text/plain": [
              "0      1.0\n",
              "1      2.0\n",
              "2      3.0\n",
              "4      4.0\n",
              "5      5.0\n",
              "6      6.0\n",
              "8      7.0\n",
              "10     8.0\n",
              "11     9.0\n",
              "12    10.0\n",
              "dtype: float64"
            ]
          },
          "metadata": {},
          "execution_count": 86
        }
      ]
    },
    {
      "cell_type": "markdown",
      "source": [
        "####fillna()\n",
        "##### fill missing values with something.\n",
        "#####Output is a NEW series with missing values being replaced by 0.\n"
      ],
      "metadata": {
        "id": "EnWLCXxkXVVn"
      }
    },
    {
      "cell_type": "code",
      "source": [
        "temp.fillna(0) # fill missing values with 0"
      ],
      "metadata": {
        "colab": {
          "base_uri": "https://localhost:8080/"
        },
        "id": "29XoQD0oXY9M",
        "outputId": "7bdf1aca-af24-4506-f95c-dae7bfa82c21"
      },
      "execution_count": 87,
      "outputs": [
        {
          "output_type": "execute_result",
          "data": {
            "text/plain": [
              "0      1.0\n",
              "1      2.0\n",
              "2      3.0\n",
              "3      0.0\n",
              "4      4.0\n",
              "5      5.0\n",
              "6      6.0\n",
              "7      0.0\n",
              "8      7.0\n",
              "9      0.0\n",
              "10     8.0\n",
              "11     9.0\n",
              "12    10.0\n",
              "dtype: float64"
            ]
          },
          "metadata": {},
          "execution_count": 87
        }
      ]
    },
    {
      "cell_type": "markdown",
      "source": [
        "#####Replace missing values with mean."
      ],
      "metadata": {
        "id": "k64wJjAHX5pP"
      }
    },
    {
      "cell_type": "code",
      "source": [
        "temp.fillna(temp.mean())"
      ],
      "metadata": {
        "colab": {
          "base_uri": "https://localhost:8080/"
        },
        "id": "8jKwxPl1X11g",
        "outputId": "dce5733c-31cc-48fc-96a0-df2ce45fbbcc"
      },
      "execution_count": 88,
      "outputs": [
        {
          "output_type": "execute_result",
          "data": {
            "text/plain": [
              "0      1.0\n",
              "1      2.0\n",
              "2      3.0\n",
              "3      5.5\n",
              "4      4.0\n",
              "5      5.0\n",
              "6      6.0\n",
              "7      5.5\n",
              "8      7.0\n",
              "9      5.5\n",
              "10     8.0\n",
              "11     9.0\n",
              "12    10.0\n",
              "dtype: float64"
            ]
          },
          "metadata": {},
          "execution_count": 88
        }
      ]
    },
    {
      "cell_type": "markdown",
      "source": [
        "####isin()"
      ],
      "metadata": {
        "id": "pXSBftWrYdOG"
      }
    },
    {
      "cell_type": "code",
      "source": [
        "vk[(vk ==49) | (vk == 99)]"
      ],
      "metadata": {
        "colab": {
          "base_uri": "https://localhost:8080/"
        },
        "id": "eO3GqSOfYclz",
        "outputId": "4e7072c5-e59e-43d5-c5f6-e1a89f5ef1a5"
      },
      "execution_count": 90,
      "outputs": [
        {
          "output_type": "execute_result",
          "data": {
            "text/plain": [
              "match_no\n",
              "82    99\n",
              "86    49\n",
              "Name: runs, dtype: int64"
            ]
          },
          "metadata": {},
          "execution_count": 90
        }
      ]
    },
    {
      "cell_type": "code",
      "source": [
        "vk[vk.isin([49,99])]"
      ],
      "metadata": {
        "colab": {
          "base_uri": "https://localhost:8080/"
        },
        "id": "nyK532H_Yn9i",
        "outputId": "477d097f-7494-470d-cdc5-859d0c77f259"
      },
      "execution_count": 92,
      "outputs": [
        {
          "output_type": "execute_result",
          "data": {
            "text/plain": [
              "match_no\n",
              "82    99\n",
              "86    49\n",
              "Name: runs, dtype: int64"
            ]
          },
          "metadata": {},
          "execution_count": 92
        }
      ]
    },
    {
      "cell_type": "markdown",
      "source": [
        "####apply()\n",
        "##### Appply a custom condition"
      ],
      "metadata": {
        "id": "tXn5AGNBaVR9"
      }
    },
    {
      "cell_type": "code",
      "source": [
        "movies.apply(lambda name:name.split()[0].upper())"
      ],
      "metadata": {
        "colab": {
          "base_uri": "https://localhost:8080/"
        },
        "id": "H6fALUcdaWu7",
        "outputId": "e9410207-df5d-4834-d52a-ac412bc820c4"
      },
      "execution_count": 95,
      "outputs": [
        {
          "output_type": "execute_result",
          "data": {
            "text/plain": [
              "movie\n",
              "Uri: The Surgical Strike                  VICKY\n",
              "Battalion 609                             VICKY\n",
              "The Accidental Prime Minister (film)     ANUPAM\n",
              "Why Cheat India                          EMRAAN\n",
              "Evening Shadows                            MONA\n",
              "                                         ...   \n",
              "Hum Tumhare Hain Sanam                     SHAH\n",
              "Aankhen (2002 film)                     AMITABH\n",
              "Saathiya (film)                           VIVEK\n",
              "Company (film)                             AJAY\n",
              "Awara Paagal Deewana                     AKSHAY\n",
              "Name: lead, Length: 1500, dtype: object"
            ]
          },
          "metadata": {},
          "execution_count": 95
        }
      ]
    },
    {
      "cell_type": "code",
      "source": [
        "avg = subs.mean()\n",
        "subs.apply(lambda num: \"good\" if num> avg else \"bad\")"
      ],
      "metadata": {
        "colab": {
          "base_uri": "https://localhost:8080/"
        },
        "id": "ZpGI7MdsazTk",
        "outputId": "1aa5f325-c7b2-4e78-9bde-f447a4c35025"
      },
      "execution_count": 97,
      "outputs": [
        {
          "output_type": "execute_result",
          "data": {
            "text/plain": [
              "0       bad\n",
              "1       bad\n",
              "2       bad\n",
              "3       bad\n",
              "4       bad\n",
              "       ... \n",
              "360    good\n",
              "361    good\n",
              "362    good\n",
              "363    good\n",
              "364    good\n",
              "Name: Subscribers gained, Length: 365, dtype: object"
            ]
          },
          "metadata": {},
          "execution_count": 97
        }
      ]
    },
    {
      "cell_type": "markdown",
      "source": [
        "####Copy\n",
        "#####Copy helps us to not make changes in the original dataset.\n"
      ],
      "metadata": {
        "id": "muf119TQdVf_"
      }
    },
    {
      "cell_type": "code",
      "source": [
        "new = vk.head().copy()\n",
        "new"
      ],
      "metadata": {
        "colab": {
          "base_uri": "https://localhost:8080/"
        },
        "id": "enMMeXUKdXnh",
        "outputId": "723b5dd8-0562-4c1d-9789-f53bce0b5869"
      },
      "execution_count": 99,
      "outputs": [
        {
          "output_type": "execute_result",
          "data": {
            "text/plain": [
              "match_no\n",
              "1     1\n",
              "2    23\n",
              "3    13\n",
              "4    12\n",
              "5     1\n",
              "Name: runs, dtype: int64"
            ]
          },
          "metadata": {},
          "execution_count": 99
        }
      ]
    },
    {
      "cell_type": "code",
      "source": [
        "new[1] = 99"
      ],
      "metadata": {
        "id": "nWKjr_gieLhk"
      },
      "execution_count": 102,
      "outputs": []
    },
    {
      "cell_type": "code",
      "source": [
        "new"
      ],
      "metadata": {
        "colab": {
          "base_uri": "https://localhost:8080/"
        },
        "id": "kYmu1veIeR_C",
        "outputId": "b762420b-533a-4010-843a-a346daa2c277"
      },
      "execution_count": 103,
      "outputs": [
        {
          "output_type": "execute_result",
          "data": {
            "text/plain": [
              "match_no\n",
              "1    99\n",
              "2    23\n",
              "3    13\n",
              "4    12\n",
              "5     1\n",
              "Name: runs, dtype: int64"
            ]
          },
          "metadata": {},
          "execution_count": 103
        }
      ]
    },
    {
      "cell_type": "code",
      "source": [
        "vk.head()"
      ],
      "metadata": {
        "colab": {
          "base_uri": "https://localhost:8080/"
        },
        "id": "v8azAW_reUkY",
        "outputId": "e241b5ac-4126-4aeb-f3e1-ec0dbb1e7a9d"
      },
      "execution_count": 104,
      "outputs": [
        {
          "output_type": "execute_result",
          "data": {
            "text/plain": [
              "match_no\n",
              "1     1\n",
              "2    23\n",
              "3    13\n",
              "4    12\n",
              "5     1\n",
              "Name: runs, dtype: int64"
            ]
          },
          "metadata": {},
          "execution_count": 104
        }
      ]
    }
  ]
}